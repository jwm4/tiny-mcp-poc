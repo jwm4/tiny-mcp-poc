{
 "cells": [
  {
   "cell_type": "markdown",
   "id": "294e8591",
   "metadata": {},
   "source": [
    "# Some ways to use the Responses API in Llama Stack\n",
    "\n",
    "The development of this notebook was assisted by Google Gemini and Cursor using Claude 4 Sonnet.\n",
    "\n",
    "Before getting started, follow the following steps.\n",
    "\n",
    "First install Llama Stack and all of the other dependencies for this notebook.\n",
    "One way to do that is:\n",
    "\n",
    "- First install Python 3.12 or later (do not try this with older versions of Python: it will not work).\n",
    "- Then make a Python virtual environment.\n",
    "- Then within that virtual environment run:\n",
    "\n",
    "```\n",
    "pip install -r requirements.txt\n",
    "```\n",
    "\n",
    "Once everything is installed, run the Llama Stack server:\n",
    "\n",
    "```\n",
    "llama stack run run.yaml --image-type venv\n",
    "```\n",
    "\n",
    "Also run the National Parks Service Model Context Protocol (MCP) server:\n",
    "\n",
    "```\n",
    "python nps_mcp_server.py --transport sse --port 3005\n",
    "```\n",
    "\n",
    "See [README_NPS](../README_NPS.md) for more information about this server."
   ]
  },
  {
   "cell_type": "markdown",
   "id": "c16539c5",
   "metadata": {},
   "source": [
    "## Configuration\n",
    "\n",
    "Here we point to the locations of the servers we just started up above.  Also, we provide the model ID for the model we want to use.  The model ID should be one that that is specified in [run.yaml](./run.yaml).  In the [run.yaml](./run.yaml) included here, we have the following models defined:\n",
    "\n",
    "- `gpt-3.5-turbo` and `gpt4o` are models from OpenAI.  They will only work if you have OPENAI_API_KEY set in your environment to a [valid OpenAI API key](https://help.openai.com/en/articles/4936850-where-do-i-find-my-openai-api-key).\n",
    "- `Llama-3.3-70B-Instruct` is a a model from Meta Llama.  This will only work if you have an API key for the hosted [Llama API](https://www.llama.com/products/llama-api/).\n",
    "- `meta-llama/llama-3-3-70b-instruct` is the same model running on watsonx.ai (which has a somewhat different style for model IDs).  This will only work if you have a WATSONX_API_KEY and WATSONX_PROJECT_ID set (which requires an IBM Cloud account).  You may also need to set WATSONX_BASE_URL set if your watsonx.ai instance is running anywhere other than US South (which is the default).\n",
    "\n",
    "If you can't or don't want to get any of those API keys, you can update [run.yaml](./run.yaml) to use [another inference provider](https://llama-stack.readthedocs.io/en/latest/providers/inference/index.html#overview).  Llama Stack includes numerous providers for calling hosted models like the ones above.  It also includes providers to call models that you deploy and run yourself using a model serving capability, e.g., the [vLLM provider](https://llama-stack.readthedocs.io/en/latest/providers/inference/remote_vllm.html) or the [ollama provider](https://llama-stack.readthedocs.io/en/latest/providers/inference/remote_ollama.html)."
   ]
  },
  {
   "cell_type": "code",
   "execution_count": 1,
   "id": "dc10a094",
   "metadata": {},
   "outputs": [],
   "source": [
    "LLAMA_STACK_URL = \"http://localhost:8321/\"\n",
    "NPS_MCP_URL = \"http://localhost:3005/sse/\"\n",
    "LLAMA_STACK_MODEL_ID = \"gpt-4o\""
   ]
  },
  {
   "cell_type": "markdown",
   "id": "2bb41df0",
   "metadata": {},
   "source": [
    "## Using the Llama Stack client\n",
    "\n",
    "The most obvious way to use the Responses API in Llama Stack is via the Llama Stack client.  That's the way that is most seamlessly integrated with Llama Stack itself, so we would recommend it for most beginning users who don't already have a commitment to another client library.  Here are some examples using this approach."
   ]
  },
  {
   "cell_type": "code",
   "execution_count": 2,
   "id": "5c32f394",
   "metadata": {},
   "outputs": [],
   "source": [
    "from llama_stack_client import LlamaStackClient\n",
    "\n",
    "client = LlamaStackClient(base_url=\"http://localhost:8321\")"
   ]
  },
  {
   "cell_type": "markdown",
   "id": "af914958",
   "metadata": {},
   "source": [
    "### Plain model inference\n",
    "\n",
    "We will start with a simple but powerful use case in which the generative AI model provides a response directly without needing extra content or tools:"
   ]
  },
  {
   "cell_type": "code",
   "execution_count": 3,
   "id": "9edfb640",
   "metadata": {},
   "outputs": [
    {
     "name": "stderr",
     "output_type": "stream",
     "text": [
      "INFO:httpx:HTTP Request: POST http://localhost:8321/v1/openai/v1/responses \"HTTP/1.1 200 OK\"\n"
     ]
    },
    {
     "data": {
      "text/plain": [
       "ResponseObject(id='resp-535a913e-7373-4ee8-b620-28678e7364f1', created_at=1755107137, model='gpt-4o', object='response', output=[OutputOpenAIResponseMessage(content=[OutputOpenAIResponseMessageContentUnionMember2(annotations=[], text='The capital of France is Paris.', type='output_text')], role='assistant', type='message', id='msg_f30502f4-f37e-4449-9f08-7d8b46184761', status='completed')], parallel_tool_calls=False, status='completed', text=Text(format=TextFormat(type='text', description=None, name=None, schema_=None, strict=None)), error=None, previous_response_id=None, temperature=None, top_p=None, truncation=None, user=None)"
      ]
     },
     "execution_count": 3,
     "metadata": {},
     "output_type": "execute_result"
    }
   ],
   "source": [
    "simple_llama_stack_client_response = client.responses.create(\n",
    "    model=LLAMA_STACK_MODEL_ID,\n",
    "    input=\"What is the capital of France?\"\n",
    ")\n",
    "\n",
    "simple_llama_stack_client_response"
   ]
  },
  {
   "cell_type": "markdown",
   "id": "f1162ae9",
   "metadata": {},
   "source": [
    "The response object is a little complex to read, so we provide a function to print it out in a more readable format:"
   ]
  },
  {
   "cell_type": "code",
   "execution_count": 4,
   "id": "2de16116",
   "metadata": {},
   "outputs": [],
   "source": [
    "def print_simple_response(response):\n",
    "    print(f\"ID: {response.id}\")\n",
    "    print(f\"Status: {response.status}\")\n",
    "    print(f\"Model: {response.model}\")\n",
    "    print(f\"Created at: {response.created_at}\")\n",
    "    print(f\"Output type: {response.output[0].type}\")\n",
    "    print(f\"Response content: {response.output[0].content[0].text}\")"
   ]
  },
  {
   "cell_type": "code",
   "execution_count": 5,
   "id": "a6b1335f",
   "metadata": {},
   "outputs": [
    {
     "name": "stdout",
     "output_type": "stream",
     "text": [
      "ID: resp-535a913e-7373-4ee8-b620-28678e7364f1\n",
      "Status: completed\n",
      "Model: gpt-4o\n",
      "Created at: 1755107137\n",
      "Output type: message\n",
      "Response content: The capital of France is Paris.\n"
     ]
    }
   ],
   "source": [
    "print_simple_response(simple_llama_stack_client_response)"
   ]
  },
  {
   "cell_type": "markdown",
   "id": "f4006d6d",
   "metadata": {},
   "source": [
    "### Retrieval-Augmented Generation\n",
    "\n",
    "Next we will expand out to enabling the model to use context from a document to complement its own internal knowledge.\n",
    "\n",
    "To keep the example simple, we will just get one document, specifically a PDF file describing the US National Parks."
   ]
  },
  {
   "cell_type": "code",
   "execution_count": 6,
   "id": "6fdd42a2",
   "metadata": {},
   "outputs": [
    {
     "name": "stdout",
     "output_type": "stream",
     "text": [
      "Downloading PDF from: https://www.nps.gov/aboutus/upload/NPIndex2012-2016.pdf\n",
      "PDF saved as: NPIndex2012-2016.pdf\n"
     ]
    }
   ],
   "source": [
    "import requests\n",
    "from pathlib import Path\n",
    "\n",
    "# Download a sample PDF for demonstration\n",
    "def download_sample_pdf(url: str, filename: str) -> str:\n",
    "    \"\"\"Download a PDF from URL and save it locally\"\"\"\n",
    "    print(f\"Downloading PDF from: {url}\")\n",
    "    response = requests.get(url)\n",
    "    response.raise_for_status()\n",
    "    \n",
    "    filepath = Path(filename)\n",
    "    with open(filepath, 'wb') as f:\n",
    "        f.write(response.content)\n",
    "    \n",
    "    print(f\"PDF saved as: {filepath}\")\n",
    "    return str(filepath)\n",
    "\n",
    "pdf_url = \"https://www.nps.gov/aboutus/upload/NPIndex2012-2016.pdf\"\n",
    "pdf_path = download_sample_pdf(pdf_url, \"NPIndex2012-2016.pdf\")\n",
    "pdf_title = \"The National Parks: Index 2012-2016\""
   ]
  },
  {
   "cell_type": "markdown",
   "id": "4a2e5cdd",
   "metadata": {},
   "source": [
    "Then we create a vector store and load the PDF file into that vector store."
   ]
  },
  {
   "cell_type": "code",
   "execution_count": 7,
   "id": "069bc1b0",
   "metadata": {},
   "outputs": [
    {
     "name": "stderr",
     "output_type": "stream",
     "text": [
      "INFO:httpx:HTTP Request: POST http://localhost:8321/v1/openai/v1/vector_stores \"HTTP/1.1 200 OK\"\n"
     ]
    },
    {
     "data": {
      "text/plain": [
       "'vs_3bd59d59-2706-4165-8a95-dd3599ab988c'"
      ]
     },
     "execution_count": 7,
     "metadata": {},
     "output_type": "execute_result"
    }
   ],
   "source": [
    "import uuid\n",
    "\n",
    "vector_store_name= f\"vec_{str(uuid.uuid4())[0:8]}\"\n",
    "\n",
    "vector_store = client.vector_stores.create(name=vector_store_name)\n",
    "vector_store_id = vector_store.id\n",
    "\n",
    "vector_store_id"
   ]
  },
  {
   "cell_type": "code",
   "execution_count": 8,
   "id": "f58606af",
   "metadata": {},
   "outputs": [
    {
     "name": "stderr",
     "output_type": "stream",
     "text": [
      "INFO:httpx:HTTP Request: POST http://localhost:8321/v1/openai/v1/files \"HTTP/1.1 200 OK\"\n"
     ]
    },
    {
     "data": {
      "text/plain": [
       "File(id='file-02da3aef43cf435f92e1b913bbd3ddc4', bytes=6540612, created_at=1755107138, expires_at=1786643138, filename='NPIndex2012-2016.pdf', object='file', purpose='assistants')"
      ]
     },
     "execution_count": 8,
     "metadata": {},
     "output_type": "execute_result"
    }
   ],
   "source": [
    "file_create_response = client.files.create(file=Path(pdf_path), purpose=\"assistants\")\n",
    "file_create_response"
   ]
  },
  {
   "cell_type": "code",
   "execution_count": 9,
   "id": "2c9cf67a",
   "metadata": {},
   "outputs": [
    {
     "name": "stderr",
     "output_type": "stream",
     "text": [
      "INFO:httpx:HTTP Request: POST http://localhost:8321/v1/openai/v1/vector_stores/vs_3bd59d59-2706-4165-8a95-dd3599ab988c/files \"HTTP/1.1 200 OK\"\n"
     ]
    },
    {
     "data": {
      "text/plain": [
       "VectorStoreFile(id='file-02da3aef43cf435f92e1b913bbd3ddc4', attributes={}, chunking_strategy=ChunkingStrategyVectorStoreChunkingStrategyAuto(type='auto'), created_at=1755107138, object='vector_store.file', status='completed', usage_bytes=0, vector_store_id='vs_3bd59d59-2706-4165-8a95-dd3599ab988c', last_error=None)"
      ]
     },
     "execution_count": 9,
     "metadata": {},
     "output_type": "execute_result"
    }
   ],
   "source": [
    "file_ingest_response = client.vector_stores.files.create(\n",
    "    vector_store_id=vector_store_id,\n",
    "    file_id=file_create_response.id,\n",
    ")\n",
    "file_ingest_response"
   ]
  },
  {
   "cell_type": "markdown",
   "id": "0e55df43",
   "metadata": {},
   "source": [
    "Now we can uses the Responses API with that vector store to get answers from that PDF file."
   ]
  },
  {
   "cell_type": "code",
   "execution_count": 10,
   "id": "a39aa49c",
   "metadata": {},
   "outputs": [
    {
     "name": "stderr",
     "output_type": "stream",
     "text": [
      "INFO:httpx:HTTP Request: POST http://localhost:8321/v1/openai/v1/responses \"HTTP/1.1 200 OK\"\n"
     ]
    },
    {
     "data": {
      "text/plain": [
       "ResponseObject(id='resp-5f7287ac-571c-4be7-9279-00def69ec4cf', created_at=1755107165, model='gpt-4o', object='response', output=[OutputOpenAIResponseOutputMessageFileSearchToolCall(id='call_La0PfMIn1XoKXI5NQojXqWym', queries=['Bering Land Bridge national preserve designation date'], status='completed', type='file_search_call', results=[{'file_id': '', 'filename': '', 'text': ' for abundant wildlife and sport\\n \\nfishing for five species of salmon.\\n \\nEstablished Dec. 2, 1980. Length: 67 miles.\\n \\nAcreage—30,664.79 Federal: 26,417.85 \\nNonfederal: 4,246.94. \\nAniakchak  \\nN\\national Monument  and \\nAniakchak  \\nNational Preserve \\n1000 Silver Street, Bldg.603 \\nP\\nO Box 245 \\nKing Salmon, AK 99613 \\n907\\xad246\\xad3305 \\nwww.nps.gov/ania \\nThe Aniakchak Caldera, covering some 30 square miles, is \\no\\nne of the great dry calderas in the world. Located in the \\nvolcanically active Aleutian Mountains, the Aniakchak last \\nerupted in 1931. The crater includes lava flows, cinder cones, \\nand explosion pits, as well as Surprise Lake, source of the \\nAniakchak River, which cascades through a 1,500\\xadfoot gash \\nin the crater wall. NO FEDERAL FACILITIES. \\nProclaimed Aniakchak National Monument Dec. 1, 1978; \\nestablished as a national monument and national preserve \\nDec. 2, 1980. \\nAcreage—National monument: 137,176.00, all Federal. \\nNational preserve: 464,117.93 Federal: 458,809.35 \\nNonfederal: 5,308.58. \\nBering Land Bridge \\nN\\national Preserve \\nPO Box 220 \\nN\\nome, AK\\xa099762\\xad0220 \\n907\\xad443\\xad2522 \\nwww.nps.gov/bela \\nLocated on the Seward Peninsula, the preserve is a remnant \\no\\nf the land bridge that once connected Asia with North \\nAmerica over 13,000 years ago. Paleontological and archeo\\xad\\nlogical resources abound; large populations of migratory \\nbirds nest here. Ash explosion craters and lava flows, rare in \\nthe Arctic, are present. LIMITED FEDERAL FACILITIES. \\nProclaimed a national monument Dec. 1, 1978; established as \\na national preserve Dec. 2, 1980. \\nAcreage—2,697,391.01 Federal: 2,632,508.00 \\nNonfederal: 64,883.01 \\nCape Krusenstern \\nN\\national Monument \\nPO Box 1029 \\nK\\notzebue, AK 99752\\xad0029 \\n907\\xad442\\xad3890 \\nwww.nps.gov/cakr \\nArcheological sites located along a succession of 114 lateral \\nbeac\\nh ridges illustrate Eskimo communities of every known \\ncultural period in arctic Alaska, dating back some 4,000 \\nyears. Nearly pristine barrier islands, lagoons, and beaches \\nprovide habitat for fish, marine mammals, and migratory \\nbirds while allowing legal harvest by local subsistence users. \\nLIMITED FEDERAL FACILITIES. \\nProclaimed Dec. 1, 1978. Boundary change: Dec. 2, 1980. \\nAcreage—649,096.15 Federal: 627,190.67 \\nNonfederal: 21,905.48. \\n19 \\n \\n \\n \\n \\n \\n \\n \\n \\n \\n \\n \\n \\n   \\n   \\n  \\n \\n  \\n \\n \\n  \\n \\n \\n \\n  \\n   \\n \\n  \\n \\n \\n \\n \\n \\n \\n  \\n   \\n   \\n \\nDenali National Park and \\nDenali National Preserve \\nPO Box 9\\n \\nMcKinley Park, AK 99755\\xad\\n0009 \\n907\\xad683\\xad2253\\n \\nwww.nps.gov/dena\\n \\nThe park contains North America’s highest mountain, \\n20,310\\xadfoot Denali.', 'score': 3.0400664069376475}, {'file_id': '', 'filename': '', 'text': ' 2, 1980. Wilderness designated Dec. 2, 1980. Designated \\na Biosphere Reserve (portion) 1984. \\nAcreage—National park: 7,523,897.45 Federal: \\n7,359,650.20 Nonfederal: 164,247.25. National preserve: \\n948,608.07 Federal: 948,203.00 Nonfederal: 405.07. \\nGlacier Bay National Park \\nand Glacier Bay \\nNational Preserve \\nPO Box 140 \\nGustavus, AK 99826\\xad0140 \\n907\\xad697\\xad2232 \\nwww.nps.gov/glba \\nCovering 3.3 million acres of rugged mountains, dynamic \\nglaciers, temperate rainforests, wild coastlines, and deep \\nsheltered fjords, Glacier Bay is a highlight of Alaska’s Inside \\nPassage offering limitless opportunities for adventure and \\ninspiration. \\nProclaimed Glacier Bay National Monument Feb. 26, 1925; \\nestablished as a national park and national preserve Dec. \\n2, 1980. Boundary changes: April 18, 1939; March 31, 1955; \\nDecember 1, 1978. Wilderness designated Dec. 2, 1980. \\nDesignated a Biosphere Reserve 1986. Designated a World \\nHeritage site Dec, 14, 1992. \\nAcreage—National park: 3,223,383.43 Federal: \\n3,222,284.20 Nonfederal: 1,099.23 Wilderness area: \\n2,770,000. National preserve: 58,406.00, all Federal. \\n20 \\n  \\n \\n \\n \\n \\n       \\n  \\n  \\n   \\n   \\n \\n  \\n \\n \\n \\n \\n \\n \\n  \\n \\n \\n \\n \\n \\n  \\n \\n  \\n  \\n \\n \\n \\n \\n \\n   \\n \\nKatmai National Park and \\nKatmai National Preserve \\nPO Box 7\\n \\nKing Salmon, AK 99613\\xad\\n0007 \\n907\\xad246\\xad3305\\n \\nwww.nps.gov/katm\\n \\nV ariety marks this vast land: lakes, forests, mountains, and \\nmarshlands abound in wildlife. The Alaska brown bear, the \\nworld’s largest carnivore, thrives here, feeding on red salmon \\nthat spawn in the lakes and streams. Wild rivers and renowned \\nsport fishing add to the attractions of this subarctic environ\\xad\\nment. Here, in 1912, Novarupta V olcano erupted violently, \\nforming the ash\\xadfilled “V alley of T en Thousand Smokes” \\nwhere steam rose from countless fumaroles. \\nProclaimed Katmai National Monument Sept. 24, 1918; estab\\xad\\nlished as national park and national preserve Dec. 2, 1980. \\nBoundary changes: April 24, 1931; Aug. 4, 1942; Jan. 20, 1969; \\nDec. 1, 1978; Dec. 2, 1980. Wilderness designated Dec. 2, 1980. \\nAcreage—National park: 3,674,368.02 Federal: \\n3,611,403.12 Nonfederal: 62,964.90 Wilderness area: \\n3,473,000. National preserve: 418,698.80 Federal: \\n333,400.98 Nonfederal: 85,297.82. \\nKenai Fjords \\nNational Park \\nPO Box 1727 \\nSeward, AK 99664\\xad1727 \\n907\\xad422\\xad0500 \\nwww.nps.gov/kefj \\nThe park preserves the 800\\xadsquare\\xadmile Harding Icefield, \\nthe largest icefield solely contained within the United States, \\nits outflowing glaciers, and coastal fjords and islands in their', 'score': 2.9052492608394345}, {'file_id': '', 'filename': '', 'text': 'America over 13,000 years ago. Paleontological and archeo\\xad\\nlogical resources abound; large populations of migratory \\nbirds nest here. Ash explosion craters and lava flows, rare in \\nthe Arctic, are present. LIMITED FEDERAL FACILITIES. \\nProclaimed a national monument Dec. 1, 1978; established as \\na national preserve Dec. 2, 1980. \\nAcreage—2,697,391.01 Federal: 2,632,508.00 \\nNonfederal: 64,883.01 \\nCape Krusenstern \\nN\\national Monument \\nPO Box 1029 \\nK\\notzebue, AK 99752\\xad0029 \\n907\\xad442\\xad3890 \\nwww.nps.gov/cakr \\nArcheological sites located along a succession of 114 lateral \\nbeac\\nh ridges illustrate Eskimo communities of every known \\ncultural period in arctic Alaska, dating back some 4,000 \\nyears. Nearly pristine barrier islands, lagoons, and beaches \\nprovide habitat for fish, marine mammals, and migratory \\nbirds while allowing legal harvest by local subsistence users. \\nLIMITED FEDERAL FACILITIES. \\nProclaimed Dec. 1, 1978. Boundary change: Dec. 2, 1980. \\nAcreage—649,096.15 Federal: 627,190.67 \\nNonfederal: 21,905.48. \\n19 \\n \\n \\n \\n \\n \\n \\n \\n \\n \\n \\n \\n \\n   \\n   \\n  \\n \\n  \\n \\n \\n  \\n \\n \\n \\n  \\n   \\n \\n  \\n \\n \\n \\n \\n \\n \\n  \\n   \\n   \\n \\nDenali National Park and \\nDenali National Preserve \\nPO Box 9\\n \\nMcKinley Park, AK 99755\\xad\\n0009 \\n907\\xad683\\xad2253\\n \\nwww.nps.gov/dena\\n \\nThe park contains North America’s highest mountain, \\n20,310\\xadfoot Denali. Large glaciers of the Alaska Range, cari\\xad\\nbou, Dall sheep, moose, grizzly bears, and timber wolves are \\nhighlights of this national park and preserve. \\nEstablished as Mt. McKinley National Park Feb. 26, 1917. \\nSeparate Denali National Monument proclaimed Dec. 1, \\n1978. Both incorporated into and established as Denali \\nNational Park and Denali National Preserve Dec. 2, 1980. \\nWilderness designated Dec. 2, 1980. Other boundary chang\\xad\\nes: Jan. 30, 1922; March 19, 1932. Designated a Biosphere \\nReserve 1976. \\nAcreage—National park: 4,740,911.16 Federal: \\n4,732,650.51 Nonfederal: 8,260.65. Wilderness area: \\n1,900,000. National preserve: 1,334,117.80 Federal: \\n1,304,241.97 Nonfederal: 29,875.83. \\nGates of the Arctic \\nNational Park and \\nGates of the Arctic \\nNational Preserve \\n4175 Geist Road \\nFairbanks, AK 99709 \\n907\\xad457\\xad5752 \\nwww.nps.gov/gaar \\nLying north of the Arctic Circle, the park and preserve include \\npart of the Central Brooks Range, the northernmost extension \\nof the Rocky Mountains. Often called the greatest wilderness \\nin North America, these NPS units are characterized by jagged \\npeaks, gentle arctic valleys, wild rivers, and many lakes. With \\nadjacent Kobuk V alley National Park and Noatak National \\nPreserve, they form one of the largest park areas in the world. \\nProclaimed Gates of the Arctic National Monument Dec. 1, \\n1978; established as a national park and national preserve \\nDec.', 'score': 2.7607343620119154}, {'file_id': '', 'filename': '', 'text': ' Large glaciers of the Alaska Range, cari\\xad\\nbou, Dall sheep, moose, grizzly bears, and timber wolves are \\nhighlights of this national park and preserve. \\nEstablished as Mt. McKinley National Park Feb. 26, 1917. \\nSeparate Denali National Monument proclaimed Dec. 1, \\n1978. Both incorporated into and established as Denali \\nNational Park and Denali National Preserve Dec. 2, 1980. \\nWilderness designated Dec. 2, 1980. Other boundary chang\\xad\\nes: Jan. 30, 1922; March 19, 1932. Designated a Biosphere \\nReserve 1976. \\nAcreage—National park: 4,740,911.16 Federal: \\n4,732,650.51 Nonfederal: 8,260.65. Wilderness area: \\n1,900,000. National preserve: 1,334,117.80 Federal: \\n1,304,241.97 Nonfederal: 29,875.83. \\nGates of the Arctic \\nNational Park and \\nGates of the Arctic \\nNational Preserve \\n4175 Geist Road \\nFairbanks, AK 99709 \\n907\\xad457\\xad5752 \\nwww.nps.gov/gaar \\nLying north of the Arctic Circle, the park and preserve include \\npart of the Central Brooks Range, the northernmost extension \\nof the Rocky Mountains. Often called the greatest wilderness \\nin North America, these NPS units are characterized by jagged \\npeaks, gentle arctic valleys, wild rivers, and many lakes. With \\nadjacent Kobuk V alley National Park and Noatak National \\nPreserve, they form one of the largest park areas in the world. \\nProclaimed Gates of the Arctic National Monument Dec. 1, \\n1978; established as a national park and national preserve \\nDec. 2, 1980. Wilderness designated Dec. 2, 1980. Designated \\na Biosphere Reserve (portion) 1984. \\nAcreage—National park: 7,523,897.45 Federal: \\n7,359,650.20 Nonfederal: 164,247.25. National preserve: \\n948,608.07 Federal: 948,203.00 Nonfederal: 405.07. \\nGlacier Bay National Park \\nand Glacier Bay \\nNational Preserve \\nPO Box 140 \\nGustavus, AK 99826\\xad0140 \\n907\\xad697\\xad2232 \\nwww.nps.gov/glba \\nCovering 3.3 million acres of rugged mountains, dynamic \\nglaciers, temperate rainforests, wild coastlines, and deep \\nsheltered fjords, Glacier Bay is a highlight of Alaska’s Inside \\nPassage offering limitless opportunities for adventure and \\ninspiration. \\nProclaimed Glacier Bay National Monument Feb. 26, 1925; \\nestablished as a national park and national preserve Dec. \\n2, 1980. Boundary changes: April 18, 1939; March 31, 1955; \\nDecember 1, 1978. Wilderness designated Dec. 2, 1980. \\nDesignated a Biosphere Reserve 1986. Designated a World \\nHeritage site Dec, 14, 1992. \\nAcreage—National park: 3,223,383.43 Federal: \\n3,222,284.20 Nonfederal: 1,099.23 Wilderness area: \\n2,770,000. National preserve: 58,406.00, all Federal. \\n20 \\n  \\n \\n \\n \\n \\n       \\n  \\n  \\n   \\n   \\n \\n  \\n \\n \\n \\n \\n \\n \\n  \\n \\n \\n \\n \\n \\n  \\n \\n  \\n  \\n \\n \\n \\n \\n \\n   \\n \\nKatmai National Park and \\nKatmai National Preserve \\nPO Box 7', 'score': 2.736387962200917}, {'file_id': '', 'filename': '', 'text': ' . 19, 1962; Nov .  \\n9, 2000. Wilderness designated Oct. 23, 1970. Designated a  \\nnational preserve Aug. 21, 2002. \\nAcreage—464,303.97, all Federal.  Wilderness area: 43,243. \\n51 \\n \\n \\n \\n \\n \\n \\n \\n \\n \\n \\n  \\n \\n \\n \\n \\n \\n  \\n \\n  \\n \\n    \\n  \\nHagerman Fossil Beds \\nNational Monument \\n221 North State Street \\n \\nPO Box 570 \\nHagerman, ID 83332\\xad0570 \\n208\\xad993\\xad4100 \\nwww.nps.gov/hafo \\nExtraordinary fossils from the Pliocene Epoch, 3.5 million  \\ny\\nears ago, are covered in sediment from the Snake River  \\nPlain. The Hagerman Horse Quarry, a National Natural\\nLandmark, and over 200 fossilized plant and animal species  \\nare here. LIMITED FEDERAL FACILITIES. \\nAuthorized Nov . 18, 1988. \\nAcreage—4,351.15  Federal: 4,334.65  Nonfederal: 16.50. \\nMinidoka \\nNational Historic Site \\n \\n221 North State Street  \\nPO Box 570  \\nHagerman, ID 83332 \\n208\\xad837\\xad4793 \\n \\nwww.nps.gov/miin \\n(Also in Washington) \\nThe history and cultural resources associated with the reloca\\xad\\nti\\non and internment of Japanese Americans during World War\\nII are interpreted here. UNDER DEVELOPMENT . Includes\\nBainbridge Island Japanese American Exclusion Memorial in\\nWashington. \\nProclaimed Jan. 17, 2001; redesignated a national historic site\\nMay 8, 2008.  \\nAcreage—396.30 Federal: 388.30 Nonfederal: 8.00. \\nNez Perce \\n \\nNational Historical Park  \\n36063 U.S. Highway 95 \\nSpalding, ID 83540\\xad9715 \\n208\\xad843\\xad7001 \\nwww.nps.gov/nepe \\n(Also in Montana, Oregon, \\nand Washington) \\nThe park’s 38 sites, spreading across Idaho, Washington,\\nOr\\negon, and Montana, commemorate the Nez Perce. Six\\nsites are owned and managed by  the National Park Service  \\nat Spalding, Canoe Camp, Buffalo Eddy, East Kamiah, White  \\nBird Battlefield, and Big Hole National Battlefield. \\nAuthorized May 15, 1965. Boundary change: Oct. 30, 1992. \\nAcreage—4,564.93  Federal: 3,858.63  Nonfederal: 706.30. \\nY ellowstone National Park \\n(See Wyoming) \\nIllinois \\nLincoln Home \\nNational Historic Site \\n413 S. Eighth Street \\nS\\npringfield, IL 62701\\xad1905\\n217\\xad492\\xad4241 \\n \\nwww.nps.gov/liho \\nAbraham Lincoln resided in this house for 17 years before he \\nbecam\\ne president. The surrounding historic district preserves \\nthe 1860s environment in which the Lincoln family lived. \\nAuthorized Aug. 18, 1971. \\nAcreage—12.24 Federal: 12.03 Nonfederal: 0.21. \\nPullman National  \\nMon\\nument \\n11111 S. Forrestville Avenue \\nChi\\ncago, IL 60628 \\n773\\xad660\\xad2341 \\nwww.nps.gov/pull \\nGeorge Pullman created an integrated manufacturing com\\xad\\np\\nlex and residential community south of Chicago in the 1880s, \\nwith the intention of retaining skilled workers for his varied \\nrail cars assembled there.  The town of Pullman’s design and \\narchitecture still resonate with today’s urban planners.  The \\nname “Pull', 'score': 2.7340891731495267}, {'file_id': '', 'filename': '', 'text': ' Memorial (See\\nalso Independence NHP), Pennsylvania 119\\n \\n\\n \\nBent’s Old Fort National Historic Site,\\nColorado 38\\n \\n\\n \\nBering Land Bridge National Preserve,\\nAlaska 19\\n \\n\\n \\nBethune, Mary (See Mary McLeod Bethune\\nCouncil House NHS)\\n \\n\\n \\nBig Bend National Park, T exas 99\\n \\nBig Cypress National Preserve, Florida\\n46\\n \\n\\n \\nBig Hole National Battlefield, Montana\\n70\\n \\n\\n \\nBighorn Canyon National Recreation Area,\\nMontana 71\\n \\n\\n \\nBig South Fork National River and\\nRecreation Area, T ennessee 96\\n \\n\\n \\nBig Thicket National Preserve, T exas 99\\n \\nBiscayne National Park, Florida 46\\n \\nBlack Canyon of the Gunnison National\\nPark, Colorado 38\\n \\n\\n \\nBlackstone River Valley  National Historical\\n \\nPark, Rhode Island 93\\n \\n \\nBlue Ridge  National Heritage Area, North\\nCarolina 125\\n \\n\\n \\nBlue Ridge Parkway, North Carolina 85\\n \\nBluestone National Scenic River, W est\\n  \\nVirginia 111, 134\\n \\nBooker T.  Washington  National  Monument,\\nV\\nirginia,  104\\n \\n\\n \\nBoston African American National Historic\\nSite, Massachusetts 62\\n \\n\\n \\nBoston Harbor Islands National Recreation\\nArea, Massachusetts, 62\\n \\n\\n \\nBoston National Historical Park,\\nMassachusetts 63\\n \\n \\nBrices Cross Roads National Battlefield Site,\\n \\nMississippi 68\\n \\n \\nBrown v. Board of Education National\\n \\nHistoric Site, Kansas 55\\n \\n \\nBryce Canyon National Park, Utah 101\\n \\nBuck Island Reef National Monument,\\n \\n149 \\n  \\n \\n \\n \\n \\n \\n \\n \\n \\n \\n \\n \\n \\n \\n \\n \\nVirgin Islands 107\\n \\nBuffalo National River, Arkansas 28\\n \\nCabrillo National Monument, California 31\\nCache La Poudre River Corridor, Colorado\\n126\\n \\n\\n \\nCache La Poudre Wild and Scenic River,\\n \\nColorado 134\\n \\n \\nCALIFORNIA 31\\n \\nCalifornia National Historic T rail, California\\n142\\n \\n\\n \\nCanaveral National Seashore, Florida 46\\n \\nCane River Creole National Historical Park,\\nLouisiana 57\\n \\n\\n \\nCane River National Heritage Area, Louisi\\xad\\nana 126\\n \\n\\nCanyon de Chelly National Monument,\\nArizona 24\\n \\n\\n \\nCanyonlands National Park, Utah 101\\n \\nCape Canaveral (See Canaveral NHP)\\n \\nCape Cod National Seashore, Massachusetts\\n63\\n \\n\\n \\nCape Hatteras National Seashore, North\\nCarolina 85\\n \\n\\n \\nCape Krusenstern National Monument,\\nAlaska 19\\n \\n\\n \\nCape Lookout National Seashore, North\\nCarolina 85\\n \\n\\n \\nCapitol Reef National Park, Utah 101\\n \\nCapulin Volcano National Monument, New\\nMexico 77\\n \\n\\n \\nCaptain John Smith Chesapeake National\\n \\nHistoric T rail, Maryland 142\\n \\n \\nCarl Sandburg Home National Historic Site,\\n \\nNorth Carolina 85\\n \\n \\nCarlsbad Caverns National Park, New\\nMexico 77\\n \\n\\n \\nCarter, Jimmy (See Jimmy Carter NHS)\\n \\nCarter G. Woodson Home National Historic\\n \\nSite, District of Columbia 41\\n \\n \\nCarver, George Washington (See George\\n  \\nWashington Carver NM; T uskegee Institute\\nNHS)\\n \\n \\nCasa Grande Ruins National Monument,\\n \\nArizona 24\\n \\n \\nCastillo de San Marcos National Monu\\xad\\nment, Florida 46\\n \\nCastle Clinton National Monument, New\\n \\nY ork 80\\n \\n \\nCatoctin Mountain Park, Maryland 59\\n \\nCedar Breaks National Monument, Utah 101\\n \\nCedar Creek and Belle Grove  National His\\xad\\ntorical Park, Virginia 104\\n \\n\\nCéasar E. Chávez', 'score': 2.4829545668970936}, {'file_id': '', 'filename': '', 'text': '; established as a national preserve Dec. 2, 1980.\\n \\nAcreage—2,526,512.44 Federal: 2,195,546.98 Nonfederal: \\n330,965.46. \\nAmerican Samoa \\nNational Park of \\nAmerican Samoa \\nMHJ Building, 2nd Floor \\nPago Pago AS, 96799 \\n684\\xad633\\xad7082 \\nwww.nps.gov/npsa \\nPaleotropical rain forests, coral reefs, and beaches on three \\nvolcanic islands in the South Pacific are home to a variety of \\nocean life, birds, and two species of fruit bats\\xadthe only native \\nmammals. Also, experience 3,000\\xadyear\\xadold Samoan culture \\nand its traditions. Overnights in villages are encouraged. \\nAuthorized Oct. 31, 1988; 50\\xadyear lease signed Sept. 9, 1993. \\nAcreage—8,256.67, all Nonfederal. Water area: 2,500. \\n23 \\n \\n \\n \\n \\n \\n \\n \\n  \\n \\n \\n \\n  \\n \\n \\n \\n \\n \\n \\n \\n \\n \\n \\n \\n \\n \\nArizona \\nCanyon de Chelly \\nNational Monument \\nPO Box 588 \\nChinle, AZ \\n86503\\xad0588 \\n928\\xad674\\xad5500 \\nwww.nps.gov/cach \\nLocated on Navajo trust land and having a resident com\\xad\\nm\\nunity, Canyon de Chelly is unique among national park \\nunits. The National Park Service, Navajo Nation, and canyon \\ncommunity work in conjunction to manage park resources \\nand enable traditional and contemporary lifeways.  Canyon \\nde Chelly National Monument preserves one of the longest, \\ncontinually inhabited locations by American Indian com\\xad\\nmunities in the United States, spanning at least 5,000 years. \\nT séyi’, the place within the rock, sustains a living community \\nconnected to a landscape of great historical and spiritual \\nsignificance. It is essential to the traditional lives and cultural \\nidentity of many native peoples. \\nAuthorized Feb. 14, 1931; proclaimed April 1, 1931.  Bound \\xad\\nary change: March 1, 1933 \\nAcreage—83,840.00, all Nonfederal. \\nCasa Grande Ruins \\nN\\national Monument \\n1100 Ruins Drive \\nCoo\\nlidge, AZ 85228\\xad3200 \\n520\\xad723\\xad3172 \\nwww.nps.gov/cagr \\nThis multi\\xadstoried, earthen\\xadwalled structure surrounded by\\n \\nt\\nhe remains of smaller buildings and a compound wall was\\n \\nconstructed by the Hohokam, who farmed the Gila V alley\\n \\nin the early 1200s. Casa Grande was abandoned by the mid\\xad\\n1400s.\\n \\nAuthorized as Casa Grande Ruin Reservation March 2, 1889;\\n \\nproclaimed June 22, 1892; redesignated Aug. 3, 1918. Bound\\xad\\nary changes: Dec. 10, 1909; June 7, 1926.\\n \\nAcreage—472.50, all Federal. \\nChiricahua \\nN\\national Monument \\n12856 E. Rhyolite Creek Rd. \\nW\\nillcox, AZ 85643\\xad9737 \\n520\\xad824\\xad3560 \\nwww.nps.gov/chir \\nThe rock formations here were created millions of years ago \\nb\\ny volcanic activity, resulting in a landscape of rare beauty . \\nFaraway Ranch, a cattle ranch/guest ranch, has been restored. \\nProclaimed April  18, 1924; transferred  from  U.S. Forest \\nService, Aug. 10, 1933. Boundary changes: June 10, 1938; Nov . \\n10, ', 'score': 2.4552335408945076}, {'file_id': '', 'filename': '', 'text': ',\\n \\nand  natural values.\\n \\nAuthorized Dec. 2, 1980. Length: 208 miles.\\n \\n134 \\n \\n \\n \\n \\n \\n \\n \\n \\n \\n \\n \\n \\n \\n \\n  \\n \\n \\n \\n \\n \\n  \\n \\n \\n \\n \\n  \\n \\n \\n  \\n \\n \\n  \\n \\nChilikadrotna Wild River \\nLake Clark National Park \\nand Preserve \\n4230 University Drive \\nSuite 311 \\nAnchorage, AK 99508\\xad4626 \\nThe river lies within Lake Clark National Park and Preserve,\\n \\nAlaska. Long stretches of swift water and outstanding fish\\xad\\ning are exceptional features.  The river was designated for\\n \\noutstandingly remarkable fish and scenic, recreational, and\\n \\nhistorical values.\\n \\nAuthorized Dec. 2, 1980. Length: 11 miles.\\n \\nEightmile National Wild \\nand Scenic River \\nc/o National Park Service \\nNortheast Region \\nNational Wild and Scenic \\nRivers Division \\n200 Chestnut Street \\nPhiladelphia, PA 19106\\xad2818 \\nLocated in Connecticut, this is a 62\\xadsquare\\xad\\nmile watershed of rolling forested landscape with\\n \\nover 150 miles of pristine rivers and streams and\\n \\na variety of historic features.  Most notable is that the overall\\n \\necosystem is healthy and intact throughout essentially all of its\\n \\nrange.  The river was designated for outstandingly remarkable\\n \\nfish, wildlife, and scenic, recreational, geological, historical,\\n \\nbotanical, ecological, hydrological, and traditionally cultural\\n \\nvalues.\\n \\nAuthorized: May 8, 2008. Length: 25.3 miles.\\n \\nFarmington National \\nWild and Scenic River \\nc/o National Park Service \\nNortheast Region \\nNational Wild and Scenic \\nRivers Division \\n200 Chestnut Street \\nPhiladelphia, PA 19106\\xad2818 \\nThe Farmington River V alley is an important habitat for\\n \\nwildlife and is currently the only place in Connecticut with\\n \\nnesting bald eagles.  The W est Branch is recognized as one\\n \\nof the most valuable trout fisheries in Connecticut and\\n \\nthe northeast region, and it is also essential to the Atlantic\\n \\nsalmon recovery plans for the Connecticut River.  The river\\n \\nwas designated for outstandingly remarkable fish, wildlife,\\n \\nand scenic, recreational, geological, historical, ecological,\\n \\nhydrological, and traditionally cultural use values.\\n \\nAuthorized Aug. 26, 1994. Length: 14 miles.\\n \\nFlathead River \\nFlathead National Forest \\n1935 3rd Avenue E. \\nKalispell, MT 59901 \\nGlacier National Park \\nPO Box 128 \\nW est Glacier, MT 59936\\xad0128 \\nCoursing the western boundary of Glacier National Park,\\n \\nMontana, this is a noted spawning stream.  The designation\\n \\nincludes portions of the North, Middle, and South Fork\\n \\nFlathead Rivers, and Bear Creek.  The river was designated\\n \\nfor outstandingly remarkable fish, wildlife, and scenic, recre\\xad\\national, geological, historical, botanical, and ethnographical\\n \\nvalues.\\n \\nAuthorized Oct. 12, 1976. Length: 219 miles.\\n \\nGreat Egg Harbor Scenic \\nand Recreational River \\nc/o National Park Service \\nNortheast Region \\nNational Wild and Scenic \\nRivers Division \\n200 Chestnut Street \\nPhiladelphia, PA 19106\\xad2818 \\nwww.nps.gov/greg \\nSee Great Egg Harbor Scenic and Recreational River, New\\n \\nJersey, a unit of the National Park System.\\n \\nJohn Wild River \\nGates of the Arctic \\nNational Park and Preserve \\n201 First Avenue \\nDoyon Bldg. \\nFairbanks, AK 99701\\xad4848 \\nThe river flows south through the Anaktuvuk Pass of Alaska’s \\nBrooks Range, located within the Gates of the Arctic Nation\\xad\\nal Park and Preserve. The river was designated for outstand \\xad\\ningly remarkable wildlife', 'score': 2.4417047761223354}, {'file_id': '', 'filename': '', 'text': ' several agencies. Established Oct. 27, 1972. Boundary\\nchanges: Jan. 3, 1975; July 1, 2003. \\nAcreage—1,254,116.62 F ederal: 1,239,763.84 N onfederal:  \\n14,352.78. \\nGolden Spike \\nNational Historic Site \\nPO Box 897 \\nBrigham City, UT \\n84302\\xad0897 \\n435\\xad471\\xad2209 \\nwww.nps.gov/gosp \\nThe first transcontinental railroad in the United States was \\ncompleted here on May 10, 1869, after the Central Pacific and \\nUnion Pacific railroads built 1,776 miles of hand\\xadmade line. \\nDesignated April 2, 1957; National Park Service administra \\xad\\ntion authorized July 30, 1965. Boundary changes: July 30,  \\n1965; Sept. 8, 1980. \\nAcreage—2,735.28  Federal: 2,203.20  Nonfederal: 532.08. \\nHovenweep \\n \\nNation\\nal Monument  \\nMcElmo Rout\\ne \\nCortez, CO 81321\\xad8901  \\n970\\xad562\\xad4282 \\nwww.nps.gov/ho\\nve \\n(Also in Colorado) \\nThe park protects Ancestral Puebloan towers, pueblos, and\\ncliff dwellings spread over 26 miles on the Utah\\xadColorado\\nborder. \\nProclaimed March 2, 1923.  Boundary changes:  April 26,\\n1951; Nov . 20, 1952; April 6, 1956. Designated an Interna \\xad\\ntional Dark Sky Park 2014.  \\nAcreage—784.93, all Federal. \\nNatural Bridges \\n \\nNation\\nal Monument  \\nHC 60, PO Box 1  \\nLake P\\nowell, UT 84533\\xad0101 \\n435\\xad692\\xad1234 \\nwww.nps.gov/nabr \\nThree natural bridges carved out of sandstone, including the\\nsecond and third largest in the world, are protected here.\\nAlso present are Ancestral Puebloan rock art and remains of\\nancient structures. \\nProclaimed April 16, 1908. Boundary changes: April 16, 1908;  \\nSept. 25, 1909; Feb. 11, 1916; Aug. 14, 1962. Designated an\\nInternational Dark Sky Park 2007. \\nAcreage—7,636.49, all Federal. \\n \\nRainbow Brid\\nge \\nNational Monument \\nc/o Glen Canyon \\nNational Recreation Area \\nPO Box 1507 \\nPage, AZ 86040\\xad1507 \\n928\\xad608\\xad6200 \\nwww.nps.gov/rabr \\nRainbow Bridge National Monument protects an extraor \\xad\\ndinary natural bridge which rises 290 feet above the floor of  \\nBridge Canyon, accessible by boat from Lake Powell. Rain\\xad\\nbow Bridge is a sacred site for American Indians. \\nProclaimed May 30, 1910. \\nAcreage—160.00, all Federal. \\nTimpanogos Cave \\nNational Monument \\nR.R. 3, Box 200 \\n \\nAmerican Fo\\nrk, UT 84003 \\n801\\xad756\\xad5239 \\nwww.nps.gov/tica \\nThree fault\\xadcontrolled limestone caves are notable for their  \\ndiverse and colorful formations, and abundant helictites— \\nwater\\xadcreated formations that grow in all directions and\\nshapes, regardless of gravity . \\nProclaimed Oct. 14, 1922; transferred from U.S. Forest Ser \\xad\\nvice, Aug. 10, 1933. Authorized joint visitor center with U.S.  \\nForest Service Dec. 6', 'score': 2.41886811059666}, {'file_id': '', 'filename': '', 'text': ',410,293.68 Federal: \\n1,259,128.14 Nonfederal: 151,165.54. \\nNoatak National Preserve \\nPO Box 1029 \\nKotzebue, AK 99752\\xad0129 \\n907\\xad442\\xad3890 \\nwww.nps.gov/noat \\nThe Noatak River basin is the largest untrammeled moun\\xad\\ntain\\xadringed river basin in the nation. The preserve is a\\n \\ntransition zone and migration route for plants and animals\\n \\nbetween subarctic and arctic environments. It is specially\\n \\ndesignated as a place for scientific study of the archeologi\\xad\\ncal, plant and wildlife resources that it protects. LIMITED\\n \\nFEDERAL FACILITIES.\\n \\nProclaimed a national monument Dec. 1, 1978; established as\\n \\na national preserve Dec. 2, 1980. Wilderness designated Dec.\\n \\n2, 1980. Designated a Biosphere Reserve 1976.\\n \\nAcreage—6,587,071.39 Federal: 6,549,227.93 Nonfederal: \\n37,843.46. Wilderness area: 5,800,000. \\nSitka \\nNational Historical Park \\n106 Metlakatla Street \\nSitka, AK 99835\\xad7665 \\n907\\xad747\\xad0110 \\nwww.nps.gov/sitk \\nThe site of the 1804 fort and battle that marked the last major\\n \\nTlingit Indian resistance to Russian colonization is preserved\\n \\nhere. Tlingit totem poles and crafts are exhibited. The Rus\\xad\\nsian Bishop’s House, built in 1842, is the oldest intact piece\\n \\nof Russian\\xadAmerican architecture.\\n \\nProclaimed a national monument March 23, 1910; redesig\\xad\\nnated Oct. 18, 1972. Boundary changes: Feb. 25, 1952; Oct.\\n \\n18, 1972.\\n \\nAcreage—116.16 Federal: 109.89 Nonfederal: 6.27. \\nWorld War II \\nValor in the Pacific \\nNational Monument \\n(Also in Hawaii and \\nCalifornia) \\nThis monument comprises nine historic sites representing \\nvarious aspects of World War II history in the Pacific. Five \\nsites are in the Pearl Harbor area: the USS Arizona Memorial \\nand visitor center; the USS Utah Memorial; the USS Okla \\xad\\nhoma Memorial; the six chief  petty officer bungalows on \\nFord Island; and mooring quays F6, F7, and F8, which con\\xad\\nstituted part of Battleship Row. Three sites are located in \\nAlaska’s Aleutian Islands: the crash site of a consolidated \\nB\\xad24D liberator bomber on Atka Island, the Kiska Island site \\nof Imperial Japan’s occupation that began in June 1942; and \\nAttu Island, the site of the only land battle fought in North \\nAmerica during World War II. The last of the nine designa \\xad\\ntions is the T ule Lake Segregation Center National Historic \\nLandmark and nearby Camp T ule Lake in California—both \\nof which housed Japanese Americans relocated from the \\nwest coast of the United States. \\nProclaimed Dec. 5, 2008. \\nAcreage—59.03 Federal: 56.66 Nonfederal: 2.37. \\n22 \\n \\n \\n \\n \\n \\n \\n \\n \\n \\n \\n \\n  \\n   \\n   \\n \\n \\n \\n \\n \\n \\n \\n    \\n \\n   \\n \\n \\nWrangell-St. Elias \\nNational Park and \\nWrangell-St. Elias \\nNational Preserve \\nPO Box 439 \\nCopper Cen\\nter, AK 99573 \\n907\\xad822\\xad5234 \\nwww.nps.gov/wrst \\nThe Chugach, Wrangell, St. Elias, and Alaska mountain rang\\xad\\nes c', 'score': 2.4059806715205365}]), OutputOpenAIResponseMessage(content=[OutputOpenAIResponseMessageContentUnionMember2(annotations=[], text='The Bering Land Bridge was designated as a national preserve on December 2, 1980.', type='output_text')], role='assistant', type='message', id='msg_0fb85567-1f97-41d6-b079-89c0328dcd5b', status='completed')], parallel_tool_calls=False, status='completed', text=Text(format=TextFormat(type='text', description=None, name=None, schema_=None, strict=None)), error=None, previous_response_id=None, temperature=None, top_p=None, truncation=None, user=None)"
      ]
     },
     "execution_count": 10,
     "metadata": {},
     "output_type": "execute_result"
    }
   ],
   "source": [
    "rag_llama_stack_client_response = client.responses.create(\n",
    "    model=LLAMA_STACK_MODEL_ID,\n",
    "    input=\"When did the Bering Land Bridge become a national preserve?\",\n",
    "    tools=[\n",
    "        {\n",
    "            \"type\": \"file_search\",\n",
    "            \"vector_store_ids\": [vector_store_id],\n",
    "        }\n",
    "    ]\n",
    ")\n",
    "\n",
    "rag_llama_stack_client_response"
   ]
  },
  {
   "cell_type": "markdown",
   "id": "bf43e8eb",
   "metadata": {},
   "source": [
    "This one is a little more complicated, so we will need a more powerful print method to see it all nicely formatted:"
   ]
  },
  {
   "cell_type": "code",
   "execution_count": 11,
   "id": "36b1297c",
   "metadata": {},
   "outputs": [],
   "source": [
    "def print_rag_response(response):\n",
    "    print(f\"ID: {response.id}\")\n",
    "    print(f\"Status: {response.status}\")\n",
    "    print(f\"Model: {response.model}\")\n",
    "    print(f\"Created at: {response.created_at}\")\n",
    "    print(f\"Output items: {len(response.output)}\")\n",
    "    \n",
    "    for i, output_item in enumerate(response.output):\n",
    "        if len(response.output) > 1:\n",
    "            print(f\"\\n--- Output Item {i+1} ---\")\n",
    "        print(f\"Output type: {output_item.type}\")\n",
    "        \n",
    "        if output_item.type in (\"text\", \"message\"):\n",
    "            print(f\"Response content: {output_item.content[0].text}\")\n",
    "        elif output_item.type == \"file_search_call\":\n",
    "            print(f\"  Tool Call ID: {output_item.id}\")\n",
    "            print(f\"  Tool Status: {output_item.status}\")\n",
    "            # 'queries' is a list, so we join it for clean printing\n",
    "            print(f\"  Queries: {', '.join(output_item.queries)}\")\n",
    "            # Display results if they exist, otherwise note they are empty\n",
    "            print(f\"  Results: {output_item.results if output_item.results else 'None'}\")\n",
    "        else:\n",
    "            print(f\"Response content: {output_item.content}\")"
   ]
  },
  {
   "cell_type": "code",
   "execution_count": 12,
   "id": "c7da3cde",
   "metadata": {},
   "outputs": [
    {
     "name": "stdout",
     "output_type": "stream",
     "text": [
      "ID: resp-5f7287ac-571c-4be7-9279-00def69ec4cf\n",
      "Status: completed\n",
      "Model: gpt-4o\n",
      "Created at: 1755107165\n",
      "Output items: 2\n",
      "\n",
      "--- Output Item 1 ---\n",
      "Output type: file_search_call\n",
      "  Tool Call ID: call_La0PfMIn1XoKXI5NQojXqWym\n",
      "  Tool Status: completed\n",
      "  Queries: Bering Land Bridge national preserve designation date\n",
      "  Results: [{'file_id': '', 'filename': '', 'text': ' for abundant wildlife and sport\\n \\nfishing for five species of salmon.\\n \\nEstablished Dec. 2, 1980. Length: 67 miles.\\n \\nAcreage—30,664.79 Federal: 26,417.85 \\nNonfederal: 4,246.94. \\nAniakchak  \\nN\\national Monument  and \\nAniakchak  \\nNational Preserve \\n1000 Silver Street, Bldg.603 \\nP\\nO Box 245 \\nKing Salmon, AK 99613 \\n907\\xad246\\xad3305 \\nwww.nps.gov/ania \\nThe Aniakchak Caldera, covering some 30 square miles, is \\no\\nne of the great dry calderas in the world. Located in the \\nvolcanically active Aleutian Mountains, the Aniakchak last \\nerupted in 1931. The crater includes lava flows, cinder cones, \\nand explosion pits, as well as Surprise Lake, source of the \\nAniakchak River, which cascades through a 1,500\\xadfoot gash \\nin the crater wall. NO FEDERAL FACILITIES. \\nProclaimed Aniakchak National Monument Dec. 1, 1978; \\nestablished as a national monument and national preserve \\nDec. 2, 1980. \\nAcreage—National monument: 137,176.00, all Federal. \\nNational preserve: 464,117.93 Federal: 458,809.35 \\nNonfederal: 5,308.58. \\nBering Land Bridge \\nN\\national Preserve \\nPO Box 220 \\nN\\nome, AK\\xa099762\\xad0220 \\n907\\xad443\\xad2522 \\nwww.nps.gov/bela \\nLocated on the Seward Peninsula, the preserve is a remnant \\no\\nf the land bridge that once connected Asia with North \\nAmerica over 13,000 years ago. Paleontological and archeo\\xad\\nlogical resources abound; large populations of migratory \\nbirds nest here. Ash explosion craters and lava flows, rare in \\nthe Arctic, are present. LIMITED FEDERAL FACILITIES. \\nProclaimed a national monument Dec. 1, 1978; established as \\na national preserve Dec. 2, 1980. \\nAcreage—2,697,391.01 Federal: 2,632,508.00 \\nNonfederal: 64,883.01 \\nCape Krusenstern \\nN\\national Monument \\nPO Box 1029 \\nK\\notzebue, AK 99752\\xad0029 \\n907\\xad442\\xad3890 \\nwww.nps.gov/cakr \\nArcheological sites located along a succession of 114 lateral \\nbeac\\nh ridges illustrate Eskimo communities of every known \\ncultural period in arctic Alaska, dating back some 4,000 \\nyears. Nearly pristine barrier islands, lagoons, and beaches \\nprovide habitat for fish, marine mammals, and migratory \\nbirds while allowing legal harvest by local subsistence users. \\nLIMITED FEDERAL FACILITIES. \\nProclaimed Dec. 1, 1978. Boundary change: Dec. 2, 1980. \\nAcreage—649,096.15 Federal: 627,190.67 \\nNonfederal: 21,905.48. \\n19 \\n \\n \\n \\n \\n \\n \\n \\n \\n \\n \\n \\n \\n   \\n   \\n  \\n \\n  \\n \\n \\n  \\n \\n \\n \\n  \\n   \\n \\n  \\n \\n \\n \\n \\n \\n \\n  \\n   \\n   \\n \\nDenali National Park and \\nDenali National Preserve \\nPO Box 9\\n \\nMcKinley Park, AK 99755\\xad\\n0009 \\n907\\xad683\\xad2253\\n \\nwww.nps.gov/dena\\n \\nThe park contains North America’s highest mountain, \\n20,310\\xadfoot Denali.', 'score': 3.0400664069376475}, {'file_id': '', 'filename': '', 'text': ' 2, 1980. Wilderness designated Dec. 2, 1980. Designated \\na Biosphere Reserve (portion) 1984. \\nAcreage—National park: 7,523,897.45 Federal: \\n7,359,650.20 Nonfederal: 164,247.25. National preserve: \\n948,608.07 Federal: 948,203.00 Nonfederal: 405.07. \\nGlacier Bay National Park \\nand Glacier Bay \\nNational Preserve \\nPO Box 140 \\nGustavus, AK 99826\\xad0140 \\n907\\xad697\\xad2232 \\nwww.nps.gov/glba \\nCovering 3.3 million acres of rugged mountains, dynamic \\nglaciers, temperate rainforests, wild coastlines, and deep \\nsheltered fjords, Glacier Bay is a highlight of Alaska’s Inside \\nPassage offering limitless opportunities for adventure and \\ninspiration. \\nProclaimed Glacier Bay National Monument Feb. 26, 1925; \\nestablished as a national park and national preserve Dec. \\n2, 1980. Boundary changes: April 18, 1939; March 31, 1955; \\nDecember 1, 1978. Wilderness designated Dec. 2, 1980. \\nDesignated a Biosphere Reserve 1986. Designated a World \\nHeritage site Dec, 14, 1992. \\nAcreage—National park: 3,223,383.43 Federal: \\n3,222,284.20 Nonfederal: 1,099.23 Wilderness area: \\n2,770,000. National preserve: 58,406.00, all Federal. \\n20 \\n  \\n \\n \\n \\n \\n       \\n  \\n  \\n   \\n   \\n \\n  \\n \\n \\n \\n \\n \\n \\n  \\n \\n \\n \\n \\n \\n  \\n \\n  \\n  \\n \\n \\n \\n \\n \\n   \\n \\nKatmai National Park and \\nKatmai National Preserve \\nPO Box 7\\n \\nKing Salmon, AK 99613\\xad\\n0007 \\n907\\xad246\\xad3305\\n \\nwww.nps.gov/katm\\n \\nV ariety marks this vast land: lakes, forests, mountains, and \\nmarshlands abound in wildlife. The Alaska brown bear, the \\nworld’s largest carnivore, thrives here, feeding on red salmon \\nthat spawn in the lakes and streams. Wild rivers and renowned \\nsport fishing add to the attractions of this subarctic environ\\xad\\nment. Here, in 1912, Novarupta V olcano erupted violently, \\nforming the ash\\xadfilled “V alley of T en Thousand Smokes” \\nwhere steam rose from countless fumaroles. \\nProclaimed Katmai National Monument Sept. 24, 1918; estab\\xad\\nlished as national park and national preserve Dec. 2, 1980. \\nBoundary changes: April 24, 1931; Aug. 4, 1942; Jan. 20, 1969; \\nDec. 1, 1978; Dec. 2, 1980. Wilderness designated Dec. 2, 1980. \\nAcreage—National park: 3,674,368.02 Federal: \\n3,611,403.12 Nonfederal: 62,964.90 Wilderness area: \\n3,473,000. National preserve: 418,698.80 Federal: \\n333,400.98 Nonfederal: 85,297.82. \\nKenai Fjords \\nNational Park \\nPO Box 1727 \\nSeward, AK 99664\\xad1727 \\n907\\xad422\\xad0500 \\nwww.nps.gov/kefj \\nThe park preserves the 800\\xadsquare\\xadmile Harding Icefield, \\nthe largest icefield solely contained within the United States, \\nits outflowing glaciers, and coastal fjords and islands in their', 'score': 2.9052492608394345}, {'file_id': '', 'filename': '', 'text': 'America over 13,000 years ago. Paleontological and archeo\\xad\\nlogical resources abound; large populations of migratory \\nbirds nest here. Ash explosion craters and lava flows, rare in \\nthe Arctic, are present. LIMITED FEDERAL FACILITIES. \\nProclaimed a national monument Dec. 1, 1978; established as \\na national preserve Dec. 2, 1980. \\nAcreage—2,697,391.01 Federal: 2,632,508.00 \\nNonfederal: 64,883.01 \\nCape Krusenstern \\nN\\national Monument \\nPO Box 1029 \\nK\\notzebue, AK 99752\\xad0029 \\n907\\xad442\\xad3890 \\nwww.nps.gov/cakr \\nArcheological sites located along a succession of 114 lateral \\nbeac\\nh ridges illustrate Eskimo communities of every known \\ncultural period in arctic Alaska, dating back some 4,000 \\nyears. Nearly pristine barrier islands, lagoons, and beaches \\nprovide habitat for fish, marine mammals, and migratory \\nbirds while allowing legal harvest by local subsistence users. \\nLIMITED FEDERAL FACILITIES. \\nProclaimed Dec. 1, 1978. Boundary change: Dec. 2, 1980. \\nAcreage—649,096.15 Federal: 627,190.67 \\nNonfederal: 21,905.48. \\n19 \\n \\n \\n \\n \\n \\n \\n \\n \\n \\n \\n \\n \\n   \\n   \\n  \\n \\n  \\n \\n \\n  \\n \\n \\n \\n  \\n   \\n \\n  \\n \\n \\n \\n \\n \\n \\n  \\n   \\n   \\n \\nDenali National Park and \\nDenali National Preserve \\nPO Box 9\\n \\nMcKinley Park, AK 99755\\xad\\n0009 \\n907\\xad683\\xad2253\\n \\nwww.nps.gov/dena\\n \\nThe park contains North America’s highest mountain, \\n20,310\\xadfoot Denali. Large glaciers of the Alaska Range, cari\\xad\\nbou, Dall sheep, moose, grizzly bears, and timber wolves are \\nhighlights of this national park and preserve. \\nEstablished as Mt. McKinley National Park Feb. 26, 1917. \\nSeparate Denali National Monument proclaimed Dec. 1, \\n1978. Both incorporated into and established as Denali \\nNational Park and Denali National Preserve Dec. 2, 1980. \\nWilderness designated Dec. 2, 1980. Other boundary chang\\xad\\nes: Jan. 30, 1922; March 19, 1932. Designated a Biosphere \\nReserve 1976. \\nAcreage—National park: 4,740,911.16 Federal: \\n4,732,650.51 Nonfederal: 8,260.65. Wilderness area: \\n1,900,000. National preserve: 1,334,117.80 Federal: \\n1,304,241.97 Nonfederal: 29,875.83. \\nGates of the Arctic \\nNational Park and \\nGates of the Arctic \\nNational Preserve \\n4175 Geist Road \\nFairbanks, AK 99709 \\n907\\xad457\\xad5752 \\nwww.nps.gov/gaar \\nLying north of the Arctic Circle, the park and preserve include \\npart of the Central Brooks Range, the northernmost extension \\nof the Rocky Mountains. Often called the greatest wilderness \\nin North America, these NPS units are characterized by jagged \\npeaks, gentle arctic valleys, wild rivers, and many lakes. With \\nadjacent Kobuk V alley National Park and Noatak National \\nPreserve, they form one of the largest park areas in the world. \\nProclaimed Gates of the Arctic National Monument Dec. 1, \\n1978; established as a national park and national preserve \\nDec.', 'score': 2.7607343620119154}, {'file_id': '', 'filename': '', 'text': ' Large glaciers of the Alaska Range, cari\\xad\\nbou, Dall sheep, moose, grizzly bears, and timber wolves are \\nhighlights of this national park and preserve. \\nEstablished as Mt. McKinley National Park Feb. 26, 1917. \\nSeparate Denali National Monument proclaimed Dec. 1, \\n1978. Both incorporated into and established as Denali \\nNational Park and Denali National Preserve Dec. 2, 1980. \\nWilderness designated Dec. 2, 1980. Other boundary chang\\xad\\nes: Jan. 30, 1922; March 19, 1932. Designated a Biosphere \\nReserve 1976. \\nAcreage—National park: 4,740,911.16 Federal: \\n4,732,650.51 Nonfederal: 8,260.65. Wilderness area: \\n1,900,000. National preserve: 1,334,117.80 Federal: \\n1,304,241.97 Nonfederal: 29,875.83. \\nGates of the Arctic \\nNational Park and \\nGates of the Arctic \\nNational Preserve \\n4175 Geist Road \\nFairbanks, AK 99709 \\n907\\xad457\\xad5752 \\nwww.nps.gov/gaar \\nLying north of the Arctic Circle, the park and preserve include \\npart of the Central Brooks Range, the northernmost extension \\nof the Rocky Mountains. Often called the greatest wilderness \\nin North America, these NPS units are characterized by jagged \\npeaks, gentle arctic valleys, wild rivers, and many lakes. With \\nadjacent Kobuk V alley National Park and Noatak National \\nPreserve, they form one of the largest park areas in the world. \\nProclaimed Gates of the Arctic National Monument Dec. 1, \\n1978; established as a national park and national preserve \\nDec. 2, 1980. Wilderness designated Dec. 2, 1980. Designated \\na Biosphere Reserve (portion) 1984. \\nAcreage—National park: 7,523,897.45 Federal: \\n7,359,650.20 Nonfederal: 164,247.25. National preserve: \\n948,608.07 Federal: 948,203.00 Nonfederal: 405.07. \\nGlacier Bay National Park \\nand Glacier Bay \\nNational Preserve \\nPO Box 140 \\nGustavus, AK 99826\\xad0140 \\n907\\xad697\\xad2232 \\nwww.nps.gov/glba \\nCovering 3.3 million acres of rugged mountains, dynamic \\nglaciers, temperate rainforests, wild coastlines, and deep \\nsheltered fjords, Glacier Bay is a highlight of Alaska’s Inside \\nPassage offering limitless opportunities for adventure and \\ninspiration. \\nProclaimed Glacier Bay National Monument Feb. 26, 1925; \\nestablished as a national park and national preserve Dec. \\n2, 1980. Boundary changes: April 18, 1939; March 31, 1955; \\nDecember 1, 1978. Wilderness designated Dec. 2, 1980. \\nDesignated a Biosphere Reserve 1986. Designated a World \\nHeritage site Dec, 14, 1992. \\nAcreage—National park: 3,223,383.43 Federal: \\n3,222,284.20 Nonfederal: 1,099.23 Wilderness area: \\n2,770,000. National preserve: 58,406.00, all Federal. \\n20 \\n  \\n \\n \\n \\n \\n       \\n  \\n  \\n   \\n   \\n \\n  \\n \\n \\n \\n \\n \\n \\n  \\n \\n \\n \\n \\n \\n  \\n \\n  \\n  \\n \\n \\n \\n \\n \\n   \\n \\nKatmai National Park and \\nKatmai National Preserve \\nPO Box 7', 'score': 2.736387962200917}, {'file_id': '', 'filename': '', 'text': ' . 19, 1962; Nov .  \\n9, 2000. Wilderness designated Oct. 23, 1970. Designated a  \\nnational preserve Aug. 21, 2002. \\nAcreage—464,303.97, all Federal.  Wilderness area: 43,243. \\n51 \\n \\n \\n \\n \\n \\n \\n \\n \\n \\n \\n  \\n \\n \\n \\n \\n \\n  \\n \\n  \\n \\n    \\n  \\nHagerman Fossil Beds \\nNational Monument \\n221 North State Street \\n \\nPO Box 570 \\nHagerman, ID 83332\\xad0570 \\n208\\xad993\\xad4100 \\nwww.nps.gov/hafo \\nExtraordinary fossils from the Pliocene Epoch, 3.5 million  \\ny\\nears ago, are covered in sediment from the Snake River  \\nPlain. The Hagerman Horse Quarry, a National Natural\\nLandmark, and over 200 fossilized plant and animal species  \\nare here. LIMITED FEDERAL FACILITIES. \\nAuthorized Nov . 18, 1988. \\nAcreage—4,351.15  Federal: 4,334.65  Nonfederal: 16.50. \\nMinidoka \\nNational Historic Site \\n \\n221 North State Street  \\nPO Box 570  \\nHagerman, ID 83332 \\n208\\xad837\\xad4793 \\n \\nwww.nps.gov/miin \\n(Also in Washington) \\nThe history and cultural resources associated with the reloca\\xad\\nti\\non and internment of Japanese Americans during World War\\nII are interpreted here. UNDER DEVELOPMENT . Includes\\nBainbridge Island Japanese American Exclusion Memorial in\\nWashington. \\nProclaimed Jan. 17, 2001; redesignated a national historic site\\nMay 8, 2008.  \\nAcreage—396.30 Federal: 388.30 Nonfederal: 8.00. \\nNez Perce \\n \\nNational Historical Park  \\n36063 U.S. Highway 95 \\nSpalding, ID 83540\\xad9715 \\n208\\xad843\\xad7001 \\nwww.nps.gov/nepe \\n(Also in Montana, Oregon, \\nand Washington) \\nThe park’s 38 sites, spreading across Idaho, Washington,\\nOr\\negon, and Montana, commemorate the Nez Perce. Six\\nsites are owned and managed by  the National Park Service  \\nat Spalding, Canoe Camp, Buffalo Eddy, East Kamiah, White  \\nBird Battlefield, and Big Hole National Battlefield. \\nAuthorized May 15, 1965. Boundary change: Oct. 30, 1992. \\nAcreage—4,564.93  Federal: 3,858.63  Nonfederal: 706.30. \\nY ellowstone National Park \\n(See Wyoming) \\nIllinois \\nLincoln Home \\nNational Historic Site \\n413 S. Eighth Street \\nS\\npringfield, IL 62701\\xad1905\\n217\\xad492\\xad4241 \\n \\nwww.nps.gov/liho \\nAbraham Lincoln resided in this house for 17 years before he \\nbecam\\ne president. The surrounding historic district preserves \\nthe 1860s environment in which the Lincoln family lived. \\nAuthorized Aug. 18, 1971. \\nAcreage—12.24 Federal: 12.03 Nonfederal: 0.21. \\nPullman National  \\nMon\\nument \\n11111 S. Forrestville Avenue \\nChi\\ncago, IL 60628 \\n773\\xad660\\xad2341 \\nwww.nps.gov/pull \\nGeorge Pullman created an integrated manufacturing com\\xad\\np\\nlex and residential community south of Chicago in the 1880s, \\nwith the intention of retaining skilled workers for his varied \\nrail cars assembled there.  The town of Pullman’s design and \\narchitecture still resonate with today’s urban planners.  The \\nname “Pull', 'score': 2.7340891731495267}, {'file_id': '', 'filename': '', 'text': ' Memorial (See\\nalso Independence NHP), Pennsylvania 119\\n \\n\\n \\nBent’s Old Fort National Historic Site,\\nColorado 38\\n \\n\\n \\nBering Land Bridge National Preserve,\\nAlaska 19\\n \\n\\n \\nBethune, Mary (See Mary McLeod Bethune\\nCouncil House NHS)\\n \\n\\n \\nBig Bend National Park, T exas 99\\n \\nBig Cypress National Preserve, Florida\\n46\\n \\n\\n \\nBig Hole National Battlefield, Montana\\n70\\n \\n\\n \\nBighorn Canyon National Recreation Area,\\nMontana 71\\n \\n\\n \\nBig South Fork National River and\\nRecreation Area, T ennessee 96\\n \\n\\n \\nBig Thicket National Preserve, T exas 99\\n \\nBiscayne National Park, Florida 46\\n \\nBlack Canyon of the Gunnison National\\nPark, Colorado 38\\n \\n\\n \\nBlackstone River Valley  National Historical\\n \\nPark, Rhode Island 93\\n \\n \\nBlue Ridge  National Heritage Area, North\\nCarolina 125\\n \\n\\n \\nBlue Ridge Parkway, North Carolina 85\\n \\nBluestone National Scenic River, W est\\n  \\nVirginia 111, 134\\n \\nBooker T.  Washington  National  Monument,\\nV\\nirginia,  104\\n \\n\\n \\nBoston African American National Historic\\nSite, Massachusetts 62\\n \\n\\n \\nBoston Harbor Islands National Recreation\\nArea, Massachusetts, 62\\n \\n\\n \\nBoston National Historical Park,\\nMassachusetts 63\\n \\n \\nBrices Cross Roads National Battlefield Site,\\n \\nMississippi 68\\n \\n \\nBrown v. Board of Education National\\n \\nHistoric Site, Kansas 55\\n \\n \\nBryce Canyon National Park, Utah 101\\n \\nBuck Island Reef National Monument,\\n \\n149 \\n  \\n \\n \\n \\n \\n \\n \\n \\n \\n \\n \\n \\n \\n \\n \\n \\nVirgin Islands 107\\n \\nBuffalo National River, Arkansas 28\\n \\nCabrillo National Monument, California 31\\nCache La Poudre River Corridor, Colorado\\n126\\n \\n\\n \\nCache La Poudre Wild and Scenic River,\\n \\nColorado 134\\n \\n \\nCALIFORNIA 31\\n \\nCalifornia National Historic T rail, California\\n142\\n \\n\\n \\nCanaveral National Seashore, Florida 46\\n \\nCane River Creole National Historical Park,\\nLouisiana 57\\n \\n\\n \\nCane River National Heritage Area, Louisi\\xad\\nana 126\\n \\n\\nCanyon de Chelly National Monument,\\nArizona 24\\n \\n\\n \\nCanyonlands National Park, Utah 101\\n \\nCape Canaveral (See Canaveral NHP)\\n \\nCape Cod National Seashore, Massachusetts\\n63\\n \\n\\n \\nCape Hatteras National Seashore, North\\nCarolina 85\\n \\n\\n \\nCape Krusenstern National Monument,\\nAlaska 19\\n \\n\\n \\nCape Lookout National Seashore, North\\nCarolina 85\\n \\n\\n \\nCapitol Reef National Park, Utah 101\\n \\nCapulin Volcano National Monument, New\\nMexico 77\\n \\n\\n \\nCaptain John Smith Chesapeake National\\n \\nHistoric T rail, Maryland 142\\n \\n \\nCarl Sandburg Home National Historic Site,\\n \\nNorth Carolina 85\\n \\n \\nCarlsbad Caverns National Park, New\\nMexico 77\\n \\n\\n \\nCarter, Jimmy (See Jimmy Carter NHS)\\n \\nCarter G. Woodson Home National Historic\\n \\nSite, District of Columbia 41\\n \\n \\nCarver, George Washington (See George\\n  \\nWashington Carver NM; T uskegee Institute\\nNHS)\\n \\n \\nCasa Grande Ruins National Monument,\\n \\nArizona 24\\n \\n \\nCastillo de San Marcos National Monu\\xad\\nment, Florida 46\\n \\nCastle Clinton National Monument, New\\n \\nY ork 80\\n \\n \\nCatoctin Mountain Park, Maryland 59\\n \\nCedar Breaks National Monument, Utah 101\\n \\nCedar Creek and Belle Grove  National His\\xad\\ntorical Park, Virginia 104\\n \\n\\nCéasar E. Chávez', 'score': 2.4829545668970936}, {'file_id': '', 'filename': '', 'text': '; established as a national preserve Dec. 2, 1980.\\n \\nAcreage—2,526,512.44 Federal: 2,195,546.98 Nonfederal: \\n330,965.46. \\nAmerican Samoa \\nNational Park of \\nAmerican Samoa \\nMHJ Building, 2nd Floor \\nPago Pago AS, 96799 \\n684\\xad633\\xad7082 \\nwww.nps.gov/npsa \\nPaleotropical rain forests, coral reefs, and beaches on three \\nvolcanic islands in the South Pacific are home to a variety of \\nocean life, birds, and two species of fruit bats\\xadthe only native \\nmammals. Also, experience 3,000\\xadyear\\xadold Samoan culture \\nand its traditions. Overnights in villages are encouraged. \\nAuthorized Oct. 31, 1988; 50\\xadyear lease signed Sept. 9, 1993. \\nAcreage—8,256.67, all Nonfederal. Water area: 2,500. \\n23 \\n \\n \\n \\n \\n \\n \\n \\n  \\n \\n \\n \\n  \\n \\n \\n \\n \\n \\n \\n \\n \\n \\n \\n \\n \\n \\nArizona \\nCanyon de Chelly \\nNational Monument \\nPO Box 588 \\nChinle, AZ \\n86503\\xad0588 \\n928\\xad674\\xad5500 \\nwww.nps.gov/cach \\nLocated on Navajo trust land and having a resident com\\xad\\nm\\nunity, Canyon de Chelly is unique among national park \\nunits. The National Park Service, Navajo Nation, and canyon \\ncommunity work in conjunction to manage park resources \\nand enable traditional and contemporary lifeways.  Canyon \\nde Chelly National Monument preserves one of the longest, \\ncontinually inhabited locations by American Indian com\\xad\\nmunities in the United States, spanning at least 5,000 years. \\nT séyi’, the place within the rock, sustains a living community \\nconnected to a landscape of great historical and spiritual \\nsignificance. It is essential to the traditional lives and cultural \\nidentity of many native peoples. \\nAuthorized Feb. 14, 1931; proclaimed April 1, 1931.  Bound \\xad\\nary change: March 1, 1933 \\nAcreage—83,840.00, all Nonfederal. \\nCasa Grande Ruins \\nN\\national Monument \\n1100 Ruins Drive \\nCoo\\nlidge, AZ 85228\\xad3200 \\n520\\xad723\\xad3172 \\nwww.nps.gov/cagr \\nThis multi\\xadstoried, earthen\\xadwalled structure surrounded by\\n \\nt\\nhe remains of smaller buildings and a compound wall was\\n \\nconstructed by the Hohokam, who farmed the Gila V alley\\n \\nin the early 1200s. Casa Grande was abandoned by the mid\\xad\\n1400s.\\n \\nAuthorized as Casa Grande Ruin Reservation March 2, 1889;\\n \\nproclaimed June 22, 1892; redesignated Aug. 3, 1918. Bound\\xad\\nary changes: Dec. 10, 1909; June 7, 1926.\\n \\nAcreage—472.50, all Federal. \\nChiricahua \\nN\\national Monument \\n12856 E. Rhyolite Creek Rd. \\nW\\nillcox, AZ 85643\\xad9737 \\n520\\xad824\\xad3560 \\nwww.nps.gov/chir \\nThe rock formations here were created millions of years ago \\nb\\ny volcanic activity, resulting in a landscape of rare beauty . \\nFaraway Ranch, a cattle ranch/guest ranch, has been restored. \\nProclaimed April  18, 1924; transferred  from  U.S. Forest \\nService, Aug. 10, 1933. Boundary changes: June 10, 1938; Nov . \\n10, ', 'score': 2.4552335408945076}, {'file_id': '', 'filename': '', 'text': ',\\n \\nand  natural values.\\n \\nAuthorized Dec. 2, 1980. Length: 208 miles.\\n \\n134 \\n \\n \\n \\n \\n \\n \\n \\n \\n \\n \\n \\n \\n \\n \\n  \\n \\n \\n \\n \\n \\n  \\n \\n \\n \\n \\n  \\n \\n \\n  \\n \\n \\n  \\n \\nChilikadrotna Wild River \\nLake Clark National Park \\nand Preserve \\n4230 University Drive \\nSuite 311 \\nAnchorage, AK 99508\\xad4626 \\nThe river lies within Lake Clark National Park and Preserve,\\n \\nAlaska. Long stretches of swift water and outstanding fish\\xad\\ning are exceptional features.  The river was designated for\\n \\noutstandingly remarkable fish and scenic, recreational, and\\n \\nhistorical values.\\n \\nAuthorized Dec. 2, 1980. Length: 11 miles.\\n \\nEightmile National Wild \\nand Scenic River \\nc/o National Park Service \\nNortheast Region \\nNational Wild and Scenic \\nRivers Division \\n200 Chestnut Street \\nPhiladelphia, PA 19106\\xad2818 \\nLocated in Connecticut, this is a 62\\xadsquare\\xad\\nmile watershed of rolling forested landscape with\\n \\nover 150 miles of pristine rivers and streams and\\n \\na variety of historic features.  Most notable is that the overall\\n \\necosystem is healthy and intact throughout essentially all of its\\n \\nrange.  The river was designated for outstandingly remarkable\\n \\nfish, wildlife, and scenic, recreational, geological, historical,\\n \\nbotanical, ecological, hydrological, and traditionally cultural\\n \\nvalues.\\n \\nAuthorized: May 8, 2008. Length: 25.3 miles.\\n \\nFarmington National \\nWild and Scenic River \\nc/o National Park Service \\nNortheast Region \\nNational Wild and Scenic \\nRivers Division \\n200 Chestnut Street \\nPhiladelphia, PA 19106\\xad2818 \\nThe Farmington River V alley is an important habitat for\\n \\nwildlife and is currently the only place in Connecticut with\\n \\nnesting bald eagles.  The W est Branch is recognized as one\\n \\nof the most valuable trout fisheries in Connecticut and\\n \\nthe northeast region, and it is also essential to the Atlantic\\n \\nsalmon recovery plans for the Connecticut River.  The river\\n \\nwas designated for outstandingly remarkable fish, wildlife,\\n \\nand scenic, recreational, geological, historical, ecological,\\n \\nhydrological, and traditionally cultural use values.\\n \\nAuthorized Aug. 26, 1994. Length: 14 miles.\\n \\nFlathead River \\nFlathead National Forest \\n1935 3rd Avenue E. \\nKalispell, MT 59901 \\nGlacier National Park \\nPO Box 128 \\nW est Glacier, MT 59936\\xad0128 \\nCoursing the western boundary of Glacier National Park,\\n \\nMontana, this is a noted spawning stream.  The designation\\n \\nincludes portions of the North, Middle, and South Fork\\n \\nFlathead Rivers, and Bear Creek.  The river was designated\\n \\nfor outstandingly remarkable fish, wildlife, and scenic, recre\\xad\\national, geological, historical, botanical, and ethnographical\\n \\nvalues.\\n \\nAuthorized Oct. 12, 1976. Length: 219 miles.\\n \\nGreat Egg Harbor Scenic \\nand Recreational River \\nc/o National Park Service \\nNortheast Region \\nNational Wild and Scenic \\nRivers Division \\n200 Chestnut Street \\nPhiladelphia, PA 19106\\xad2818 \\nwww.nps.gov/greg \\nSee Great Egg Harbor Scenic and Recreational River, New\\n \\nJersey, a unit of the National Park System.\\n \\nJohn Wild River \\nGates of the Arctic \\nNational Park and Preserve \\n201 First Avenue \\nDoyon Bldg. \\nFairbanks, AK 99701\\xad4848 \\nThe river flows south through the Anaktuvuk Pass of Alaska’s \\nBrooks Range, located within the Gates of the Arctic Nation\\xad\\nal Park and Preserve. The river was designated for outstand \\xad\\ningly remarkable wildlife', 'score': 2.4417047761223354}, {'file_id': '', 'filename': '', 'text': ' several agencies. Established Oct. 27, 1972. Boundary\\nchanges: Jan. 3, 1975; July 1, 2003. \\nAcreage—1,254,116.62 F ederal: 1,239,763.84 N onfederal:  \\n14,352.78. \\nGolden Spike \\nNational Historic Site \\nPO Box 897 \\nBrigham City, UT \\n84302\\xad0897 \\n435\\xad471\\xad2209 \\nwww.nps.gov/gosp \\nThe first transcontinental railroad in the United States was \\ncompleted here on May 10, 1869, after the Central Pacific and \\nUnion Pacific railroads built 1,776 miles of hand\\xadmade line. \\nDesignated April 2, 1957; National Park Service administra \\xad\\ntion authorized July 30, 1965. Boundary changes: July 30,  \\n1965; Sept. 8, 1980. \\nAcreage—2,735.28  Federal: 2,203.20  Nonfederal: 532.08. \\nHovenweep \\n \\nNation\\nal Monument  \\nMcElmo Rout\\ne \\nCortez, CO 81321\\xad8901  \\n970\\xad562\\xad4282 \\nwww.nps.gov/ho\\nve \\n(Also in Colorado) \\nThe park protects Ancestral Puebloan towers, pueblos, and\\ncliff dwellings spread over 26 miles on the Utah\\xadColorado\\nborder. \\nProclaimed March 2, 1923.  Boundary changes:  April 26,\\n1951; Nov . 20, 1952; April 6, 1956. Designated an Interna \\xad\\ntional Dark Sky Park 2014.  \\nAcreage—784.93, all Federal. \\nNatural Bridges \\n \\nNation\\nal Monument  \\nHC 60, PO Box 1  \\nLake P\\nowell, UT 84533\\xad0101 \\n435\\xad692\\xad1234 \\nwww.nps.gov/nabr \\nThree natural bridges carved out of sandstone, including the\\nsecond and third largest in the world, are protected here.\\nAlso present are Ancestral Puebloan rock art and remains of\\nancient structures. \\nProclaimed April 16, 1908. Boundary changes: April 16, 1908;  \\nSept. 25, 1909; Feb. 11, 1916; Aug. 14, 1962. Designated an\\nInternational Dark Sky Park 2007. \\nAcreage—7,636.49, all Federal. \\n \\nRainbow Brid\\nge \\nNational Monument \\nc/o Glen Canyon \\nNational Recreation Area \\nPO Box 1507 \\nPage, AZ 86040\\xad1507 \\n928\\xad608\\xad6200 \\nwww.nps.gov/rabr \\nRainbow Bridge National Monument protects an extraor \\xad\\ndinary natural bridge which rises 290 feet above the floor of  \\nBridge Canyon, accessible by boat from Lake Powell. Rain\\xad\\nbow Bridge is a sacred site for American Indians. \\nProclaimed May 30, 1910. \\nAcreage—160.00, all Federal. \\nTimpanogos Cave \\nNational Monument \\nR.R. 3, Box 200 \\n \\nAmerican Fo\\nrk, UT 84003 \\n801\\xad756\\xad5239 \\nwww.nps.gov/tica \\nThree fault\\xadcontrolled limestone caves are notable for their  \\ndiverse and colorful formations, and abundant helictites— \\nwater\\xadcreated formations that grow in all directions and\\nshapes, regardless of gravity . \\nProclaimed Oct. 14, 1922; transferred from U.S. Forest Ser \\xad\\nvice, Aug. 10, 1933. Authorized joint visitor center with U.S.  \\nForest Service Dec. 6', 'score': 2.41886811059666}, {'file_id': '', 'filename': '', 'text': ',410,293.68 Federal: \\n1,259,128.14 Nonfederal: 151,165.54. \\nNoatak National Preserve \\nPO Box 1029 \\nKotzebue, AK 99752\\xad0129 \\n907\\xad442\\xad3890 \\nwww.nps.gov/noat \\nThe Noatak River basin is the largest untrammeled moun\\xad\\ntain\\xadringed river basin in the nation. The preserve is a\\n \\ntransition zone and migration route for plants and animals\\n \\nbetween subarctic and arctic environments. It is specially\\n \\ndesignated as a place for scientific study of the archeologi\\xad\\ncal, plant and wildlife resources that it protects. LIMITED\\n \\nFEDERAL FACILITIES.\\n \\nProclaimed a national monument Dec. 1, 1978; established as\\n \\na national preserve Dec. 2, 1980. Wilderness designated Dec.\\n \\n2, 1980. Designated a Biosphere Reserve 1976.\\n \\nAcreage—6,587,071.39 Federal: 6,549,227.93 Nonfederal: \\n37,843.46. Wilderness area: 5,800,000. \\nSitka \\nNational Historical Park \\n106 Metlakatla Street \\nSitka, AK 99835\\xad7665 \\n907\\xad747\\xad0110 \\nwww.nps.gov/sitk \\nThe site of the 1804 fort and battle that marked the last major\\n \\nTlingit Indian resistance to Russian colonization is preserved\\n \\nhere. Tlingit totem poles and crafts are exhibited. The Rus\\xad\\nsian Bishop’s House, built in 1842, is the oldest intact piece\\n \\nof Russian\\xadAmerican architecture.\\n \\nProclaimed a national monument March 23, 1910; redesig\\xad\\nnated Oct. 18, 1972. Boundary changes: Feb. 25, 1952; Oct.\\n \\n18, 1972.\\n \\nAcreage—116.16 Federal: 109.89 Nonfederal: 6.27. \\nWorld War II \\nValor in the Pacific \\nNational Monument \\n(Also in Hawaii and \\nCalifornia) \\nThis monument comprises nine historic sites representing \\nvarious aspects of World War II history in the Pacific. Five \\nsites are in the Pearl Harbor area: the USS Arizona Memorial \\nand visitor center; the USS Utah Memorial; the USS Okla \\xad\\nhoma Memorial; the six chief  petty officer bungalows on \\nFord Island; and mooring quays F6, F7, and F8, which con\\xad\\nstituted part of Battleship Row. Three sites are located in \\nAlaska’s Aleutian Islands: the crash site of a consolidated \\nB\\xad24D liberator bomber on Atka Island, the Kiska Island site \\nof Imperial Japan’s occupation that began in June 1942; and \\nAttu Island, the site of the only land battle fought in North \\nAmerica during World War II. The last of the nine designa \\xad\\ntions is the T ule Lake Segregation Center National Historic \\nLandmark and nearby Camp T ule Lake in California—both \\nof which housed Japanese Americans relocated from the \\nwest coast of the United States. \\nProclaimed Dec. 5, 2008. \\nAcreage—59.03 Federal: 56.66 Nonfederal: 2.37. \\n22 \\n \\n \\n \\n \\n \\n \\n \\n \\n \\n \\n \\n  \\n   \\n   \\n \\n \\n \\n \\n \\n \\n \\n    \\n \\n   \\n \\n \\nWrangell-St. Elias \\nNational Park and \\nWrangell-St. Elias \\nNational Preserve \\nPO Box 439 \\nCopper Cen\\nter, AK 99573 \\n907\\xad822\\xad5234 \\nwww.nps.gov/wrst \\nThe Chugach, Wrangell, St. Elias, and Alaska mountain rang\\xad\\nes c', 'score': 2.4059806715205365}]\n",
      "\n",
      "--- Output Item 2 ---\n",
      "Output type: message\n",
      "Response content: The Bering Land Bridge was designated as a national preserve on December 2, 1980.\n"
     ]
    }
   ],
   "source": [
    "print_rag_response(rag_llama_stack_client_response)"
   ]
  },
  {
   "cell_type": "markdown",
   "id": "ca516fb2",
   "metadata": {},
   "source": [
    "### MCP tool calling"
   ]
  },
  {
   "cell_type": "markdown",
   "id": "2ade6b6c",
   "metadata": {},
   "source": [
    "Now we will move on to a more substantial example using the NPS MCP server you set up at the top of this notebook."
   ]
  },
  {
   "cell_type": "code",
   "execution_count": 13,
   "id": "2d7f527e",
   "metadata": {},
   "outputs": [
    {
     "name": "stderr",
     "output_type": "stream",
     "text": [
      "INFO:httpx:HTTP Request: POST http://localhost:8321/v1/openai/v1/responses \"HTTP/1.1 200 OK\"\n"
     ]
    },
    {
     "data": {
      "text/plain": [
       "ResponseObject(id='resp-4bddbed7-3503-4231-bd17-5beb63ee08b3', created_at=1755107168, model='gpt-4o', object='response', output=[OutputOpenAIResponseOutputMessageMcpListTools(id='mcp_list_5d571da3-1551-44e3-890d-2d1fff59958c', server_label='National Parks Service tools', tools=[OutputOpenAIResponseOutputMessageMcpListToolsTool(input_schema={'type': 'object', 'properties': {'state_code': {'type': 'string', 'description': ''}, 'park_code': {'type': 'string', 'description': ''}, 'query': {'type': 'string', 'description': ''}, 'limit': {'type': 'integer', 'description': ''}}, 'required': ['state_code', 'park_code', 'query', 'limit']}, name='search_parks', description=\"Search for national parks by state, park code, or query string.\\n\\nArgs:\\n    state_code: Two-letter state code (e.g., 'CA', 'NY')\\n    park_code: Four-letter park code (e.g., 'yell', 'acad')\\n    query: Search query for park names or descriptions\\n    limit: Maximum number of results to return (default: 10)\\n\\nReturns:\\n    JSON string with park information including name, description, website, and location\"), OutputOpenAIResponseOutputMessageMcpListToolsTool(input_schema={'type': 'object', 'properties': {'park_code': {'type': 'string', 'description': ''}}, 'required': ['park_code']}, name='get_park_alerts', description=\"Get current alerts for a specific national park.\\n\\nArgs:\\n    park_code: Four-letter park code (e.g., 'yell', 'acad', 'grca')\\n\\nReturns:\\n    JSON string with current alerts for the park\"), OutputOpenAIResponseOutputMessageMcpListToolsTool(input_schema={'type': 'object', 'properties': {'park_code': {'type': 'string', 'description': ''}, 'limit': {'type': 'integer', 'description': ''}}, 'required': ['park_code', 'limit']}, name='get_park_campgrounds', description=\"Get campground information for a specific national park.\\n\\nArgs:\\n    park_code: Four-letter park code (e.g., 'yell', 'acad', 'grca')\\n    limit: Maximum number of campgrounds to return (default: 10)\\n\\nReturns:\\n    JSON string with campground information including location, amenities, and fees\"), OutputOpenAIResponseOutputMessageMcpListToolsTool(input_schema={'type': 'object', 'properties': {'park_code': {'type': 'string', 'description': ''}, 'limit': {'type': 'integer', 'description': ''}}, 'required': ['park_code', 'limit']}, name='get_park_events', description=\"Get upcoming events for a specific national park.\\n\\nArgs:\\n    park_code: Four-letter park code (e.g., 'yell', 'acad', 'grca')\\n    limit: Maximum number of events to return (default: 10)\\n\\nReturns:\\n    JSON string with event information including date, time, fee, and description\"), OutputOpenAIResponseOutputMessageMcpListToolsTool(input_schema={'type': 'object', 'properties': {'park_code': {'type': 'string', 'description': ''}, 'limit': {'type': 'integer', 'description': ''}}, 'required': ['park_code', 'limit']}, name='get_visitor_centers', description=\"Get visitor center information for a specific national park.\\n\\nArgs:\\n    park_code: Four-letter park code (e.g., 'yell', 'acad', 'grca')\\n    limit: Maximum number of visitor centers to return (default: 10)\\n\\nReturns:\\n    JSON string with visitor center information including location, contact, and operating hours\")], type='mcp_list_tools'), OutputOpenAIResponseOutputMessageMcpCall(id='call_n7zc08nuchj77bdGsSB2ncui', arguments='{\"state_code\": \"RI\", \"park_code\": \"\", \"query\": \"\", \"limit\": 10}', name='search_parks', server_label='National Parks Service tools', type='mcp_call', error=None, output='{\\n  \"total\": \"4\",\\n  \"parks\": [\\n    {\\n      \"name\": \"Blackstone River Valley National Historical Park\",\\n      \"code\": \"blrv\",\\n      \"description\": \"The Blackstone River powered America\\'s entry into the Age of Industry. The success of Samuel Slater\\'s cotton spinning mill in Pawtucket, RI touched off a chain reaction that changed how people worked and where they lived. Learn how this revolution transformed the landscape of the Blackstone Valley and the United States. The Visitor Center at Old Slater Mill is currently open Thursday-Sunday, 10-4.\",\\n      \"website\": \"https://www.nps.gov/blrv/index.htm\",\\n      \"states\": \"RI,MA\",\\n      \"designation\": \"National Historical Park\",\\n      \"latitude\": \"41.8775792792\",\\n      \"longitude\": \"-71.382433945\"\\n    },\\n    {\\n      \"name\": \"Roger Williams National Memorial\",\\n      \"code\": \"rowi\",\\n      \"description\": \"\\\\\"I acknowledge that to molest any person, Jew or Gentile, for either professing doctrine, or practicing worship meerly religious or spiritual, is to persecute him, and such a person (whether his doctrine or practice be true or false) suffers persecution for conscience.\\\\\" -Roger Williams, 1644 Banished by the English and saved by the First Peoples, Roger Williams founded Providence here in 1636.\",\\n      \"website\": \"https://www.nps.gov/rowi/index.htm\",\\n      \"states\": \"RI\",\\n      \"designation\": \"National Memorial\",\\n      \"latitude\": \"41.8298955\",\\n      \"longitude\": \"-71.41056665\"\\n    },\\n    {\\n      \"name\": \"Touro Synagogue National Historic Site\",\\n      \"code\": \"tosy\",\\n      \"description\": \"Touro Synagogue, a building of exquisite beauty and design, steeped in history and ideals, and one of the most historically significant Jewish buildings in America, was designated a National Historic Site in 1946. Dedicated in 1763, it still serves an active congregation and each year greets over 30,000 visitors who come to see the magnificent interior and hear its remarkable story.\",\\n      \"website\": \"https://www.nps.gov/tosy/index.htm\",\\n      \"states\": \"RI\",\\n      \"designation\": \"National Historic Site\",\\n      \"latitude\": \"41.4893\",\\n      \"longitude\": \"-71.3121\"\\n    },\\n    {\\n      \"name\": \"Washington-Rochambeau Revolutionary Route National Historic Trail\",\\n      \"code\": \"waro\",\\n      \"description\": \"\\\\u201cOf the happiness I have enjoyed in our private friendship. The remembrance of which will be one of the most pleasing Circumstances of my life.\\\\u201d\\\\u2013 Comte de Rochambeau on his relationship with George Washington\",\\n      \"website\": \"https://www.nps.gov/waro/index.htm\",\\n      \"states\": \"MA,RI,CT,NY,NJ,PA,DE,MD,VA,DC\",\\n      \"designation\": \"National Historic Trail\",\\n      \"latitude\": \"40.0958204557\",\\n      \"longitude\": \"-74.8563515109\"\\n    }\\n  ]\\n}'), OutputOpenAIResponseOutputMessageMcpCall(id='call_u74M0y4ESFegcOzpAohbsynQ', arguments='{\"state_code\": \"RI\", \"query\": \"\", \"limit\": 10, \"park_code\": \"\"}', name='search_parks', server_label='National Parks Service tools', type='mcp_call', error=None, output='{\\n  \"total\": \"4\",\\n  \"parks\": [\\n    {\\n      \"name\": \"Blackstone River Valley National Historical Park\",\\n      \"code\": \"blrv\",\\n      \"description\": \"The Blackstone River powered America\\'s entry into the Age of Industry. The success of Samuel Slater\\'s cotton spinning mill in Pawtucket, RI touched off a chain reaction that changed how people worked and where they lived. Learn how this revolution transformed the landscape of the Blackstone Valley and the United States. The Visitor Center at Old Slater Mill is currently open Thursday-Sunday, 10-4.\",\\n      \"website\": \"https://www.nps.gov/blrv/index.htm\",\\n      \"states\": \"RI,MA\",\\n      \"designation\": \"National Historical Park\",\\n      \"latitude\": \"41.8775792792\",\\n      \"longitude\": \"-71.382433945\"\\n    },\\n    {\\n      \"name\": \"Roger Williams National Memorial\",\\n      \"code\": \"rowi\",\\n      \"description\": \"\\\\\"I acknowledge that to molest any person, Jew or Gentile, for either professing doctrine, or practicing worship meerly religious or spiritual, is to persecute him, and such a person (whether his doctrine or practice be true or false) suffers persecution for conscience.\\\\\" -Roger Williams, 1644 Banished by the English and saved by the First Peoples, Roger Williams founded Providence here in 1636.\",\\n      \"website\": \"https://www.nps.gov/rowi/index.htm\",\\n      \"states\": \"RI\",\\n      \"designation\": \"National Memorial\",\\n      \"latitude\": \"41.8298955\",\\n      \"longitude\": \"-71.41056665\"\\n    },\\n    {\\n      \"name\": \"Touro Synagogue National Historic Site\",\\n      \"code\": \"tosy\",\\n      \"description\": \"Touro Synagogue, a building of exquisite beauty and design, steeped in history and ideals, and one of the most historically significant Jewish buildings in America, was designated a National Historic Site in 1946. Dedicated in 1763, it still serves an active congregation and each year greets over 30,000 visitors who come to see the magnificent interior and hear its remarkable story.\",\\n      \"website\": \"https://www.nps.gov/tosy/index.htm\",\\n      \"states\": \"RI\",\\n      \"designation\": \"National Historic Site\",\\n      \"latitude\": \"41.4893\",\\n      \"longitude\": \"-71.3121\"\\n    },\\n    {\\n      \"name\": \"Washington-Rochambeau Revolutionary Route National Historic Trail\",\\n      \"code\": \"waro\",\\n      \"description\": \"\\\\u201cOf the happiness I have enjoyed in our private friendship. The remembrance of which will be one of the most pleasing Circumstances of my life.\\\\u201d\\\\u2013 Comte de Rochambeau on his relationship with George Washington\",\\n      \"website\": \"https://www.nps.gov/waro/index.htm\",\\n      \"states\": \"MA,RI,CT,NY,NJ,PA,DE,MD,VA,DC\",\\n      \"designation\": \"National Historic Trail\",\\n      \"latitude\": \"40.0958204557\",\\n      \"longitude\": \"-74.8563515109\"\\n    }\\n  ]\\n}'), OutputOpenAIResponseOutputMessageMcpCall(id='call_QvghzYZGWN4oZlOwgicCk1zR', arguments='{\"park_code\": \"blrv\", \"limit\": 10}', name='get_park_events', server_label='National Parks Service tools', type='mcp_call', error=None, output='{\\n  \"parkCode\": \"BLRV\",\\n  \"totalEvents\": 10,\\n  \"events\": [\\n    {\\n      \"title\": \"Old Slater Mill Tour\",\\n      \"description\": \"<p>Join a Park Ranger on a tour of the Mill that started the American Industrial Revolution. These 30 minute guided tours investigate the historical significance of Slater Mill, and what valuable lessons the building still teachings us. Tours begin at 10:30 AM, 12:30 PM and 2:30 PM in front of the mill. Please arrive a few minutes early.</p>\\\\n<p>\\\\u00a0</p>\\\\n<p><u><em>Please Note:</em></u><em>\\\\u00a0</em><em>For visitor saftey, tours of Old Slater Mill will be modified or cancelled if the heat index is at or above 87 degrees Fahrenheit. A shortened 10 minute Ranger talk will be offered at the normal tour times. Visitors will have a brief period of access to the main part of the mill. For the latest weather information, call 401-725-8638.</em></p>\",\\n      \"location\": \"67 Roosevelt Avenue, Pawtucket, RI 02860\",\\n      \"dateStart\": \"\",\\n      \"dateEnd\": \"\",\\n      \"timeStart\": \"\",\\n      \"timeEnd\": \"\",\\n      \"feeInfo\": \"\",\\n      \"isRecurring\": false,\\n      \"parkCode\": \"\"\\n    },\\n    {\\n      \"title\": \"Old Slater Mill Tour\",\\n      \"description\": \"<p>Join a Park Ranger on a tour of the Mill that started the American Industrial Revolution. These 30 minute guided tours investigate the historical significance of Slater Mill, and what valuable lessons the building still teachings us. Tours begin at 10:30 AM, 12:30 PM and 2:30 PM in front of the mill. Please arrive a few minutes early.</p>\\\\n<p>\\\\u00a0</p>\\\\n<p><u><em>Please Note:</em></u><em>\\\\u00a0</em><em>For visitor saftey, tours of Old Slater Mill will be modified or cancelled if the heat index is at or above 87 degrees Fahrenheit. A shortened 10 minute Ranger talk will be offered at the normal tour times. Visitors will have a brief period of access to the main part of the mill. For the latest weather information, call 401-725-8638.</em></p>\",\\n      \"location\": \"67 Roosevelt Avenue, Pawtucket, RI 02860\",\\n      \"dateStart\": \"\",\\n      \"dateEnd\": \"\",\\n      \"timeStart\": \"\",\\n      \"timeEnd\": \"\",\\n      \"feeInfo\": \"\",\\n      \"isRecurring\": false,\\n      \"parkCode\": \"\"\\n    },\\n    {\\n      \"title\": \"Ranger Walkabout: Community and Change in Berkeley\",\\n      \"description\": \"<p>Join a Park Ranger and explore the Blackstone River Valley.<br /><br />During the months of June, July, and August, park staff offer specialty tours at varying locations across the Blackstone River Watershed. These programs begin at 6:30 PM and are\\\\u00a060-minutes long.<br /><br />Please wear comfortable footwear and bring water.\\\\u00a0Most tours are outside and\\\\u00a0often\\\\u00a0include walking on uneven surfaces on varying types of terrain with no access to bathroom facilities. Bug spray and sunscreen are also highly suggested.<br /><br />Please Note: There will be no Walkabouts on June 19 and July 3.<br />\\\\u00a0</p>\\\\n<hr />\\\\n<h3>\\\\u00a0</h3>\\\\n<h3>August 14 \\\\u2013 Community and Change in Berkeley</h3>\\\\n<p><u>Location:\\\\u00a0</u>30 Martin Street, Cumberland, RI\\\\u00a0</p>\\\\n<p>What happens when a mill community changes ownership? Join a ranger and two members of the community for a guided walk through Berkeley, a Cumberland mill village. Discover how this village has adapted to change and continued to foster and strengthen community and learn about the history of this mill village. Meet in front of the Berkeley Mill complex. Limited free parking is available to participants at the Berkeley Oval just down the road.\\\\u00a0</p>\\\\n<h2>Future Schedule:</h2>\\\\n<h3>August 21 \\\\u2013 Roger Williams National Memorial 60th Anniversary Celebration</h3>\\\\n<p><u>Location:\\\\u00a0</u>282 N. Main St., Providence, RI\\\\u00a0\\\\u00a0</p>\\\\n<p>Roger Williams National Memorial is celebrating its 60th anniversary this year. This year\\\\u2019s National Memorial walkabout will showcase some of the amazing research we\\\\u2019ve done about the creation of the historical well and gardens. Learn about the \\\\u201cmemorial within a memorial,\\\\u201d first donated by J. Jerome Hahn, in memory of his father, Isaac Hahn, the first Jewish person elected to public office in Rhode Island. The Rhode Island Jewish Historical Association will be there to help tell this amazing story.\\\\u00a0</p>\\\\n<h3 lang=\\\\\"EN-US\\\\\" xml:lang=\\\\\"EN-US\\\\\">August 28 \\\\u2013 Remaking a Landscape</h3>\\\\n<p><u>Location:\\\\u00a0</u>67 Roosevelt Ave., Pawtucket, RI\\\\u00a0\\\\u00a0</p>\\\\n<p>Old Slater Mill, America\\\\u2019s first cotton-spinning mill, still stands along the Blackstone River, a reminder of Pawtucket\\\\u2019s industrial past. But the landscape that surrounds the mill has been remade numerous times over the last 232 years of the mill\\\\u2019s existence. On this tour we will use historic photographs, maps, and archeological findings to discover how this landscape has evolved from a rural landscape to an industrial center to a landscape marked by the effects of Urban Renewal. Please note this is not a tour of the interior of Slater Mill, but participants wishing to see the interior will be able to do so after the tour concludes.\\\\u00a0</p>\",\\n      \"location\": \"30 Martin Street, Cumberland, RI\",\\n      \"dateStart\": \"\",\\n      \"dateEnd\": \"\",\\n      \"timeStart\": \"\",\\n      \"timeEnd\": \"\",\\n      \"feeInfo\": \"\",\\n      \"isRecurring\": false,\\n      \"parkCode\": \"\"\\n    },\\n    {\\n      \"title\": \"Ranger Walkabout: Roger Williams 60th Anniversary Celebration\",\\n      \"description\": \"<p>Join a Park Ranger and explore the Blackstone River Valley.<br /><br />During the months of June, July, and August, park staff offer specialty tours at varying locations across the Blackstone River Watershed. These programs begin at 6:30 PM and are\\\\u00a060-minutes long.<br /><br />Please wear comfortable footwear and bring water.\\\\u00a0Most tours are outside and\\\\u00a0often\\\\u00a0include walking on uneven surfaces on varying types of terrain with no access to bathroom facilities. Bug spray and sunscreen are also highly suggested.<br /><br />Please Note: There will be no Walkabouts on June 19 and July 3.<br />\\\\u00a0</p>\\\\n<hr />\\\\n<h3>\\\\u00a0</h3>\\\\n<h3>August 21 \\\\u2013 Roger Williams National Memorial 60th Anniversary Celebration</h3>\\\\n<p><u>Location:\\\\u00a0</u>282 N. Main St., Providence, RI\\\\u00a0\\\\u00a0</p>\\\\n<p>Roger Williams National Memorial is celebrating its 60th anniversary this year. This year\\\\u2019s National Memorial walkabout will showcase some of the amazing research we\\\\u2019ve done about the creation of the historical well and gardens. Learn about the \\\\u201cmemorial within a memorial,\\\\u201d first donated by J. Jerome Hahn, in memory of his father, Isaac Hahn, the first Jewish person elected to public office in Rhode Island. The Rhode Island Jewish Historical Association will be there to help tell this amazing story.\\\\u00a0</p>\\\\n<h2>Future Schedule:</h2>\\\\n<h3 lang=\\\\\"EN-US\\\\\" xml:lang=\\\\\"EN-US\\\\\">August 28 \\\\u2013 Remaking a Landscape</h3>\\\\n<p><u>Location:\\\\u00a0</u>67 Roosevelt Ave., Pawtucket, RI\\\\u00a0\\\\u00a0</p>\\\\n<p>Old Slater Mill, America\\\\u2019s first cotton-spinning mill, still stands along the Blackstone River, a reminder of Pawtucket\\\\u2019s industrial past. But the landscape that surrounds the mill has been remade numerous times over the last 232 years of the mill\\\\u2019s existence. On this tour we will use historic photographs, maps, and archeological findings to discover how this landscape has evolved from a rural landscape to an industrial center to a landscape marked by the effects of Urban Renewal. Please note this is not a tour of the interior of Slater Mill, but participants wishing to see the interior will be able to do so after the tour concludes.\\\\u00a0</p>\",\\n      \"location\": \"Roger Williams National Memorial, 282 North Main Street, Providence, RI\",\\n      \"dateStart\": \"\",\\n      \"dateEnd\": \"\",\\n      \"timeStart\": \"\",\\n      \"timeEnd\": \"\",\\n      \"feeInfo\": \"\",\\n      \"isRecurring\": false,\\n      \"parkCode\": \"\"\\n    },\\n    {\\n      \"title\": \"Old Slater Mill Tour\",\\n      \"description\": \"<p>Join a Park Ranger on a tour of the Mill that started the American Industrial Revolution. These 30 minute guided tours investigate the historical significance of Slater Mill, and what valuable lessons the building still teachings us. Tours begin at 10:30 AM, 12:30 PM and 2:30 PM in front of the mill. Please arrive a few minutes early.</p>\\\\n<p>\\\\u00a0</p>\\\\n<p><u><em>Please Note:</em></u><em>\\\\u00a0</em><em>For visitor saftey, tours of Old Slater Mill will be modified or cancelled if the heat index is at or above 87 degrees Fahrenheit. A shortened 10 minute Ranger talk will be offered at the normal tour times. Visitors will have a brief period of access to the main part of the mill. For the latest weather information, call 401-725-8638.</em></p>\",\\n      \"location\": \"67 Roosevelt Avenue, Pawtucket, RI 02860\",\\n      \"dateStart\": \"\",\\n      \"dateEnd\": \"\",\\n      \"timeStart\": \"\",\\n      \"timeEnd\": \"\",\\n      \"feeInfo\": \"\",\\n      \"isRecurring\": false,\\n      \"parkCode\": \"\"\\n    },\\n    {\\n      \"title\": \"Take Me Fishing Day\",\\n      \"description\": \"<p>It\\'s time again for our annual Founders Day fishing event.\\\\u00a0</p>\\\\n<p>Join Park Rangers, DEM, US Fish and Wildlife staff, and volunteers for a free fishing program at the Kelly House, located at the Blackstone River State Park, on August 24, 2025 from 1-4 PM. Catch some fish, learn about the river, and earn a Junior Angler badge.\\\\u00a0</p>\\\\n<p>All fishing gear, materials, and bait will be provided.</p>\\\\n<p>Please wear comfortable footwear and bring water. Bug spray and sunscreen are also highly suggested.\\\\u00a0</p>\",\\n      \"location\": \"\",\\n      \"dateStart\": \"\",\\n      \"dateEnd\": \"\",\\n      \"timeStart\": \"\",\\n      \"timeEnd\": \"\",\\n      \"feeInfo\": \"\",\\n      \"isRecurring\": false,\\n      \"parkCode\": \"\"\\n    },\\n    {\\n      \"title\": \"Ranger Walkabout: Remaking a Landscape\",\\n      \"description\": \"<p>Join a Park Ranger and explore the Blackstone River Valley.<br /><br />During the months of June, July, and August, park staff offer specialty tours at varying locations across the Blackstone River Watershed. These programs begin at 6:30 PM and are\\\\u00a060-minutes long.<br /><br />Please wear comfortable footwear and bring water.\\\\u00a0Most tours are outside and\\\\u00a0often\\\\u00a0include walking on uneven surfaces on varying types of terrain with no access to bathroom facilities. Bug spray and sunscreen are also highly suggested.<br /><br />Please Note: There will be no Walkabouts on June 19 and July 3.<br />\\\\u00a0</p>\\\\n<hr />\\\\n<h3>\\\\u00a0</h3>\\\\n<h3 lang=\\\\\"EN-US\\\\\" xml:lang=\\\\\"EN-US\\\\\">August 28 \\\\u2013 Remaking a Landscape</h3>\\\\n<p><u>Location:\\\\u00a0</u>67 Roosevelt Ave., Pawtucket, RI\\\\u00a0\\\\u00a0</p>\\\\n<p>Old Slater Mill, America\\\\u2019s first cotton-spinning mill, still stands along the Blackstone River, a reminder of Pawtucket\\\\u2019s industrial past. But the landscape that surrounds the mill has been remade numerous times over the last 232 years of the mill\\\\u2019s existence. On this tour we will use historic photographs, maps, and archeological findings to discover how this landscape has evolved from a rural landscape to an industrial center to a landscape marked by the effects of Urban Renewal. Please note this is not a tour of the interior of Slater Mill, but participants wishing to see the interior will be able to do so after the tour concludes.\\\\u00a0</p>\",\\n      \"location\": \"Old Slater Mill, 67 Roosevelt Avenue, Pawtucket, RI\",\\n      \"dateStart\": \"\",\\n      \"dateEnd\": \"\",\\n      \"timeStart\": \"\",\\n      \"timeEnd\": \"\",\\n      \"feeInfo\": \"\",\\n      \"isRecurring\": false,\\n      \"parkCode\": \"\"\\n    },\\n    {\\n      \"title\": \"Labor Day Weekend Specialty Tours at Old Slater Mill\",\\n      \"description\": \"<p class=\\\\\"\\\\\">Celebrate Labor Day by joining us on a special guided tour of the Mill that started the American Industrial Revolution. These 30 - 45 minute guided tours investigate the historical significance of Slater Mill, and what valuable lessons the building still teachings us.</p>\\\\n<h3 class=\\\\\"\\\\\" lang=\\\\\"EN-US\\\\\" xml:lang=\\\\\"EN-US\\\\\">Saturday, August 30, 2025</h3>\\\\n<h4 class=\\\\\"\\\\\" lang=\\\\\"EN-US\\\\\" xml:lang=\\\\\"EN-US\\\\\">10:30 AM: Not Child\\\\u2019s Play: The Story of Slater Mill</h4>\\\\n<p class=\\\\\"\\\\\" lang=\\\\\"EN-US\\\\\" xml:lang=\\\\\"EN-US\\\\\">Join a Park Ranger as we discuss the stories of the children who were the first workers at Old Slater Mill.</p>\\\\n<h4 class=\\\\\"\\\\\" lang=\\\\\"EN-US\\\\\" xml:lang=\\\\\"EN-US\\\\\">12:30 PM: The Cotton Economy</h4>\\\\n<p class=\\\\\"\\\\\" lang=\\\\\"EN-US\\\\\" xml:lang=\\\\\"EN-US\\\\\">Join a Park Ranger and learn about the close connections between the labor of enslaved peoples and the textile industry of the Blackstone River Valley.</p>\\\\n<h4 class=\\\\\"\\\\\" lang=\\\\\"EN-US\\\\\" xml:lang=\\\\\"EN-US\\\\\">2:30 PM: Women\\\\u2019s Work: Labor History at Old Slater Mill</h4>\\\\n<p class=\\\\\"\\\\\" lang=\\\\\"EN-US\\\\\" xml:lang=\\\\\"EN-US\\\\\">Join a Park Ranger for a discussion of the intersection between women\\\\u2019s history and labor history and Old Slater Mill.</p>\\\\n<h3 class=\\\\\"\\\\\" lang=\\\\\"EN-US\\\\\" xml:lang=\\\\\"EN-US\\\\\">Sunday, August 31, 2025</h3>\\\\n<h4 class=\\\\\"\\\\\" lang=\\\\\"EN-US\\\\\" xml:lang=\\\\\"EN-US\\\\\">10:30 AM: The Birthplace of America\\\\u2019s Working Class</h4>\\\\n<p class=\\\\\"\\\\\" lang=\\\\\"EN-US\\\\\" xml:lang=\\\\\"EN-US\\\\\">Join a Park Ranger for a discussion of the importance of Old Slater Mill and the birth of the American working class.</p>\\\\n<h4 lang=\\\\\"EN-US\\\\\" xml:lang=\\\\\"EN-US\\\\\">12:30 PM: The Cotton Economy</h4>\\\\n<p class=\\\\\"\\\\\" lang=\\\\\"EN-US\\\\\" xml:lang=\\\\\"EN-US\\\\\">Join a Park Ranger and learn about the close connections between the labor of enslaved peoples and the textile industry of the Blackstone River Valley.</p>\\\\n<h4 lang=\\\\\"EN-US\\\\\" xml:lang=\\\\\"EN-US\\\\\">2:30 PM: Human and Machine</h4>\\\\n<p lang=\\\\\"EN-US\\\\\" xml:lang=\\\\\"EN-US\\\\\">Join a Park Ranger for a deep dive into the collection of historic machinery at Old Slater Mill and the people who worked those machines.</p>\\\\n<h4 class=\\\\\"\\\\\" lang=\\\\\"EN-US\\\\\" xml:lang=\\\\\"EN-US\\\\\">Please note: Old Slater Mill is closed on Labor Day (Monday, September 1, 2025)</h4>\",\\n      \"location\": \"67 Roosevelt Avenue, Pawtucket, RI 02860\",\\n      \"dateStart\": \"\",\\n      \"dateEnd\": \"\",\\n      \"timeStart\": \"\",\\n      \"timeEnd\": \"\",\\n      \"feeInfo\": \"\",\\n      \"isRecurring\": false,\\n      \"parkCode\": \"\"\\n    },\\n    {\\n      \"title\": \"Songwriters at Slater Mill\",\\n      \"description\": \"<div data-ogsc=\\\\\"black\\\\\" data-olk-copy-source=\\\\\"MessageBody\\\\\">Join Allison Rose and J. Michael Graham for an afternoon of acoustic music along the Blackstone River! This free program will be hosted on the grounds of Old Slater Mill National Historic Landmark, located in Downtown Pawtucket.</div>\\\\n<div id=\\\\\"x_x_Signature\\\\\">\\\\n<div data-ogsc=\\\\\"black\\\\\">\\\\u00a0</div>\\\\n<div data-ogsc=\\\\\"black\\\\\">Songwriters at the Mill is part of the annual Pawtucket Arts Festival. National Park Service staff will also be on hand to provide\\\\u00a0<a id=\\\\\"LPlnk747698\\\\\" title=\\\\\"https://www.nps.gov/planyourvisit/event-details.htm?id=FFCB51A9-BEE1-CBE5-C0863B04B5DF1D5E\\\\\" href=\\\\\"https://www.nps.gov/planyourvisit/event-details.htm?id=FFCB51A9-BEE1-CBE5-C0863B04B5DF1D5E\\\\\" target=\\\\\"_blank\\\\\" rel=\\\\\"noopener noreferrer\\\\\" data-auth=\\\\\"NotApplicable\\\\\" data-linkindex=\\\\\"1\\\\\" data-ogsc=\\\\\"\\\\\">free specialty tours</a>\\\\u00a0of Slater Mill at 10:30 AM, 12:30 PM, and 2:30 PM.</div>\\\\n<div data-ogsc=\\\\\"black\\\\\">\\\\u00a0</div>\\\\n<div data-ogsc=\\\\\"black\\\\\">The Visitor Center will be open 10 AM - 4 PM.\\\\u00a0</div>\\\\n<div data-ogsc=\\\\\"black\\\\\">\\\\u00a0</div>\\\\n<div data-ogsc=\\\\\"rgb(200, 38, 19)\\\\\">\\\\u00a0</div>\\\\n<div data-ogsc=\\\\\"black\\\\\">Free\\\\u00a0and open to all and family friendly! Please bring your own chair or blanket. Limited seating available.\\\\u00a0</div>\\\\n</div>\",\\n      \"location\": \"\",\\n      \"dateStart\": \"\",\\n      \"dateEnd\": \"\",\\n      \"timeStart\": \"\",\\n      \"timeEnd\": \"\",\\n      \"feeInfo\": \"\",\\n      \"isRecurring\": false,\\n      \"parkCode\": \"\"\\n    },\\n    {\\n      \"title\": \"New and Dangerous Opinions of Roger Williams\",\\n      \"description\": \"<p><strong>Enjoy a free performance by the acclaimed Aurea Ensemble inside Slater Mill.</strong></p>\\\\n<p><em>Aurea members are equally inspired by each other\\\\u2019s artistry and seek to create a new genre of performance, melding words, and music thematically in a highly collaborative spirit.</em></p>\\\\n<p>The program \\\\u201cNew and Dangerous Opinions of Rogers Williams\\\\\" fuses writings of Roger Williams and Native American poetry, underscored by music of Handel, Orlando di Lasso, and Rhode Island\\\\u2019s own Chris Turner, and John Milton (whose son, the famous poet of the same name, was a friend and philosophical inspiration to Roger Williams.) This lively program, set in the dramatic political and philosophical fray of colonial RI, introduces audiences to the strong-minded iconoclast, Roger Williams and his deep respect for Native American culture.</p>\\\\n<p>Presented with special thanks to Blackstone River Valley National Historical Park, Blackstone River Valley National Heritage Corridor, and the Pawtucket Arts Festival.</p>\\\\n<p><strong>Important Information:</strong></p>\\\\n<p>This event is accessible.</p>\\\\n<p>The concert will be taking place inside of Slater Mill on the second floor. An elevator is available.</p>\\\\n<p><strong>R</strong><strong>egistration is required</strong>\\\\u00a0for this free concert. Seating is limited and it is likely to be a full house. If you are unable to attend please cancel your registration on Eventbrite as soon as possible.</p>\\\\n<p><strong>On the day of the event,</strong><strong>\\\\u00a0</strong>doors open at 3:30pm, and you will forfeit your seat if have not checked in by 3:45. There will be a wait list sign-in at the door for those who did not register and hoping to attend. Thank you.</p>\\\\n<p>The doors will be shut at 4:00 PM for the beginning of the performance.</p>\\\\n<p>Learn more about Aurea here:\\\\u00a0<a title=\\\\\"https://aureaensemble.org/\\\\\" href=\\\\\"https://aureaensemble.org/\\\\\" target=\\\\\"_blank\\\\\" rel=\\\\\"nofollow noopener noreferrer\\\\\" data-msys-clicktrack=\\\\\"0\\\\\">https://aureaensemble.org/</a></p>\",\\n      \"location\": \"67 Roosevelt Avenue, Pawtucket, RI 02860\",\\n      \"dateStart\": \"\",\\n      \"dateEnd\": \"\",\\n      \"timeStart\": \"\",\\n      \"timeEnd\": \"\",\\n      \"feeInfo\": \"\",\\n      \"isRecurring\": false,\\n      \"parkCode\": \"\"\\n    }\\n  ]\\n}'), OutputOpenAIResponseOutputMessageMcpCall(id='call_Q1wSvgdd7Ynl2waF4306KyUE', arguments='{\"park_code\": \"rowi\", \"limit\": 10}', name='get_park_events', server_label='National Parks Service tools', type='mcp_call', error=None, output='{\\n  \"parkCode\": \"ROWI\",\\n  \"totalEvents\": 5,\\n  \"events\": [\\n    {\\n      \"title\": \"Roger Williams: The Separation of Church and State\",\\n      \"description\": \"<p>A cornerstone of our democracy, Roger Williams established a clear limit to government authority. Join a National Park Service ranger as we explore the principles of freedom put into practice by Roger Williams and that changed the course of history.</p>\\\\n<p>The National Park Service is America\\'s largest classroom. These free programs are part of a comprehenisve experience about Roger Williams\\'s contributions to the principles of freedom in America today. Explore your National Memorial today!\\\\u00a0</p>\",\\n      \"location\": \"The program begins at the historical well\",\\n      \"dateStart\": \"\",\\n      \"dateEnd\": \"\",\\n      \"timeStart\": \"\",\\n      \"timeEnd\": \"\",\\n      \"feeInfo\": \"\",\\n      \"isRecurring\": false,\\n      \"parkCode\": \"\"\\n    },\\n    {\\n      \"title\": \"Roger Williams: The Separation of Church and State\",\\n      \"description\": \"<p>A cornerstone of our democracy, Roger Williams established a clear limit to government authority. Join a National Park Service ranger as we explore the principles of freedom put into practice by Roger Williams and that changed\\\\u00a0the\\\\u00a0course of history.</p>\\\\n<p>The National Park Service is America\\'s largest classroom. These free programs are part of a comprehenisve experience about Roger Williams\\'s contributions to the principles of freedom in America today. Explore your National Memorial today!\\\\u00a0</p>\",\\n      \"location\": \"\",\\n      \"dateStart\": \"\",\\n      \"dateEnd\": \"\",\\n      \"timeStart\": \"\",\\n      \"timeEnd\": \"\",\\n      \"feeInfo\": \"\",\\n      \"isRecurring\": false,\\n      \"parkCode\": \"\"\\n    },\\n    {\\n      \"title\": \"Lunchtime Arts in the Park\",\\n      \"description\": \"<p><strong>The Same Thing Project </strong>is a \\\\u201ccommunity songwriting\\\\u201d workshop for people from all walks of life. Musicians, artists, students, teachers, retired folks, neurodiverse, differently-abled, blue and white-collar workers participate every week in writing a song. The Same Thing Project provides a place where you don\\\\u2019t have to be skilled at a musical instrument in order to be musical. It\\\\u2019s a space where you can be part of a creative community that is open, nonjudgmental and encouraging. \\\\u00a0Connection is created and isolation is reduced.</p>\",\\n      \"location\": \"\",\\n      \"dateStart\": \"\",\\n      \"dateEnd\": \"\",\\n      \"timeStart\": \"\",\\n      \"timeEnd\": \"\",\\n      \"feeInfo\": \"\",\\n      \"isRecurring\": false,\\n      \"parkCode\": \"\"\\n    },\\n    {\\n      \"title\": \"Roger Williams National Memorial 60th Anniversary Celebration\",\\n      \"description\": \"<p>Join us as we celebrate the 60th Anniversary of the establishment of Roger Williams National Memorial. There will be remarks, musical performances, and a look into one of our newest programs (still in development) about the first steward of the land that was to become the National Memorial. This program is called, The Hahn\\'s of Providence, A Memorial Legacy. This program was made possible in part by the National Parks Foundation.</p>\",\\n      \"location\": \"\",\\n      \"dateStart\": \"\",\\n      \"dateEnd\": \"\",\\n      \"timeStart\": \"\",\\n      \"timeEnd\": \"\",\\n      \"feeInfo\": \"\",\\n      \"isRecurring\": false,\\n      \"parkCode\": \"\"\\n    },\\n    {\\n      \"title\": \"Trivia Night!\",\\n      \"description\": \"<p>Join us for Trivia Night at Roger Williams National Memorial!</p>\\\\n<p>This family-friendly event will be held outdoors, weather permitting. Bring your own food, non-alcoholic drinks, and blankets or chairs. Dogs are welcome on a leash. Come with a team or join one when you get here!</p>\\\\n<p>Roger Williams National Memorial is located at 282 North Main Street in Providence.\\\\u00a0</p>\",\\n      \"location\": \"\",\\n      \"dateStart\": \"\",\\n      \"dateEnd\": \"\",\\n      \"timeStart\": \"\",\\n      \"timeEnd\": \"\",\\n      \"feeInfo\": \"\",\\n      \"isRecurring\": false,\\n      \"parkCode\": \"\"\\n    }\\n  ]\\n}'), OutputOpenAIResponseOutputMessageMcpCall(id='call_PkG7UDhmajp0Pc2p7TRCtiru', arguments='{\"park_code\": \"tosy\", \"limit\": 10}', name='get_park_events', server_label='National Parks Service tools', type='mcp_call', error=None, output='{\"parkCode\": \"TOSY\", \"message\": \"No upcoming events found for this park\"}'), OutputOpenAIResponseOutputMessageMcpCall(id='call_e958QyMjjz3HSldETkUVa6jP', arguments='{\"park_code\": \"waro\", \"limit\": 10}', name='get_park_events', server_label='National Parks Service tools', type='mcp_call', error=None, output='{\"parkCode\": \"WARO\", \"message\": \"No upcoming events found for this park\"}'), OutputOpenAIResponseMessage(content=[OutputOpenAIResponseMessageContentUnionMember2(annotations=[], text=\"Here are some national parks in Rhode Island and their upcoming events:\\n\\n1. **Blackstone River Valley National Historical Park (BLRV)**\\n   - **Description:** This park highlights the history and significance of Samuel Slater's cotton spinning mill in Pawtucket, which was pivotal in America's entry into the Age of Industry.\\n   - **Website:** [Blackstone River Valley NHP](https://www.nps.gov/blrv/index.htm)\\n   - **Upcoming Events:**\\n     - **Old Slater Mill Tour:** Guided tours discussing the mill's historical significance.\\n     - **Ranger Walkabout:** Explore the Blackstone River Valley with park staff offering specialty tours.\\n     - **Take Me Fishing Day:** A free fishing program, offering fishing gear and the opportunity to earn a Junior Angler badge.\\n     - **Labor Day Weekend Specialty Tours:** Special guided tours discussing various historical aspects.\\n     - **Songwriters at Slater Mill:** An afternoon of acoustic music as part of the Pawtucket Arts Festival.\\n\\n2. **Roger Williams National Memorial (ROWI)**\\n   - **Description:** Dedicated to Roger Williams, this memorial explores his influence in establishing a principle of separation between church and state.\\n   - **Website:** [Roger Williams National Memorial](https://www.nps.gov/rowi/index.htm)\\n   - **Upcoming Events:**\\n     - **Roger Williams: The Separation of Church and State:** Explore Roger Williams' principles of freedom.\\n     - **Lunchtime Arts in the Park:** Participate in a community songwriting workshop.\\n     - **60th Anniversary Celebration:** Celebrate the memorial's 60th anniversary with performances and new programs.\\n     - **Trivia Night!:** Join a family-friendly trivia night at the park.\\n\\n3. **Touro Synagogue National Historic Site (TOSY)**\\n   - **Description:** This synagogue is a historically significant Jewish building in America, showcasing exquisite beauty and design.\\n   - **Website:** [Touro Synagogue NHS](https://www.nps.gov/tosy/index.htm)\\n   - **Upcoming Events:** No upcoming events are currently scheduled.\\n\\n4. **Washington-Rochambeau Revolutionary Route National Historic Trail (WARO)**\\n   - **Description:** The trail commemorates the route taken by French and American troops during the Revolutionary War.\\n   - **Website:** [Washington-Rochambeau NHT](https://www.nps.gov/waro/index.htm)\\n   - **Upcoming Events:** No upcoming events are currently scheduled. \\n\\nExplore these parks to enjoy historical insights, interactive tours, and fun events in Rhode Island!\", type='output_text')], role='assistant', type='message', id='msg_7d78b643-1338-4f73-9a85-f8b134f166bd', status='completed')], parallel_tool_calls=False, status='completed', text=Text(format=TextFormat(type='text', description=None, name=None, schema_=None, strict=None)), error=None, previous_response_id=None, temperature=None, top_p=None, truncation=None, user=None)"
      ]
     },
     "execution_count": 13,
     "metadata": {},
     "output_type": "execute_result"
    }
   ],
   "source": [
    "mcp_llama_stack_client_response = client.responses.create(\n",
    "    model=LLAMA_STACK_MODEL_ID,\n",
    "    input=\"Tell me about some parks in Rhode Island, and let me know if there are any upcoming events at them.\",\n",
    "    tools=[\n",
    "        {\n",
    "            \"type\": \"mcp\",\n",
    "            \"server_url\": NPS_MCP_URL,\n",
    "            \"server_label\": \"National Parks Service tools\",\n",
    "        }\n",
    "    ]\n",
    ")\n",
    "\n",
    "mcp_llama_stack_client_response"
   ]
  },
  {
   "cell_type": "markdown",
   "id": "984c720e",
   "metadata": {},
   "source": [
    "The output for this one is even more complicated, so we'll add some more clauses to the print method to come up with a version that handles both RAG and MCP tool calling:"
   ]
  },
  {
   "cell_type": "code",
   "execution_count": 14,
   "id": "38ae2d47",
   "metadata": {},
   "outputs": [],
   "source": [
    "def print_response(response):\n",
    "    print(f\"ID: {response.id}\")\n",
    "    print(f\"Status: {response.status}\")\n",
    "    print(f\"Model: {response.model}\")\n",
    "    print(f\"Created at: {response.created_at}\")\n",
    "    print(f\"Output items: {len(response.output)}\")\n",
    "    \n",
    "    for i, output_item in enumerate(response.output):\n",
    "        if len(response.output) > 1:\n",
    "            print(f\"\\n--- Output Item {i+1} ---\")\n",
    "        print(f\"Output type: {output_item.type}\")\n",
    "        \n",
    "        if output_item.type in (\"text\", \"message\"):\n",
    "            print(f\"Response content: {output_item.content[0].text}\")\n",
    "        elif output_item.type == \"file_search_call\":\n",
    "            print(f\"  Tool Call ID: {output_item.id}\")\n",
    "            print(f\"  Tool Status: {output_item.status}\")\n",
    "            # 'queries' is a list, so we join it for clean printing\n",
    "            print(f\"  Queries: {', '.join(output_item.queries)}\")\n",
    "            # Display results if they exist, otherwise note they are empty\n",
    "            print(f\"  Results: {output_item.results if output_item.results else 'None'}\")\n",
    "        elif output_item.type == \"mcp_list_tools\":\n",
    "            print_mcp_list_tools(output_item)\n",
    "        elif output_item.type == \"mcp_call\":\n",
    "            print_mcp_call(output_item)\n",
    "        else:\n",
    "            print(f\"Response content: {output_item.content}\")\n",
    "\n",
    "def print_mcp_call(mcp_call):\n",
    "    \"\"\"Print MCP call in a nicely formatted way\"\"\"\n",
    "    print(f\"\\n🛠️  MCP Tool Call: {mcp_call.name}\")\n",
    "    print(f\"   Server: {mcp_call.server_label}\")\n",
    "    print(f\"   ID: {mcp_call.id}\")\n",
    "    print(f\"   Arguments: {mcp_call.arguments}\")\n",
    "    \n",
    "    if mcp_call.error:\n",
    "        print(\"Error: {mcp_call.error}\")\n",
    "    elif mcp_call.output:\n",
    "        print(\"Output:\")\n",
    "        # Try to format JSON output nicely\n",
    "        try:\n",
    "            import json\n",
    "            parsed_output = json.loads(mcp_call.output)\n",
    "            print(json.dumps(parsed_output, indent=4))\n",
    "        except:\n",
    "            # If not valid JSON, print as-is\n",
    "            print(f\"   {mcp_call.output}\")\n",
    "    else:\n",
    "        print(\"   ⏳ No output yet\")\n",
    "\n",
    "def print_mcp_list_tools(mcp_list_tools):\n",
    "    \"\"\"Print MCP list tools in a nicely formatted way\"\"\"\n",
    "    print(f\"\\n🔧 MCP Server: {mcp_list_tools.server_label}\")\n",
    "    print(f\"   ID: {mcp_list_tools.id}\")\n",
    "    print(f\"   Available Tools: {len(mcp_list_tools.tools)}\")\n",
    "    print(\"=\" * 80)\n",
    "    \n",
    "    for i, tool in enumerate(mcp_list_tools.tools, 1):\n",
    "        print(f\"\\n{i}. {tool.name}\")\n",
    "        print(f\"   Description: {tool.description}\")\n",
    "        \n",
    "        # Parse and display input schema\n",
    "        schema = tool.input_schema\n",
    "        if schema and 'properties' in schema:\n",
    "            properties = schema['properties']\n",
    "            required = schema.get('required', [])\n",
    "            \n",
    "            print(\"   Parameters:\")\n",
    "            for param_name, param_info in properties.items():\n",
    "                param_type = param_info.get('type', 'unknown')\n",
    "                param_desc = param_info.get('description', 'No description')\n",
    "                required_marker = \" (required)\" if param_name in required else \" (optional)\"\n",
    "                print(f\"     • {param_name} ({param_type}){required_marker}\")\n",
    "                if param_desc:\n",
    "                    print(f\"       {param_desc}\")\n",
    "        \n",
    "        if i < len(mcp_list_tools.tools):\n",
    "            print(\"-\" * 40)"
   ]
  },
  {
   "cell_type": "code",
   "execution_count": 15,
   "id": "9f9abf0f",
   "metadata": {},
   "outputs": [
    {
     "name": "stdout",
     "output_type": "stream",
     "text": [
      "ID: resp-4bddbed7-3503-4231-bd17-5beb63ee08b3\n",
      "Status: completed\n",
      "Model: gpt-4o\n",
      "Created at: 1755107168\n",
      "Output items: 8\n",
      "\n",
      "--- Output Item 1 ---\n",
      "Output type: mcp_list_tools\n",
      "\n",
      "🔧 MCP Server: National Parks Service tools\n",
      "   ID: mcp_list_5d571da3-1551-44e3-890d-2d1fff59958c\n",
      "   Available Tools: 5\n",
      "================================================================================\n",
      "\n",
      "1. search_parks\n",
      "   Description: Search for national parks by state, park code, or query string.\n",
      "\n",
      "Args:\n",
      "    state_code: Two-letter state code (e.g., 'CA', 'NY')\n",
      "    park_code: Four-letter park code (e.g., 'yell', 'acad')\n",
      "    query: Search query for park names or descriptions\n",
      "    limit: Maximum number of results to return (default: 10)\n",
      "\n",
      "Returns:\n",
      "    JSON string with park information including name, description, website, and location\n",
      "   Parameters:\n",
      "     • state_code (string) (required)\n",
      "     • park_code (string) (required)\n",
      "     • query (string) (required)\n",
      "     • limit (integer) (required)\n",
      "----------------------------------------\n",
      "\n",
      "2. get_park_alerts\n",
      "   Description: Get current alerts for a specific national park.\n",
      "\n",
      "Args:\n",
      "    park_code: Four-letter park code (e.g., 'yell', 'acad', 'grca')\n",
      "\n",
      "Returns:\n",
      "    JSON string with current alerts for the park\n",
      "   Parameters:\n",
      "     • park_code (string) (required)\n",
      "----------------------------------------\n",
      "\n",
      "3. get_park_campgrounds\n",
      "   Description: Get campground information for a specific national park.\n",
      "\n",
      "Args:\n",
      "    park_code: Four-letter park code (e.g., 'yell', 'acad', 'grca')\n",
      "    limit: Maximum number of campgrounds to return (default: 10)\n",
      "\n",
      "Returns:\n",
      "    JSON string with campground information including location, amenities, and fees\n",
      "   Parameters:\n",
      "     • park_code (string) (required)\n",
      "     • limit (integer) (required)\n",
      "----------------------------------------\n",
      "\n",
      "4. get_park_events\n",
      "   Description: Get upcoming events for a specific national park.\n",
      "\n",
      "Args:\n",
      "    park_code: Four-letter park code (e.g., 'yell', 'acad', 'grca')\n",
      "    limit: Maximum number of events to return (default: 10)\n",
      "\n",
      "Returns:\n",
      "    JSON string with event information including date, time, fee, and description\n",
      "   Parameters:\n",
      "     • park_code (string) (required)\n",
      "     • limit (integer) (required)\n",
      "----------------------------------------\n",
      "\n",
      "5. get_visitor_centers\n",
      "   Description: Get visitor center information for a specific national park.\n",
      "\n",
      "Args:\n",
      "    park_code: Four-letter park code (e.g., 'yell', 'acad', 'grca')\n",
      "    limit: Maximum number of visitor centers to return (default: 10)\n",
      "\n",
      "Returns:\n",
      "    JSON string with visitor center information including location, contact, and operating hours\n",
      "   Parameters:\n",
      "     • park_code (string) (required)\n",
      "     • limit (integer) (required)\n",
      "\n",
      "--- Output Item 2 ---\n",
      "Output type: mcp_call\n",
      "\n",
      "🛠️  MCP Tool Call: search_parks\n",
      "   Server: National Parks Service tools\n",
      "   ID: call_n7zc08nuchj77bdGsSB2ncui\n",
      "   Arguments: {\"state_code\": \"RI\", \"park_code\": \"\", \"query\": \"\", \"limit\": 10}\n",
      "Output:\n",
      "{\n",
      "    \"total\": \"4\",\n",
      "    \"parks\": [\n",
      "        {\n",
      "            \"name\": \"Blackstone River Valley National Historical Park\",\n",
      "            \"code\": \"blrv\",\n",
      "            \"description\": \"The Blackstone River powered America's entry into the Age of Industry. The success of Samuel Slater's cotton spinning mill in Pawtucket, RI touched off a chain reaction that changed how people worked and where they lived. Learn how this revolution transformed the landscape of the Blackstone Valley and the United States. The Visitor Center at Old Slater Mill is currently open Thursday-Sunday, 10-4.\",\n",
      "            \"website\": \"https://www.nps.gov/blrv/index.htm\",\n",
      "            \"states\": \"RI,MA\",\n",
      "            \"designation\": \"National Historical Park\",\n",
      "            \"latitude\": \"41.8775792792\",\n",
      "            \"longitude\": \"-71.382433945\"\n",
      "        },\n",
      "        {\n",
      "            \"name\": \"Roger Williams National Memorial\",\n",
      "            \"code\": \"rowi\",\n",
      "            \"description\": \"\\\"I acknowledge that to molest any person, Jew or Gentile, for either professing doctrine, or practicing worship meerly religious or spiritual, is to persecute him, and such a person (whether his doctrine or practice be true or false) suffers persecution for conscience.\\\" -Roger Williams, 1644 Banished by the English and saved by the First Peoples, Roger Williams founded Providence here in 1636.\",\n",
      "            \"website\": \"https://www.nps.gov/rowi/index.htm\",\n",
      "            \"states\": \"RI\",\n",
      "            \"designation\": \"National Memorial\",\n",
      "            \"latitude\": \"41.8298955\",\n",
      "            \"longitude\": \"-71.41056665\"\n",
      "        },\n",
      "        {\n",
      "            \"name\": \"Touro Synagogue National Historic Site\",\n",
      "            \"code\": \"tosy\",\n",
      "            \"description\": \"Touro Synagogue, a building of exquisite beauty and design, steeped in history and ideals, and one of the most historically significant Jewish buildings in America, was designated a National Historic Site in 1946. Dedicated in 1763, it still serves an active congregation and each year greets over 30,000 visitors who come to see the magnificent interior and hear its remarkable story.\",\n",
      "            \"website\": \"https://www.nps.gov/tosy/index.htm\",\n",
      "            \"states\": \"RI\",\n",
      "            \"designation\": \"National Historic Site\",\n",
      "            \"latitude\": \"41.4893\",\n",
      "            \"longitude\": \"-71.3121\"\n",
      "        },\n",
      "        {\n",
      "            \"name\": \"Washington-Rochambeau Revolutionary Route National Historic Trail\",\n",
      "            \"code\": \"waro\",\n",
      "            \"description\": \"\\u201cOf the happiness I have enjoyed in our private friendship. The remembrance of which will be one of the most pleasing Circumstances of my life.\\u201d\\u2013 Comte de Rochambeau on his relationship with George Washington\",\n",
      "            \"website\": \"https://www.nps.gov/waro/index.htm\",\n",
      "            \"states\": \"MA,RI,CT,NY,NJ,PA,DE,MD,VA,DC\",\n",
      "            \"designation\": \"National Historic Trail\",\n",
      "            \"latitude\": \"40.0958204557\",\n",
      "            \"longitude\": \"-74.8563515109\"\n",
      "        }\n",
      "    ]\n",
      "}\n",
      "\n",
      "--- Output Item 3 ---\n",
      "Output type: mcp_call\n",
      "\n",
      "🛠️  MCP Tool Call: search_parks\n",
      "   Server: National Parks Service tools\n",
      "   ID: call_u74M0y4ESFegcOzpAohbsynQ\n",
      "   Arguments: {\"state_code\": \"RI\", \"query\": \"\", \"limit\": 10, \"park_code\": \"\"}\n",
      "Output:\n",
      "{\n",
      "    \"total\": \"4\",\n",
      "    \"parks\": [\n",
      "        {\n",
      "            \"name\": \"Blackstone River Valley National Historical Park\",\n",
      "            \"code\": \"blrv\",\n",
      "            \"description\": \"The Blackstone River powered America's entry into the Age of Industry. The success of Samuel Slater's cotton spinning mill in Pawtucket, RI touched off a chain reaction that changed how people worked and where they lived. Learn how this revolution transformed the landscape of the Blackstone Valley and the United States. The Visitor Center at Old Slater Mill is currently open Thursday-Sunday, 10-4.\",\n",
      "            \"website\": \"https://www.nps.gov/blrv/index.htm\",\n",
      "            \"states\": \"RI,MA\",\n",
      "            \"designation\": \"National Historical Park\",\n",
      "            \"latitude\": \"41.8775792792\",\n",
      "            \"longitude\": \"-71.382433945\"\n",
      "        },\n",
      "        {\n",
      "            \"name\": \"Roger Williams National Memorial\",\n",
      "            \"code\": \"rowi\",\n",
      "            \"description\": \"\\\"I acknowledge that to molest any person, Jew or Gentile, for either professing doctrine, or practicing worship meerly religious or spiritual, is to persecute him, and such a person (whether his doctrine or practice be true or false) suffers persecution for conscience.\\\" -Roger Williams, 1644 Banished by the English and saved by the First Peoples, Roger Williams founded Providence here in 1636.\",\n",
      "            \"website\": \"https://www.nps.gov/rowi/index.htm\",\n",
      "            \"states\": \"RI\",\n",
      "            \"designation\": \"National Memorial\",\n",
      "            \"latitude\": \"41.8298955\",\n",
      "            \"longitude\": \"-71.41056665\"\n",
      "        },\n",
      "        {\n",
      "            \"name\": \"Touro Synagogue National Historic Site\",\n",
      "            \"code\": \"tosy\",\n",
      "            \"description\": \"Touro Synagogue, a building of exquisite beauty and design, steeped in history and ideals, and one of the most historically significant Jewish buildings in America, was designated a National Historic Site in 1946. Dedicated in 1763, it still serves an active congregation and each year greets over 30,000 visitors who come to see the magnificent interior and hear its remarkable story.\",\n",
      "            \"website\": \"https://www.nps.gov/tosy/index.htm\",\n",
      "            \"states\": \"RI\",\n",
      "            \"designation\": \"National Historic Site\",\n",
      "            \"latitude\": \"41.4893\",\n",
      "            \"longitude\": \"-71.3121\"\n",
      "        },\n",
      "        {\n",
      "            \"name\": \"Washington-Rochambeau Revolutionary Route National Historic Trail\",\n",
      "            \"code\": \"waro\",\n",
      "            \"description\": \"\\u201cOf the happiness I have enjoyed in our private friendship. The remembrance of which will be one of the most pleasing Circumstances of my life.\\u201d\\u2013 Comte de Rochambeau on his relationship with George Washington\",\n",
      "            \"website\": \"https://www.nps.gov/waro/index.htm\",\n",
      "            \"states\": \"MA,RI,CT,NY,NJ,PA,DE,MD,VA,DC\",\n",
      "            \"designation\": \"National Historic Trail\",\n",
      "            \"latitude\": \"40.0958204557\",\n",
      "            \"longitude\": \"-74.8563515109\"\n",
      "        }\n",
      "    ]\n",
      "}\n",
      "\n",
      "--- Output Item 4 ---\n",
      "Output type: mcp_call\n",
      "\n",
      "🛠️  MCP Tool Call: get_park_events\n",
      "   Server: National Parks Service tools\n",
      "   ID: call_QvghzYZGWN4oZlOwgicCk1zR\n",
      "   Arguments: {\"park_code\": \"blrv\", \"limit\": 10}\n",
      "Output:\n",
      "{\n",
      "    \"parkCode\": \"BLRV\",\n",
      "    \"totalEvents\": 10,\n",
      "    \"events\": [\n",
      "        {\n",
      "            \"title\": \"Old Slater Mill Tour\",\n",
      "            \"description\": \"<p>Join a Park Ranger on a tour of the Mill that started the American Industrial Revolution. These 30 minute guided tours investigate the historical significance of Slater Mill, and what valuable lessons the building still teachings us. Tours begin at 10:30 AM, 12:30 PM and 2:30 PM in front of the mill. Please arrive a few minutes early.</p>\\n<p>\\u00a0</p>\\n<p><u><em>Please Note:</em></u><em>\\u00a0</em><em>For visitor saftey, tours of Old Slater Mill will be modified or cancelled if the heat index is at or above 87 degrees Fahrenheit. A shortened 10 minute Ranger talk will be offered at the normal tour times. Visitors will have a brief period of access to the main part of the mill. For the latest weather information, call 401-725-8638.</em></p>\",\n",
      "            \"location\": \"67 Roosevelt Avenue, Pawtucket, RI 02860\",\n",
      "            \"dateStart\": \"\",\n",
      "            \"dateEnd\": \"\",\n",
      "            \"timeStart\": \"\",\n",
      "            \"timeEnd\": \"\",\n",
      "            \"feeInfo\": \"\",\n",
      "            \"isRecurring\": false,\n",
      "            \"parkCode\": \"\"\n",
      "        },\n",
      "        {\n",
      "            \"title\": \"Old Slater Mill Tour\",\n",
      "            \"description\": \"<p>Join a Park Ranger on a tour of the Mill that started the American Industrial Revolution. These 30 minute guided tours investigate the historical significance of Slater Mill, and what valuable lessons the building still teachings us. Tours begin at 10:30 AM, 12:30 PM and 2:30 PM in front of the mill. Please arrive a few minutes early.</p>\\n<p>\\u00a0</p>\\n<p><u><em>Please Note:</em></u><em>\\u00a0</em><em>For visitor saftey, tours of Old Slater Mill will be modified or cancelled if the heat index is at or above 87 degrees Fahrenheit. A shortened 10 minute Ranger talk will be offered at the normal tour times. Visitors will have a brief period of access to the main part of the mill. For the latest weather information, call 401-725-8638.</em></p>\",\n",
      "            \"location\": \"67 Roosevelt Avenue, Pawtucket, RI 02860\",\n",
      "            \"dateStart\": \"\",\n",
      "            \"dateEnd\": \"\",\n",
      "            \"timeStart\": \"\",\n",
      "            \"timeEnd\": \"\",\n",
      "            \"feeInfo\": \"\",\n",
      "            \"isRecurring\": false,\n",
      "            \"parkCode\": \"\"\n",
      "        },\n",
      "        {\n",
      "            \"title\": \"Ranger Walkabout: Community and Change in Berkeley\",\n",
      "            \"description\": \"<p>Join a Park Ranger and explore the Blackstone River Valley.<br /><br />During the months of June, July, and August, park staff offer specialty tours at varying locations across the Blackstone River Watershed. These programs begin at 6:30 PM and are\\u00a060-minutes long.<br /><br />Please wear comfortable footwear and bring water.\\u00a0Most tours are outside and\\u00a0often\\u00a0include walking on uneven surfaces on varying types of terrain with no access to bathroom facilities. Bug spray and sunscreen are also highly suggested.<br /><br />Please Note: There will be no Walkabouts on June 19 and July 3.<br />\\u00a0</p>\\n<hr />\\n<h3>\\u00a0</h3>\\n<h3>August 14 \\u2013 Community and Change in Berkeley</h3>\\n<p><u>Location:\\u00a0</u>30 Martin Street, Cumberland, RI\\u00a0</p>\\n<p>What happens when a mill community changes ownership? Join a ranger and two members of the community for a guided walk through Berkeley, a Cumberland mill village. Discover how this village has adapted to change and continued to foster and strengthen community and learn about the history of this mill village. Meet in front of the Berkeley Mill complex. Limited free parking is available to participants at the Berkeley Oval just down the road.\\u00a0</p>\\n<h2>Future Schedule:</h2>\\n<h3>August 21 \\u2013 Roger Williams National Memorial 60th Anniversary Celebration</h3>\\n<p><u>Location:\\u00a0</u>282 N. Main St., Providence, RI\\u00a0\\u00a0</p>\\n<p>Roger Williams National Memorial is celebrating its 60th anniversary this year. This year\\u2019s National Memorial walkabout will showcase some of the amazing research we\\u2019ve done about the creation of the historical well and gardens. Learn about the \\u201cmemorial within a memorial,\\u201d first donated by J. Jerome Hahn, in memory of his father, Isaac Hahn, the first Jewish person elected to public office in Rhode Island. The Rhode Island Jewish Historical Association will be there to help tell this amazing story.\\u00a0</p>\\n<h3 lang=\\\"EN-US\\\" xml:lang=\\\"EN-US\\\">August 28 \\u2013 Remaking a Landscape</h3>\\n<p><u>Location:\\u00a0</u>67 Roosevelt Ave., Pawtucket, RI\\u00a0\\u00a0</p>\\n<p>Old Slater Mill, America\\u2019s first cotton-spinning mill, still stands along the Blackstone River, a reminder of Pawtucket\\u2019s industrial past. But the landscape that surrounds the mill has been remade numerous times over the last 232 years of the mill\\u2019s existence. On this tour we will use historic photographs, maps, and archeological findings to discover how this landscape has evolved from a rural landscape to an industrial center to a landscape marked by the effects of Urban Renewal. Please note this is not a tour of the interior of Slater Mill, but participants wishing to see the interior will be able to do so after the tour concludes.\\u00a0</p>\",\n",
      "            \"location\": \"30 Martin Street, Cumberland, RI\",\n",
      "            \"dateStart\": \"\",\n",
      "            \"dateEnd\": \"\",\n",
      "            \"timeStart\": \"\",\n",
      "            \"timeEnd\": \"\",\n",
      "            \"feeInfo\": \"\",\n",
      "            \"isRecurring\": false,\n",
      "            \"parkCode\": \"\"\n",
      "        },\n",
      "        {\n",
      "            \"title\": \"Ranger Walkabout: Roger Williams 60th Anniversary Celebration\",\n",
      "            \"description\": \"<p>Join a Park Ranger and explore the Blackstone River Valley.<br /><br />During the months of June, July, and August, park staff offer specialty tours at varying locations across the Blackstone River Watershed. These programs begin at 6:30 PM and are\\u00a060-minutes long.<br /><br />Please wear comfortable footwear and bring water.\\u00a0Most tours are outside and\\u00a0often\\u00a0include walking on uneven surfaces on varying types of terrain with no access to bathroom facilities. Bug spray and sunscreen are also highly suggested.<br /><br />Please Note: There will be no Walkabouts on June 19 and July 3.<br />\\u00a0</p>\\n<hr />\\n<h3>\\u00a0</h3>\\n<h3>August 21 \\u2013 Roger Williams National Memorial 60th Anniversary Celebration</h3>\\n<p><u>Location:\\u00a0</u>282 N. Main St., Providence, RI\\u00a0\\u00a0</p>\\n<p>Roger Williams National Memorial is celebrating its 60th anniversary this year. This year\\u2019s National Memorial walkabout will showcase some of the amazing research we\\u2019ve done about the creation of the historical well and gardens. Learn about the \\u201cmemorial within a memorial,\\u201d first donated by J. Jerome Hahn, in memory of his father, Isaac Hahn, the first Jewish person elected to public office in Rhode Island. The Rhode Island Jewish Historical Association will be there to help tell this amazing story.\\u00a0</p>\\n<h2>Future Schedule:</h2>\\n<h3 lang=\\\"EN-US\\\" xml:lang=\\\"EN-US\\\">August 28 \\u2013 Remaking a Landscape</h3>\\n<p><u>Location:\\u00a0</u>67 Roosevelt Ave., Pawtucket, RI\\u00a0\\u00a0</p>\\n<p>Old Slater Mill, America\\u2019s first cotton-spinning mill, still stands along the Blackstone River, a reminder of Pawtucket\\u2019s industrial past. But the landscape that surrounds the mill has been remade numerous times over the last 232 years of the mill\\u2019s existence. On this tour we will use historic photographs, maps, and archeological findings to discover how this landscape has evolved from a rural landscape to an industrial center to a landscape marked by the effects of Urban Renewal. Please note this is not a tour of the interior of Slater Mill, but participants wishing to see the interior will be able to do so after the tour concludes.\\u00a0</p>\",\n",
      "            \"location\": \"Roger Williams National Memorial, 282 North Main Street, Providence, RI\",\n",
      "            \"dateStart\": \"\",\n",
      "            \"dateEnd\": \"\",\n",
      "            \"timeStart\": \"\",\n",
      "            \"timeEnd\": \"\",\n",
      "            \"feeInfo\": \"\",\n",
      "            \"isRecurring\": false,\n",
      "            \"parkCode\": \"\"\n",
      "        },\n",
      "        {\n",
      "            \"title\": \"Old Slater Mill Tour\",\n",
      "            \"description\": \"<p>Join a Park Ranger on a tour of the Mill that started the American Industrial Revolution. These 30 minute guided tours investigate the historical significance of Slater Mill, and what valuable lessons the building still teachings us. Tours begin at 10:30 AM, 12:30 PM and 2:30 PM in front of the mill. Please arrive a few minutes early.</p>\\n<p>\\u00a0</p>\\n<p><u><em>Please Note:</em></u><em>\\u00a0</em><em>For visitor saftey, tours of Old Slater Mill will be modified or cancelled if the heat index is at or above 87 degrees Fahrenheit. A shortened 10 minute Ranger talk will be offered at the normal tour times. Visitors will have a brief period of access to the main part of the mill. For the latest weather information, call 401-725-8638.</em></p>\",\n",
      "            \"location\": \"67 Roosevelt Avenue, Pawtucket, RI 02860\",\n",
      "            \"dateStart\": \"\",\n",
      "            \"dateEnd\": \"\",\n",
      "            \"timeStart\": \"\",\n",
      "            \"timeEnd\": \"\",\n",
      "            \"feeInfo\": \"\",\n",
      "            \"isRecurring\": false,\n",
      "            \"parkCode\": \"\"\n",
      "        },\n",
      "        {\n",
      "            \"title\": \"Take Me Fishing Day\",\n",
      "            \"description\": \"<p>It's time again for our annual Founders Day fishing event.\\u00a0</p>\\n<p>Join Park Rangers, DEM, US Fish and Wildlife staff, and volunteers for a free fishing program at the Kelly House, located at the Blackstone River State Park, on August 24, 2025 from 1-4 PM. Catch some fish, learn about the river, and earn a Junior Angler badge.\\u00a0</p>\\n<p>All fishing gear, materials, and bait will be provided.</p>\\n<p>Please wear comfortable footwear and bring water. Bug spray and sunscreen are also highly suggested.\\u00a0</p>\",\n",
      "            \"location\": \"\",\n",
      "            \"dateStart\": \"\",\n",
      "            \"dateEnd\": \"\",\n",
      "            \"timeStart\": \"\",\n",
      "            \"timeEnd\": \"\",\n",
      "            \"feeInfo\": \"\",\n",
      "            \"isRecurring\": false,\n",
      "            \"parkCode\": \"\"\n",
      "        },\n",
      "        {\n",
      "            \"title\": \"Ranger Walkabout: Remaking a Landscape\",\n",
      "            \"description\": \"<p>Join a Park Ranger and explore the Blackstone River Valley.<br /><br />During the months of June, July, and August, park staff offer specialty tours at varying locations across the Blackstone River Watershed. These programs begin at 6:30 PM and are\\u00a060-minutes long.<br /><br />Please wear comfortable footwear and bring water.\\u00a0Most tours are outside and\\u00a0often\\u00a0include walking on uneven surfaces on varying types of terrain with no access to bathroom facilities. Bug spray and sunscreen are also highly suggested.<br /><br />Please Note: There will be no Walkabouts on June 19 and July 3.<br />\\u00a0</p>\\n<hr />\\n<h3>\\u00a0</h3>\\n<h3 lang=\\\"EN-US\\\" xml:lang=\\\"EN-US\\\">August 28 \\u2013 Remaking a Landscape</h3>\\n<p><u>Location:\\u00a0</u>67 Roosevelt Ave., Pawtucket, RI\\u00a0\\u00a0</p>\\n<p>Old Slater Mill, America\\u2019s first cotton-spinning mill, still stands along the Blackstone River, a reminder of Pawtucket\\u2019s industrial past. But the landscape that surrounds the mill has been remade numerous times over the last 232 years of the mill\\u2019s existence. On this tour we will use historic photographs, maps, and archeological findings to discover how this landscape has evolved from a rural landscape to an industrial center to a landscape marked by the effects of Urban Renewal. Please note this is not a tour of the interior of Slater Mill, but participants wishing to see the interior will be able to do so after the tour concludes.\\u00a0</p>\",\n",
      "            \"location\": \"Old Slater Mill, 67 Roosevelt Avenue, Pawtucket, RI\",\n",
      "            \"dateStart\": \"\",\n",
      "            \"dateEnd\": \"\",\n",
      "            \"timeStart\": \"\",\n",
      "            \"timeEnd\": \"\",\n",
      "            \"feeInfo\": \"\",\n",
      "            \"isRecurring\": false,\n",
      "            \"parkCode\": \"\"\n",
      "        },\n",
      "        {\n",
      "            \"title\": \"Labor Day Weekend Specialty Tours at Old Slater Mill\",\n",
      "            \"description\": \"<p class=\\\"\\\">Celebrate Labor Day by joining us on a special guided tour of the Mill that started the American Industrial Revolution. These 30 - 45 minute guided tours investigate the historical significance of Slater Mill, and what valuable lessons the building still teachings us.</p>\\n<h3 class=\\\"\\\" lang=\\\"EN-US\\\" xml:lang=\\\"EN-US\\\">Saturday, August 30, 2025</h3>\\n<h4 class=\\\"\\\" lang=\\\"EN-US\\\" xml:lang=\\\"EN-US\\\">10:30 AM: Not Child\\u2019s Play: The Story of Slater Mill</h4>\\n<p class=\\\"\\\" lang=\\\"EN-US\\\" xml:lang=\\\"EN-US\\\">Join a Park Ranger as we discuss the stories of the children who were the first workers at Old Slater Mill.</p>\\n<h4 class=\\\"\\\" lang=\\\"EN-US\\\" xml:lang=\\\"EN-US\\\">12:30 PM: The Cotton Economy</h4>\\n<p class=\\\"\\\" lang=\\\"EN-US\\\" xml:lang=\\\"EN-US\\\">Join a Park Ranger and learn about the close connections between the labor of enslaved peoples and the textile industry of the Blackstone River Valley.</p>\\n<h4 class=\\\"\\\" lang=\\\"EN-US\\\" xml:lang=\\\"EN-US\\\">2:30 PM: Women\\u2019s Work: Labor History at Old Slater Mill</h4>\\n<p class=\\\"\\\" lang=\\\"EN-US\\\" xml:lang=\\\"EN-US\\\">Join a Park Ranger for a discussion of the intersection between women\\u2019s history and labor history and Old Slater Mill.</p>\\n<h3 class=\\\"\\\" lang=\\\"EN-US\\\" xml:lang=\\\"EN-US\\\">Sunday, August 31, 2025</h3>\\n<h4 class=\\\"\\\" lang=\\\"EN-US\\\" xml:lang=\\\"EN-US\\\">10:30 AM: The Birthplace of America\\u2019s Working Class</h4>\\n<p class=\\\"\\\" lang=\\\"EN-US\\\" xml:lang=\\\"EN-US\\\">Join a Park Ranger for a discussion of the importance of Old Slater Mill and the birth of the American working class.</p>\\n<h4 lang=\\\"EN-US\\\" xml:lang=\\\"EN-US\\\">12:30 PM: The Cotton Economy</h4>\\n<p class=\\\"\\\" lang=\\\"EN-US\\\" xml:lang=\\\"EN-US\\\">Join a Park Ranger and learn about the close connections between the labor of enslaved peoples and the textile industry of the Blackstone River Valley.</p>\\n<h4 lang=\\\"EN-US\\\" xml:lang=\\\"EN-US\\\">2:30 PM: Human and Machine</h4>\\n<p lang=\\\"EN-US\\\" xml:lang=\\\"EN-US\\\">Join a Park Ranger for a deep dive into the collection of historic machinery at Old Slater Mill and the people who worked those machines.</p>\\n<h4 class=\\\"\\\" lang=\\\"EN-US\\\" xml:lang=\\\"EN-US\\\">Please note: Old Slater Mill is closed on Labor Day (Monday, September 1, 2025)</h4>\",\n",
      "            \"location\": \"67 Roosevelt Avenue, Pawtucket, RI 02860\",\n",
      "            \"dateStart\": \"\",\n",
      "            \"dateEnd\": \"\",\n",
      "            \"timeStart\": \"\",\n",
      "            \"timeEnd\": \"\",\n",
      "            \"feeInfo\": \"\",\n",
      "            \"isRecurring\": false,\n",
      "            \"parkCode\": \"\"\n",
      "        },\n",
      "        {\n",
      "            \"title\": \"Songwriters at Slater Mill\",\n",
      "            \"description\": \"<div data-ogsc=\\\"black\\\" data-olk-copy-source=\\\"MessageBody\\\">Join Allison Rose and J. Michael Graham for an afternoon of acoustic music along the Blackstone River! This free program will be hosted on the grounds of Old Slater Mill National Historic Landmark, located in Downtown Pawtucket.</div>\\n<div id=\\\"x_x_Signature\\\">\\n<div data-ogsc=\\\"black\\\">\\u00a0</div>\\n<div data-ogsc=\\\"black\\\">Songwriters at the Mill is part of the annual Pawtucket Arts Festival. National Park Service staff will also be on hand to provide\\u00a0<a id=\\\"LPlnk747698\\\" title=\\\"https://www.nps.gov/planyourvisit/event-details.htm?id=FFCB51A9-BEE1-CBE5-C0863B04B5DF1D5E\\\" href=\\\"https://www.nps.gov/planyourvisit/event-details.htm?id=FFCB51A9-BEE1-CBE5-C0863B04B5DF1D5E\\\" target=\\\"_blank\\\" rel=\\\"noopener noreferrer\\\" data-auth=\\\"NotApplicable\\\" data-linkindex=\\\"1\\\" data-ogsc=\\\"\\\">free specialty tours</a>\\u00a0of Slater Mill at 10:30 AM, 12:30 PM, and 2:30 PM.</div>\\n<div data-ogsc=\\\"black\\\">\\u00a0</div>\\n<div data-ogsc=\\\"black\\\">The Visitor Center will be open 10 AM - 4 PM.\\u00a0</div>\\n<div data-ogsc=\\\"black\\\">\\u00a0</div>\\n<div data-ogsc=\\\"rgb(200, 38, 19)\\\">\\u00a0</div>\\n<div data-ogsc=\\\"black\\\">Free\\u00a0and open to all and family friendly! Please bring your own chair or blanket. Limited seating available.\\u00a0</div>\\n</div>\",\n",
      "            \"location\": \"\",\n",
      "            \"dateStart\": \"\",\n",
      "            \"dateEnd\": \"\",\n",
      "            \"timeStart\": \"\",\n",
      "            \"timeEnd\": \"\",\n",
      "            \"feeInfo\": \"\",\n",
      "            \"isRecurring\": false,\n",
      "            \"parkCode\": \"\"\n",
      "        },\n",
      "        {\n",
      "            \"title\": \"New and Dangerous Opinions of Roger Williams\",\n",
      "            \"description\": \"<p><strong>Enjoy a free performance by the acclaimed Aurea Ensemble inside Slater Mill.</strong></p>\\n<p><em>Aurea members are equally inspired by each other\\u2019s artistry and seek to create a new genre of performance, melding words, and music thematically in a highly collaborative spirit.</em></p>\\n<p>The program \\u201cNew and Dangerous Opinions of Rogers Williams\\\" fuses writings of Roger Williams and Native American poetry, underscored by music of Handel, Orlando di Lasso, and Rhode Island\\u2019s own Chris Turner, and John Milton (whose son, the famous poet of the same name, was a friend and philosophical inspiration to Roger Williams.) This lively program, set in the dramatic political and philosophical fray of colonial RI, introduces audiences to the strong-minded iconoclast, Roger Williams and his deep respect for Native American culture.</p>\\n<p>Presented with special thanks to Blackstone River Valley National Historical Park, Blackstone River Valley National Heritage Corridor, and the Pawtucket Arts Festival.</p>\\n<p><strong>Important Information:</strong></p>\\n<p>This event is accessible.</p>\\n<p>The concert will be taking place inside of Slater Mill on the second floor. An elevator is available.</p>\\n<p><strong>R</strong><strong>egistration is required</strong>\\u00a0for this free concert. Seating is limited and it is likely to be a full house. If you are unable to attend please cancel your registration on Eventbrite as soon as possible.</p>\\n<p><strong>On the day of the event,</strong><strong>\\u00a0</strong>doors open at 3:30pm, and you will forfeit your seat if have not checked in by 3:45. There will be a wait list sign-in at the door for those who did not register and hoping to attend. Thank you.</p>\\n<p>The doors will be shut at 4:00 PM for the beginning of the performance.</p>\\n<p>Learn more about Aurea here:\\u00a0<a title=\\\"https://aureaensemble.org/\\\" href=\\\"https://aureaensemble.org/\\\" target=\\\"_blank\\\" rel=\\\"nofollow noopener noreferrer\\\" data-msys-clicktrack=\\\"0\\\">https://aureaensemble.org/</a></p>\",\n",
      "            \"location\": \"67 Roosevelt Avenue, Pawtucket, RI 02860\",\n",
      "            \"dateStart\": \"\",\n",
      "            \"dateEnd\": \"\",\n",
      "            \"timeStart\": \"\",\n",
      "            \"timeEnd\": \"\",\n",
      "            \"feeInfo\": \"\",\n",
      "            \"isRecurring\": false,\n",
      "            \"parkCode\": \"\"\n",
      "        }\n",
      "    ]\n",
      "}\n",
      "\n",
      "--- Output Item 5 ---\n",
      "Output type: mcp_call\n",
      "\n",
      "🛠️  MCP Tool Call: get_park_events\n",
      "   Server: National Parks Service tools\n",
      "   ID: call_Q1wSvgdd7Ynl2waF4306KyUE\n",
      "   Arguments: {\"park_code\": \"rowi\", \"limit\": 10}\n",
      "Output:\n",
      "{\n",
      "    \"parkCode\": \"ROWI\",\n",
      "    \"totalEvents\": 5,\n",
      "    \"events\": [\n",
      "        {\n",
      "            \"title\": \"Roger Williams: The Separation of Church and State\",\n",
      "            \"description\": \"<p>A cornerstone of our democracy, Roger Williams established a clear limit to government authority. Join a National Park Service ranger as we explore the principles of freedom put into practice by Roger Williams and that changed the course of history.</p>\\n<p>The National Park Service is America's largest classroom. These free programs are part of a comprehenisve experience about Roger Williams's contributions to the principles of freedom in America today. Explore your National Memorial today!\\u00a0</p>\",\n",
      "            \"location\": \"The program begins at the historical well\",\n",
      "            \"dateStart\": \"\",\n",
      "            \"dateEnd\": \"\",\n",
      "            \"timeStart\": \"\",\n",
      "            \"timeEnd\": \"\",\n",
      "            \"feeInfo\": \"\",\n",
      "            \"isRecurring\": false,\n",
      "            \"parkCode\": \"\"\n",
      "        },\n",
      "        {\n",
      "            \"title\": \"Roger Williams: The Separation of Church and State\",\n",
      "            \"description\": \"<p>A cornerstone of our democracy, Roger Williams established a clear limit to government authority. Join a National Park Service ranger as we explore the principles of freedom put into practice by Roger Williams and that changed\\u00a0the\\u00a0course of history.</p>\\n<p>The National Park Service is America's largest classroom. These free programs are part of a comprehenisve experience about Roger Williams's contributions to the principles of freedom in America today. Explore your National Memorial today!\\u00a0</p>\",\n",
      "            \"location\": \"\",\n",
      "            \"dateStart\": \"\",\n",
      "            \"dateEnd\": \"\",\n",
      "            \"timeStart\": \"\",\n",
      "            \"timeEnd\": \"\",\n",
      "            \"feeInfo\": \"\",\n",
      "            \"isRecurring\": false,\n",
      "            \"parkCode\": \"\"\n",
      "        },\n",
      "        {\n",
      "            \"title\": \"Lunchtime Arts in the Park\",\n",
      "            \"description\": \"<p><strong>The Same Thing Project </strong>is a \\u201ccommunity songwriting\\u201d workshop for people from all walks of life. Musicians, artists, students, teachers, retired folks, neurodiverse, differently-abled, blue and white-collar workers participate every week in writing a song. The Same Thing Project provides a place where you don\\u2019t have to be skilled at a musical instrument in order to be musical. It\\u2019s a space where you can be part of a creative community that is open, nonjudgmental and encouraging. \\u00a0Connection is created and isolation is reduced.</p>\",\n",
      "            \"location\": \"\",\n",
      "            \"dateStart\": \"\",\n",
      "            \"dateEnd\": \"\",\n",
      "            \"timeStart\": \"\",\n",
      "            \"timeEnd\": \"\",\n",
      "            \"feeInfo\": \"\",\n",
      "            \"isRecurring\": false,\n",
      "            \"parkCode\": \"\"\n",
      "        },\n",
      "        {\n",
      "            \"title\": \"Roger Williams National Memorial 60th Anniversary Celebration\",\n",
      "            \"description\": \"<p>Join us as we celebrate the 60th Anniversary of the establishment of Roger Williams National Memorial. There will be remarks, musical performances, and a look into one of our newest programs (still in development) about the first steward of the land that was to become the National Memorial. This program is called, The Hahn's of Providence, A Memorial Legacy. This program was made possible in part by the National Parks Foundation.</p>\",\n",
      "            \"location\": \"\",\n",
      "            \"dateStart\": \"\",\n",
      "            \"dateEnd\": \"\",\n",
      "            \"timeStart\": \"\",\n",
      "            \"timeEnd\": \"\",\n",
      "            \"feeInfo\": \"\",\n",
      "            \"isRecurring\": false,\n",
      "            \"parkCode\": \"\"\n",
      "        },\n",
      "        {\n",
      "            \"title\": \"Trivia Night!\",\n",
      "            \"description\": \"<p>Join us for Trivia Night at Roger Williams National Memorial!</p>\\n<p>This family-friendly event will be held outdoors, weather permitting. Bring your own food, non-alcoholic drinks, and blankets or chairs. Dogs are welcome on a leash. Come with a team or join one when you get here!</p>\\n<p>Roger Williams National Memorial is located at 282 North Main Street in Providence.\\u00a0</p>\",\n",
      "            \"location\": \"\",\n",
      "            \"dateStart\": \"\",\n",
      "            \"dateEnd\": \"\",\n",
      "            \"timeStart\": \"\",\n",
      "            \"timeEnd\": \"\",\n",
      "            \"feeInfo\": \"\",\n",
      "            \"isRecurring\": false,\n",
      "            \"parkCode\": \"\"\n",
      "        }\n",
      "    ]\n",
      "}\n",
      "\n",
      "--- Output Item 6 ---\n",
      "Output type: mcp_call\n",
      "\n",
      "🛠️  MCP Tool Call: get_park_events\n",
      "   Server: National Parks Service tools\n",
      "   ID: call_PkG7UDhmajp0Pc2p7TRCtiru\n",
      "   Arguments: {\"park_code\": \"tosy\", \"limit\": 10}\n",
      "Output:\n",
      "{\n",
      "    \"parkCode\": \"TOSY\",\n",
      "    \"message\": \"No upcoming events found for this park\"\n",
      "}\n",
      "\n",
      "--- Output Item 7 ---\n",
      "Output type: mcp_call\n",
      "\n",
      "🛠️  MCP Tool Call: get_park_events\n",
      "   Server: National Parks Service tools\n",
      "   ID: call_e958QyMjjz3HSldETkUVa6jP\n",
      "   Arguments: {\"park_code\": \"waro\", \"limit\": 10}\n",
      "Output:\n",
      "{\n",
      "    \"parkCode\": \"WARO\",\n",
      "    \"message\": \"No upcoming events found for this park\"\n",
      "}\n",
      "\n",
      "--- Output Item 8 ---\n",
      "Output type: message\n",
      "Response content: Here are some national parks in Rhode Island and their upcoming events:\n",
      "\n",
      "1. **Blackstone River Valley National Historical Park (BLRV)**\n",
      "   - **Description:** This park highlights the history and significance of Samuel Slater's cotton spinning mill in Pawtucket, which was pivotal in America's entry into the Age of Industry.\n",
      "   - **Website:** [Blackstone River Valley NHP](https://www.nps.gov/blrv/index.htm)\n",
      "   - **Upcoming Events:**\n",
      "     - **Old Slater Mill Tour:** Guided tours discussing the mill's historical significance.\n",
      "     - **Ranger Walkabout:** Explore the Blackstone River Valley with park staff offering specialty tours.\n",
      "     - **Take Me Fishing Day:** A free fishing program, offering fishing gear and the opportunity to earn a Junior Angler badge.\n",
      "     - **Labor Day Weekend Specialty Tours:** Special guided tours discussing various historical aspects.\n",
      "     - **Songwriters at Slater Mill:** An afternoon of acoustic music as part of the Pawtucket Arts Festival.\n",
      "\n",
      "2. **Roger Williams National Memorial (ROWI)**\n",
      "   - **Description:** Dedicated to Roger Williams, this memorial explores his influence in establishing a principle of separation between church and state.\n",
      "   - **Website:** [Roger Williams National Memorial](https://www.nps.gov/rowi/index.htm)\n",
      "   - **Upcoming Events:**\n",
      "     - **Roger Williams: The Separation of Church and State:** Explore Roger Williams' principles of freedom.\n",
      "     - **Lunchtime Arts in the Park:** Participate in a community songwriting workshop.\n",
      "     - **60th Anniversary Celebration:** Celebrate the memorial's 60th anniversary with performances and new programs.\n",
      "     - **Trivia Night!:** Join a family-friendly trivia night at the park.\n",
      "\n",
      "3. **Touro Synagogue National Historic Site (TOSY)**\n",
      "   - **Description:** This synagogue is a historically significant Jewish building in America, showcasing exquisite beauty and design.\n",
      "   - **Website:** [Touro Synagogue NHS](https://www.nps.gov/tosy/index.htm)\n",
      "   - **Upcoming Events:** No upcoming events are currently scheduled.\n",
      "\n",
      "4. **Washington-Rochambeau Revolutionary Route National Historic Trail (WARO)**\n",
      "   - **Description:** The trail commemorates the route taken by French and American troops during the Revolutionary War.\n",
      "   - **Website:** [Washington-Rochambeau NHT](https://www.nps.gov/waro/index.htm)\n",
      "   - **Upcoming Events:** No upcoming events are currently scheduled. \n",
      "\n",
      "Explore these parks to enjoy historical insights, interactive tours, and fun events in Rhode Island!\n"
     ]
    }
   ],
   "source": [
    "print_response(mcp_llama_stack_client_response)"
   ]
  },
  {
   "cell_type": "markdown",
   "id": "19ad44b5",
   "metadata": {},
   "source": [
    "You can see the full output from the call to the Responses API above asking \"Tell me about some events at some parks in Rhode Island.\".  Here are some of the highlights:\n",
    "\n",
    "* Output Item 1 shows that it called the NPS server to list all of that server's tools.\n",
    "* Output Item 2 shows that it then called the `search_parks` tool from that server with arguments `{\"state_code\":\"RI\",\"limit\":5}` and got back a list of 4 national parks in Rhode Island.  Since the limit it specified was 5 and it only got 4, presumably that's all there are in that state.\n",
    "* Output Item 3 shows that it called `get_park_events` with arguments `{\"park_code\": \"blrv\", \"limit\": 5}`.  Notice that the value for `park_code` is the same as the value for `code` in the first output from the `search_parks` tool.  So the model recognized that the `code` field in the output of `search_parks` corresponds to the `park_code` field in the input of `get_park_events`.  It gets back a list of events for that park.\n",
    "* Output Items 4-6 also call `get_park_events` with the other three park codes that had been returned by the `search_parks` tool.\n",
    "* Output Item 7 then provides the actual response to be sent to the user.  It describes the outputs of all four of the calls to `get_park_events` in a human-friendly form.\n",
    "\n",
    "One important thing to note is that all 7 output items came from *one* call to the Responses API.  This illustrates one of the advantages of this API and its implementation in Llama Stack: Llama Stack handles all of the coordination between all of these steps and calls the model and to the MCP server.  You could accomplish the same thing using basic \"completions\" API that allow you to specify tools, but it would then be up to you in the client to do all that coordinating."
   ]
  },
  {
   "cell_type": "markdown",
   "id": "d0bcf2b4",
   "metadata": {},
   "source": [
    "## Using the OpenAI client\n",
    "\n",
    "In the examples above we used the Llama Stack client to connect to Llama Stack.  However, since we're calling an OpenAI-compatible API (Responses), we can also use the OpenAI client to do the same thing.  The setup is a little bit clunkier than it is using the Llama Stack client.  With the OpenAI client, you have to add some extra stuff at the end of the URL to point the client at the OpenAI-compatible part of the overall Llama Stack.  However, once you do that, you can do the same things with the OpenAI client as we did with the Llama Stack client above.\n",
    "\n",
    "Using the OpenAI client may be the best fit if you are writing code for a project that already uses that client for other purposes and you don't want to add any more dependencies to that project.\n",
    "\n",
    "We start with the slightly clunky setup:"
   ]
  },
  {
   "cell_type": "code",
   "execution_count": 16,
   "id": "db58e7a5",
   "metadata": {},
   "outputs": [],
   "source": [
    "\n",
    "from openai import OpenAI\n",
    "\n",
    "# Direct OpenAI client instantiation with Llama Stack\n",
    "openai_client = OpenAI(\n",
    "    api_key=\"no-key-needed\",  # Llama Stack typically doesn't require a real key\n",
    "    base_url=LLAMA_STACK_URL + \"v1/openai/v1\", # This suffix gets to the part of the URL that is specific to the OpenAI API, which you need here since you are using the OpenAI client.\n",
    ")"
   ]
  },
  {
   "cell_type": "markdown",
   "id": "5955ddff",
   "metadata": {},
   "source": [
    "Notice that while this is the OpenAI client, the URL we pointed it to is our Llama Stack server.  So even though we're using a different client here, we're still using the same server to handle the request.  Here we see that the simple example we used above works the same way as it did with the Llama Stack client:"
   ]
  },
  {
   "cell_type": "code",
   "execution_count": 17,
   "id": "a03ec99e",
   "metadata": {},
   "outputs": [
    {
     "name": "stderr",
     "output_type": "stream",
     "text": [
      "INFO:httpx:HTTP Request: POST http://localhost:8321/v1/openai/v1/responses \"HTTP/1.1 200 OK\"\n"
     ]
    },
    {
     "name": "stdout",
     "output_type": "stream",
     "text": [
      "ID: resp-1414198f-ad21-4608-9485-2b7a56f0da94\n",
      "Status: completed\n",
      "Model: gpt-4o\n",
      "Created at: 1755107186.0\n",
      "Output items: 1\n",
      "Output type: message\n",
      "Response content: The capital of France is Paris.\n"
     ]
    }
   ],
   "source": [
    "\n",
    "simple_openai_client_response = openai_client.responses.create(\n",
    "    model=LLAMA_STACK_MODEL_ID,\n",
    "    input=\"What is the capital of France?\"\n",
    ")\n",
    "\n",
    "print_response(simple_openai_client_response)"
   ]
  },
  {
   "cell_type": "markdown",
   "id": "95c81795",
   "metadata": {},
   "source": [
    "The RAG example also works the same way it did with the Llama Stack client:"
   ]
  },
  {
   "cell_type": "code",
   "execution_count": 18,
   "id": "83f24e6e",
   "metadata": {},
   "outputs": [
    {
     "name": "stderr",
     "output_type": "stream",
     "text": [
      "INFO:httpx:HTTP Request: POST http://localhost:8321/v1/openai/v1/vector_stores \"HTTP/1.1 200 OK\"\n"
     ]
    },
    {
     "data": {
      "text/plain": [
       "'vs_3bd59d59-2706-4165-8a95-dd3599ab988c'"
      ]
     },
     "execution_count": 18,
     "metadata": {},
     "output_type": "execute_result"
    }
   ],
   "source": [
    "import uuid\n",
    "\n",
    "openai_client_vector_store_name= f\"vec_{str(uuid.uuid4())[0:8]}\"\n",
    "\n",
    "openai_client_vector_store = openai_client.vector_stores.create(name=vector_store_name)\n",
    "openai_client_vector_store_id = vector_store.id\n",
    "\n",
    "openai_client_vector_store_id"
   ]
  },
  {
   "cell_type": "code",
   "execution_count": 19,
   "id": "c810c741",
   "metadata": {},
   "outputs": [
    {
     "name": "stderr",
     "output_type": "stream",
     "text": [
      "INFO:httpx:HTTP Request: POST http://localhost:8321/v1/openai/v1/files \"HTTP/1.1 200 OK\"\n"
     ]
    },
    {
     "data": {
      "text/plain": [
       "FileObject(id='file-b2e794c7d681499e8f9433701dfd7a7b', bytes=6540612, created_at=1755107187, filename='NPIndex2012-2016.pdf', object='file', purpose='assistants', status=None, expires_at=1786643187, status_details=None)"
      ]
     },
     "execution_count": 19,
     "metadata": {},
     "output_type": "execute_result"
    }
   ],
   "source": [
    "openai_client_file_create_response = openai_client.files.create(file=Path(pdf_path), purpose=\"assistants\")\n",
    "openai_client_file_create_response"
   ]
  },
  {
   "cell_type": "code",
   "execution_count": 20,
   "id": "87820812",
   "metadata": {},
   "outputs": [
    {
     "name": "stderr",
     "output_type": "stream",
     "text": [
      "INFO:httpx:HTTP Request: POST http://localhost:8321/v1/openai/v1/vector_stores/vs_3bd59d59-2706-4165-8a95-dd3599ab988c/files \"HTTP/1.1 200 OK\"\n"
     ]
    },
    {
     "data": {
      "text/plain": [
       "VectorStoreFile(id='file-02da3aef43cf435f92e1b913bbd3ddc4', created_at=1755107187, last_error=None, object='vector_store.file', status='completed', usage_bytes=0, vector_store_id='vs_3bd59d59-2706-4165-8a95-dd3599ab988c', attributes={}, chunking_strategy=StaticFileChunkingStrategyObject(static=None, type='auto'))"
      ]
     },
     "execution_count": 20,
     "metadata": {},
     "output_type": "execute_result"
    }
   ],
   "source": [
    "openai_client_file_ingest_response = openai_client.vector_stores.files.create(\n",
    "    vector_store_id=vector_store_id,\n",
    "    file_id=file_create_response.id,\n",
    ")\n",
    "openai_client_file_ingest_response"
   ]
  },
  {
   "cell_type": "code",
   "execution_count": 21,
   "id": "97d05c87",
   "metadata": {},
   "outputs": [
    {
     "name": "stderr",
     "output_type": "stream",
     "text": [
      "INFO:httpx:HTTP Request: POST http://localhost:8321/v1/openai/v1/responses \"HTTP/1.1 200 OK\"\n"
     ]
    },
    {
     "data": {
      "text/plain": [
       "Response(id='resp-29c11b0e-bd8a-442c-96d2-7427620e4a74', created_at=1755107214.0, error=None, incomplete_details=None, instructions=None, metadata=None, model='gpt-4o', object='response', output=[ResponseFileSearchToolCall(id='call_DYaV5m5WWhcVa5jJHNiF5pJI', queries=['Bering Land Bridge national preserve designation date'], status='completed', type='file_search_call', results=[Result(attributes=None, file_id='', filename='', score=3.0400664069376475, text=' for abundant wildlife and sport\\n \\nfishing for five species of salmon.\\n \\nEstablished Dec. 2, 1980. Length: 67 miles.\\n \\nAcreage—30,664.79 Federal: 26,417.85 \\nNonfederal: 4,246.94. \\nAniakchak  \\nN\\national Monument  and \\nAniakchak  \\nNational Preserve \\n1000 Silver Street, Bldg.603 \\nP\\nO Box 245 \\nKing Salmon, AK 99613 \\n907\\xad246\\xad3305 \\nwww.nps.gov/ania \\nThe Aniakchak Caldera, covering some 30 square miles, is \\no\\nne of the great dry calderas in the world. Located in the \\nvolcanically active Aleutian Mountains, the Aniakchak last \\nerupted in 1931. The crater includes lava flows, cinder cones, \\nand explosion pits, as well as Surprise Lake, source of the \\nAniakchak River, which cascades through a 1,500\\xadfoot gash \\nin the crater wall. NO FEDERAL FACILITIES. \\nProclaimed Aniakchak National Monument Dec. 1, 1978; \\nestablished as a national monument and national preserve \\nDec. 2, 1980. \\nAcreage—National monument: 137,176.00, all Federal. \\nNational preserve: 464,117.93 Federal: 458,809.35 \\nNonfederal: 5,308.58. \\nBering Land Bridge \\nN\\national Preserve \\nPO Box 220 \\nN\\nome, AK\\xa099762\\xad0220 \\n907\\xad443\\xad2522 \\nwww.nps.gov/bela \\nLocated on the Seward Peninsula, the preserve is a remnant \\no\\nf the land bridge that once connected Asia with North \\nAmerica over 13,000 years ago. Paleontological and archeo\\xad\\nlogical resources abound; large populations of migratory \\nbirds nest here. Ash explosion craters and lava flows, rare in \\nthe Arctic, are present. LIMITED FEDERAL FACILITIES. \\nProclaimed a national monument Dec. 1, 1978; established as \\na national preserve Dec. 2, 1980. \\nAcreage—2,697,391.01 Federal: 2,632,508.00 \\nNonfederal: 64,883.01 \\nCape Krusenstern \\nN\\national Monument \\nPO Box 1029 \\nK\\notzebue, AK 99752\\xad0029 \\n907\\xad442\\xad3890 \\nwww.nps.gov/cakr \\nArcheological sites located along a succession of 114 lateral \\nbeac\\nh ridges illustrate Eskimo communities of every known \\ncultural period in arctic Alaska, dating back some 4,000 \\nyears. Nearly pristine barrier islands, lagoons, and beaches \\nprovide habitat for fish, marine mammals, and migratory \\nbirds while allowing legal harvest by local subsistence users. \\nLIMITED FEDERAL FACILITIES. \\nProclaimed Dec. 1, 1978. Boundary change: Dec. 2, 1980. \\nAcreage—649,096.15 Federal: 627,190.67 \\nNonfederal: 21,905.48. \\n19 \\n \\n \\n \\n \\n \\n \\n \\n \\n \\n \\n \\n \\n   \\n   \\n  \\n \\n  \\n \\n \\n  \\n \\n \\n \\n  \\n   \\n \\n  \\n \\n \\n \\n \\n \\n \\n  \\n   \\n   \\n \\nDenali National Park and \\nDenali National Preserve \\nPO Box 9\\n \\nMcKinley Park, AK 99755\\xad\\n0009 \\n907\\xad683\\xad2253\\n \\nwww.nps.gov/dena\\n \\nThe park contains North America’s highest mountain, \\n20,310\\xadfoot Denali.'), Result(attributes=None, file_id='', filename='', score=3.0400664069376475, text=' for abundant wildlife and sport\\n \\nfishing for five species of salmon.\\n \\nEstablished Dec. 2, 1980. Length: 67 miles.\\n \\nAcreage—30,664.79 Federal: 26,417.85 \\nNonfederal: 4,246.94. \\nAniakchak  \\nN\\national Monument  and \\nAniakchak  \\nNational Preserve \\n1000 Silver Street, Bldg.603 \\nP\\nO Box 245 \\nKing Salmon, AK 99613 \\n907\\xad246\\xad3305 \\nwww.nps.gov/ania \\nThe Aniakchak Caldera, covering some 30 square miles, is \\no\\nne of the great dry calderas in the world. Located in the \\nvolcanically active Aleutian Mountains, the Aniakchak last \\nerupted in 1931. The crater includes lava flows, cinder cones, \\nand explosion pits, as well as Surprise Lake, source of the \\nAniakchak River, which cascades through a 1,500\\xadfoot gash \\nin the crater wall. NO FEDERAL FACILITIES. \\nProclaimed Aniakchak National Monument Dec. 1, 1978; \\nestablished as a national monument and national preserve \\nDec. 2, 1980. \\nAcreage—National monument: 137,176.00, all Federal. \\nNational preserve: 464,117.93 Federal: 458,809.35 \\nNonfederal: 5,308.58. \\nBering Land Bridge \\nN\\national Preserve \\nPO Box 220 \\nN\\nome, AK\\xa099762\\xad0220 \\n907\\xad443\\xad2522 \\nwww.nps.gov/bela \\nLocated on the Seward Peninsula, the preserve is a remnant \\no\\nf the land bridge that once connected Asia with North \\nAmerica over 13,000 years ago. Paleontological and archeo\\xad\\nlogical resources abound; large populations of migratory \\nbirds nest here. Ash explosion craters and lava flows, rare in \\nthe Arctic, are present. LIMITED FEDERAL FACILITIES. \\nProclaimed a national monument Dec. 1, 1978; established as \\na national preserve Dec. 2, 1980. \\nAcreage—2,697,391.01 Federal: 2,632,508.00 \\nNonfederal: 64,883.01 \\nCape Krusenstern \\nN\\national Monument \\nPO Box 1029 \\nK\\notzebue, AK 99752\\xad0029 \\n907\\xad442\\xad3890 \\nwww.nps.gov/cakr \\nArcheological sites located along a succession of 114 lateral \\nbeac\\nh ridges illustrate Eskimo communities of every known \\ncultural period in arctic Alaska, dating back some 4,000 \\nyears. Nearly pristine barrier islands, lagoons, and beaches \\nprovide habitat for fish, marine mammals, and migratory \\nbirds while allowing legal harvest by local subsistence users. \\nLIMITED FEDERAL FACILITIES. \\nProclaimed Dec. 1, 1978. Boundary change: Dec. 2, 1980. \\nAcreage—649,096.15 Federal: 627,190.67 \\nNonfederal: 21,905.48. \\n19 \\n \\n \\n \\n \\n \\n \\n \\n \\n \\n \\n \\n \\n   \\n   \\n  \\n \\n  \\n \\n \\n  \\n \\n \\n \\n  \\n   \\n \\n  \\n \\n \\n \\n \\n \\n \\n  \\n   \\n   \\n \\nDenali National Park and \\nDenali National Preserve \\nPO Box 9\\n \\nMcKinley Park, AK 99755\\xad\\n0009 \\n907\\xad683\\xad2253\\n \\nwww.nps.gov/dena\\n \\nThe park contains North America’s highest mountain, \\n20,310\\xadfoot Denali.'), Result(attributes=None, file_id='', filename='', score=2.9052492608394345, text=' 2, 1980. Wilderness designated Dec. 2, 1980. Designated \\na Biosphere Reserve (portion) 1984. \\nAcreage—National park: 7,523,897.45 Federal: \\n7,359,650.20 Nonfederal: 164,247.25. National preserve: \\n948,608.07 Federal: 948,203.00 Nonfederal: 405.07. \\nGlacier Bay National Park \\nand Glacier Bay \\nNational Preserve \\nPO Box 140 \\nGustavus, AK 99826\\xad0140 \\n907\\xad697\\xad2232 \\nwww.nps.gov/glba \\nCovering 3.3 million acres of rugged mountains, dynamic \\nglaciers, temperate rainforests, wild coastlines, and deep \\nsheltered fjords, Glacier Bay is a highlight of Alaska’s Inside \\nPassage offering limitless opportunities for adventure and \\ninspiration. \\nProclaimed Glacier Bay National Monument Feb. 26, 1925; \\nestablished as a national park and national preserve Dec. \\n2, 1980. Boundary changes: April 18, 1939; March 31, 1955; \\nDecember 1, 1978. Wilderness designated Dec. 2, 1980. \\nDesignated a Biosphere Reserve 1986. Designated a World \\nHeritage site Dec, 14, 1992. \\nAcreage—National park: 3,223,383.43 Federal: \\n3,222,284.20 Nonfederal: 1,099.23 Wilderness area: \\n2,770,000. National preserve: 58,406.00, all Federal. \\n20 \\n  \\n \\n \\n \\n \\n       \\n  \\n  \\n   \\n   \\n \\n  \\n \\n \\n \\n \\n \\n \\n  \\n \\n \\n \\n \\n \\n  \\n \\n  \\n  \\n \\n \\n \\n \\n \\n   \\n \\nKatmai National Park and \\nKatmai National Preserve \\nPO Box 7\\n \\nKing Salmon, AK 99613\\xad\\n0007 \\n907\\xad246\\xad3305\\n \\nwww.nps.gov/katm\\n \\nV ariety marks this vast land: lakes, forests, mountains, and \\nmarshlands abound in wildlife. The Alaska brown bear, the \\nworld’s largest carnivore, thrives here, feeding on red salmon \\nthat spawn in the lakes and streams. Wild rivers and renowned \\nsport fishing add to the attractions of this subarctic environ\\xad\\nment. Here, in 1912, Novarupta V olcano erupted violently, \\nforming the ash\\xadfilled “V alley of T en Thousand Smokes” \\nwhere steam rose from countless fumaroles. \\nProclaimed Katmai National Monument Sept. 24, 1918; estab\\xad\\nlished as national park and national preserve Dec. 2, 1980. \\nBoundary changes: April 24, 1931; Aug. 4, 1942; Jan. 20, 1969; \\nDec. 1, 1978; Dec. 2, 1980. Wilderness designated Dec. 2, 1980. \\nAcreage—National park: 3,674,368.02 Federal: \\n3,611,403.12 Nonfederal: 62,964.90 Wilderness area: \\n3,473,000. National preserve: 418,698.80 Federal: \\n333,400.98 Nonfederal: 85,297.82. \\nKenai Fjords \\nNational Park \\nPO Box 1727 \\nSeward, AK 99664\\xad1727 \\n907\\xad422\\xad0500 \\nwww.nps.gov/kefj \\nThe park preserves the 800\\xadsquare\\xadmile Harding Icefield, \\nthe largest icefield solely contained within the United States, \\nits outflowing glaciers, and coastal fjords and islands in their'), Result(attributes=None, file_id='', filename='', score=2.9052492608394345, text=' 2, 1980. Wilderness designated Dec. 2, 1980. Designated \\na Biosphere Reserve (portion) 1984. \\nAcreage—National park: 7,523,897.45 Federal: \\n7,359,650.20 Nonfederal: 164,247.25. National preserve: \\n948,608.07 Federal: 948,203.00 Nonfederal: 405.07. \\nGlacier Bay National Park \\nand Glacier Bay \\nNational Preserve \\nPO Box 140 \\nGustavus, AK 99826\\xad0140 \\n907\\xad697\\xad2232 \\nwww.nps.gov/glba \\nCovering 3.3 million acres of rugged mountains, dynamic \\nglaciers, temperate rainforests, wild coastlines, and deep \\nsheltered fjords, Glacier Bay is a highlight of Alaska’s Inside \\nPassage offering limitless opportunities for adventure and \\ninspiration. \\nProclaimed Glacier Bay National Monument Feb. 26, 1925; \\nestablished as a national park and national preserve Dec. \\n2, 1980. Boundary changes: April 18, 1939; March 31, 1955; \\nDecember 1, 1978. Wilderness designated Dec. 2, 1980. \\nDesignated a Biosphere Reserve 1986. Designated a World \\nHeritage site Dec, 14, 1992. \\nAcreage—National park: 3,223,383.43 Federal: \\n3,222,284.20 Nonfederal: 1,099.23 Wilderness area: \\n2,770,000. National preserve: 58,406.00, all Federal. \\n20 \\n  \\n \\n \\n \\n \\n       \\n  \\n  \\n   \\n   \\n \\n  \\n \\n \\n \\n \\n \\n \\n  \\n \\n \\n \\n \\n \\n  \\n \\n  \\n  \\n \\n \\n \\n \\n \\n   \\n \\nKatmai National Park and \\nKatmai National Preserve \\nPO Box 7\\n \\nKing Salmon, AK 99613\\xad\\n0007 \\n907\\xad246\\xad3305\\n \\nwww.nps.gov/katm\\n \\nV ariety marks this vast land: lakes, forests, mountains, and \\nmarshlands abound in wildlife. The Alaska brown bear, the \\nworld’s largest carnivore, thrives here, feeding on red salmon \\nthat spawn in the lakes and streams. Wild rivers and renowned \\nsport fishing add to the attractions of this subarctic environ\\xad\\nment. Here, in 1912, Novarupta V olcano erupted violently, \\nforming the ash\\xadfilled “V alley of T en Thousand Smokes” \\nwhere steam rose from countless fumaroles. \\nProclaimed Katmai National Monument Sept. 24, 1918; estab\\xad\\nlished as national park and national preserve Dec. 2, 1980. \\nBoundary changes: April 24, 1931; Aug. 4, 1942; Jan. 20, 1969; \\nDec. 1, 1978; Dec. 2, 1980. Wilderness designated Dec. 2, 1980. \\nAcreage—National park: 3,674,368.02 Federal: \\n3,611,403.12 Nonfederal: 62,964.90 Wilderness area: \\n3,473,000. National preserve: 418,698.80 Federal: \\n333,400.98 Nonfederal: 85,297.82. \\nKenai Fjords \\nNational Park \\nPO Box 1727 \\nSeward, AK 99664\\xad1727 \\n907\\xad422\\xad0500 \\nwww.nps.gov/kefj \\nThe park preserves the 800\\xadsquare\\xadmile Harding Icefield, \\nthe largest icefield solely contained within the United States, \\nits outflowing glaciers, and coastal fjords and islands in their'), Result(attributes=None, file_id='', filename='', score=2.7607343620119154, text='America over 13,000 years ago. Paleontological and archeo\\xad\\nlogical resources abound; large populations of migratory \\nbirds nest here. Ash explosion craters and lava flows, rare in \\nthe Arctic, are present. LIMITED FEDERAL FACILITIES. \\nProclaimed a national monument Dec. 1, 1978; established as \\na national preserve Dec. 2, 1980. \\nAcreage—2,697,391.01 Federal: 2,632,508.00 \\nNonfederal: 64,883.01 \\nCape Krusenstern \\nN\\national Monument \\nPO Box 1029 \\nK\\notzebue, AK 99752\\xad0029 \\n907\\xad442\\xad3890 \\nwww.nps.gov/cakr \\nArcheological sites located along a succession of 114 lateral \\nbeac\\nh ridges illustrate Eskimo communities of every known \\ncultural period in arctic Alaska, dating back some 4,000 \\nyears. Nearly pristine barrier islands, lagoons, and beaches \\nprovide habitat for fish, marine mammals, and migratory \\nbirds while allowing legal harvest by local subsistence users. \\nLIMITED FEDERAL FACILITIES. \\nProclaimed Dec. 1, 1978. Boundary change: Dec. 2, 1980. \\nAcreage—649,096.15 Federal: 627,190.67 \\nNonfederal: 21,905.48. \\n19 \\n \\n \\n \\n \\n \\n \\n \\n \\n \\n \\n \\n \\n   \\n   \\n  \\n \\n  \\n \\n \\n  \\n \\n \\n \\n  \\n   \\n \\n  \\n \\n \\n \\n \\n \\n \\n  \\n   \\n   \\n \\nDenali National Park and \\nDenali National Preserve \\nPO Box 9\\n \\nMcKinley Park, AK 99755\\xad\\n0009 \\n907\\xad683\\xad2253\\n \\nwww.nps.gov/dena\\n \\nThe park contains North America’s highest mountain, \\n20,310\\xadfoot Denali. Large glaciers of the Alaska Range, cari\\xad\\nbou, Dall sheep, moose, grizzly bears, and timber wolves are \\nhighlights of this national park and preserve. \\nEstablished as Mt. McKinley National Park Feb. 26, 1917. \\nSeparate Denali National Monument proclaimed Dec. 1, \\n1978. Both incorporated into and established as Denali \\nNational Park and Denali National Preserve Dec. 2, 1980. \\nWilderness designated Dec. 2, 1980. Other boundary chang\\xad\\nes: Jan. 30, 1922; March 19, 1932. Designated a Biosphere \\nReserve 1976. \\nAcreage—National park: 4,740,911.16 Federal: \\n4,732,650.51 Nonfederal: 8,260.65. Wilderness area: \\n1,900,000. National preserve: 1,334,117.80 Federal: \\n1,304,241.97 Nonfederal: 29,875.83. \\nGates of the Arctic \\nNational Park and \\nGates of the Arctic \\nNational Preserve \\n4175 Geist Road \\nFairbanks, AK 99709 \\n907\\xad457\\xad5752 \\nwww.nps.gov/gaar \\nLying north of the Arctic Circle, the park and preserve include \\npart of the Central Brooks Range, the northernmost extension \\nof the Rocky Mountains. Often called the greatest wilderness \\nin North America, these NPS units are characterized by jagged \\npeaks, gentle arctic valleys, wild rivers, and many lakes. With \\nadjacent Kobuk V alley National Park and Noatak National \\nPreserve, they form one of the largest park areas in the world. \\nProclaimed Gates of the Arctic National Monument Dec. 1, \\n1978; established as a national park and national preserve \\nDec.'), Result(attributes=None, file_id='', filename='', score=2.7607343620119154, text='America over 13,000 years ago. Paleontological and archeo\\xad\\nlogical resources abound; large populations of migratory \\nbirds nest here. Ash explosion craters and lava flows, rare in \\nthe Arctic, are present. LIMITED FEDERAL FACILITIES. \\nProclaimed a national monument Dec. 1, 1978; established as \\na national preserve Dec. 2, 1980. \\nAcreage—2,697,391.01 Federal: 2,632,508.00 \\nNonfederal: 64,883.01 \\nCape Krusenstern \\nN\\national Monument \\nPO Box 1029 \\nK\\notzebue, AK 99752\\xad0029 \\n907\\xad442\\xad3890 \\nwww.nps.gov/cakr \\nArcheological sites located along a succession of 114 lateral \\nbeac\\nh ridges illustrate Eskimo communities of every known \\ncultural period in arctic Alaska, dating back some 4,000 \\nyears. Nearly pristine barrier islands, lagoons, and beaches \\nprovide habitat for fish, marine mammals, and migratory \\nbirds while allowing legal harvest by local subsistence users. \\nLIMITED FEDERAL FACILITIES. \\nProclaimed Dec. 1, 1978. Boundary change: Dec. 2, 1980. \\nAcreage—649,096.15 Federal: 627,190.67 \\nNonfederal: 21,905.48. \\n19 \\n \\n \\n \\n \\n \\n \\n \\n \\n \\n \\n \\n \\n   \\n   \\n  \\n \\n  \\n \\n \\n  \\n \\n \\n \\n  \\n   \\n \\n  \\n \\n \\n \\n \\n \\n \\n  \\n   \\n   \\n \\nDenali National Park and \\nDenali National Preserve \\nPO Box 9\\n \\nMcKinley Park, AK 99755\\xad\\n0009 \\n907\\xad683\\xad2253\\n \\nwww.nps.gov/dena\\n \\nThe park contains North America’s highest mountain, \\n20,310\\xadfoot Denali. Large glaciers of the Alaska Range, cari\\xad\\nbou, Dall sheep, moose, grizzly bears, and timber wolves are \\nhighlights of this national park and preserve. \\nEstablished as Mt. McKinley National Park Feb. 26, 1917. \\nSeparate Denali National Monument proclaimed Dec. 1, \\n1978. Both incorporated into and established as Denali \\nNational Park and Denali National Preserve Dec. 2, 1980. \\nWilderness designated Dec. 2, 1980. Other boundary chang\\xad\\nes: Jan. 30, 1922; March 19, 1932. Designated a Biosphere \\nReserve 1976. \\nAcreage—National park: 4,740,911.16 Federal: \\n4,732,650.51 Nonfederal: 8,260.65. Wilderness area: \\n1,900,000. National preserve: 1,334,117.80 Federal: \\n1,304,241.97 Nonfederal: 29,875.83. \\nGates of the Arctic \\nNational Park and \\nGates of the Arctic \\nNational Preserve \\n4175 Geist Road \\nFairbanks, AK 99709 \\n907\\xad457\\xad5752 \\nwww.nps.gov/gaar \\nLying north of the Arctic Circle, the park and preserve include \\npart of the Central Brooks Range, the northernmost extension \\nof the Rocky Mountains. Often called the greatest wilderness \\nin North America, these NPS units are characterized by jagged \\npeaks, gentle arctic valleys, wild rivers, and many lakes. With \\nadjacent Kobuk V alley National Park and Noatak National \\nPreserve, they form one of the largest park areas in the world. \\nProclaimed Gates of the Arctic National Monument Dec. 1, \\n1978; established as a national park and national preserve \\nDec.'), Result(attributes=None, file_id='', filename='', score=2.736387962200917, text=' Large glaciers of the Alaska Range, cari\\xad\\nbou, Dall sheep, moose, grizzly bears, and timber wolves are \\nhighlights of this national park and preserve. \\nEstablished as Mt. McKinley National Park Feb. 26, 1917. \\nSeparate Denali National Monument proclaimed Dec. 1, \\n1978. Both incorporated into and established as Denali \\nNational Park and Denali National Preserve Dec. 2, 1980. \\nWilderness designated Dec. 2, 1980. Other boundary chang\\xad\\nes: Jan. 30, 1922; March 19, 1932. Designated a Biosphere \\nReserve 1976. \\nAcreage—National park: 4,740,911.16 Federal: \\n4,732,650.51 Nonfederal: 8,260.65. Wilderness area: \\n1,900,000. National preserve: 1,334,117.80 Federal: \\n1,304,241.97 Nonfederal: 29,875.83. \\nGates of the Arctic \\nNational Park and \\nGates of the Arctic \\nNational Preserve \\n4175 Geist Road \\nFairbanks, AK 99709 \\n907\\xad457\\xad5752 \\nwww.nps.gov/gaar \\nLying north of the Arctic Circle, the park and preserve include \\npart of the Central Brooks Range, the northernmost extension \\nof the Rocky Mountains. Often called the greatest wilderness \\nin North America, these NPS units are characterized by jagged \\npeaks, gentle arctic valleys, wild rivers, and many lakes. With \\nadjacent Kobuk V alley National Park and Noatak National \\nPreserve, they form one of the largest park areas in the world. \\nProclaimed Gates of the Arctic National Monument Dec. 1, \\n1978; established as a national park and national preserve \\nDec. 2, 1980. Wilderness designated Dec. 2, 1980. Designated \\na Biosphere Reserve (portion) 1984. \\nAcreage—National park: 7,523,897.45 Federal: \\n7,359,650.20 Nonfederal: 164,247.25. National preserve: \\n948,608.07 Federal: 948,203.00 Nonfederal: 405.07. \\nGlacier Bay National Park \\nand Glacier Bay \\nNational Preserve \\nPO Box 140 \\nGustavus, AK 99826\\xad0140 \\n907\\xad697\\xad2232 \\nwww.nps.gov/glba \\nCovering 3.3 million acres of rugged mountains, dynamic \\nglaciers, temperate rainforests, wild coastlines, and deep \\nsheltered fjords, Glacier Bay is a highlight of Alaska’s Inside \\nPassage offering limitless opportunities for adventure and \\ninspiration. \\nProclaimed Glacier Bay National Monument Feb. 26, 1925; \\nestablished as a national park and national preserve Dec. \\n2, 1980. Boundary changes: April 18, 1939; March 31, 1955; \\nDecember 1, 1978. Wilderness designated Dec. 2, 1980. \\nDesignated a Biosphere Reserve 1986. Designated a World \\nHeritage site Dec, 14, 1992. \\nAcreage—National park: 3,223,383.43 Federal: \\n3,222,284.20 Nonfederal: 1,099.23 Wilderness area: \\n2,770,000. National preserve: 58,406.00, all Federal. \\n20 \\n  \\n \\n \\n \\n \\n       \\n  \\n  \\n   \\n   \\n \\n  \\n \\n \\n \\n \\n \\n \\n  \\n \\n \\n \\n \\n \\n  \\n \\n  \\n  \\n \\n \\n \\n \\n \\n   \\n \\nKatmai National Park and \\nKatmai National Preserve \\nPO Box 7'), Result(attributes=None, file_id='', filename='', score=2.736387962200917, text=' Large glaciers of the Alaska Range, cari\\xad\\nbou, Dall sheep, moose, grizzly bears, and timber wolves are \\nhighlights of this national park and preserve. \\nEstablished as Mt. McKinley National Park Feb. 26, 1917. \\nSeparate Denali National Monument proclaimed Dec. 1, \\n1978. Both incorporated into and established as Denali \\nNational Park and Denali National Preserve Dec. 2, 1980. \\nWilderness designated Dec. 2, 1980. Other boundary chang\\xad\\nes: Jan. 30, 1922; March 19, 1932. Designated a Biosphere \\nReserve 1976. \\nAcreage—National park: 4,740,911.16 Federal: \\n4,732,650.51 Nonfederal: 8,260.65. Wilderness area: \\n1,900,000. National preserve: 1,334,117.80 Federal: \\n1,304,241.97 Nonfederal: 29,875.83. \\nGates of the Arctic \\nNational Park and \\nGates of the Arctic \\nNational Preserve \\n4175 Geist Road \\nFairbanks, AK 99709 \\n907\\xad457\\xad5752 \\nwww.nps.gov/gaar \\nLying north of the Arctic Circle, the park and preserve include \\npart of the Central Brooks Range, the northernmost extension \\nof the Rocky Mountains. Often called the greatest wilderness \\nin North America, these NPS units are characterized by jagged \\npeaks, gentle arctic valleys, wild rivers, and many lakes. With \\nadjacent Kobuk V alley National Park and Noatak National \\nPreserve, they form one of the largest park areas in the world. \\nProclaimed Gates of the Arctic National Monument Dec. 1, \\n1978; established as a national park and national preserve \\nDec. 2, 1980. Wilderness designated Dec. 2, 1980. Designated \\na Biosphere Reserve (portion) 1984. \\nAcreage—National park: 7,523,897.45 Federal: \\n7,359,650.20 Nonfederal: 164,247.25. National preserve: \\n948,608.07 Federal: 948,203.00 Nonfederal: 405.07. \\nGlacier Bay National Park \\nand Glacier Bay \\nNational Preserve \\nPO Box 140 \\nGustavus, AK 99826\\xad0140 \\n907\\xad697\\xad2232 \\nwww.nps.gov/glba \\nCovering 3.3 million acres of rugged mountains, dynamic \\nglaciers, temperate rainforests, wild coastlines, and deep \\nsheltered fjords, Glacier Bay is a highlight of Alaska’s Inside \\nPassage offering limitless opportunities for adventure and \\ninspiration. \\nProclaimed Glacier Bay National Monument Feb. 26, 1925; \\nestablished as a national park and national preserve Dec. \\n2, 1980. Boundary changes: April 18, 1939; March 31, 1955; \\nDecember 1, 1978. Wilderness designated Dec. 2, 1980. \\nDesignated a Biosphere Reserve 1986. Designated a World \\nHeritage site Dec, 14, 1992. \\nAcreage—National park: 3,223,383.43 Federal: \\n3,222,284.20 Nonfederal: 1,099.23 Wilderness area: \\n2,770,000. National preserve: 58,406.00, all Federal. \\n20 \\n  \\n \\n \\n \\n \\n       \\n  \\n  \\n   \\n   \\n \\n  \\n \\n \\n \\n \\n \\n \\n  \\n \\n \\n \\n \\n \\n  \\n \\n  \\n  \\n \\n \\n \\n \\n \\n   \\n \\nKatmai National Park and \\nKatmai National Preserve \\nPO Box 7'), Result(attributes=None, file_id='', filename='', score=2.7340891731495267, text=' . 19, 1962; Nov .  \\n9, 2000. Wilderness designated Oct. 23, 1970. Designated a  \\nnational preserve Aug. 21, 2002. \\nAcreage—464,303.97, all Federal.  Wilderness area: 43,243. \\n51 \\n \\n \\n \\n \\n \\n \\n \\n \\n \\n \\n  \\n \\n \\n \\n \\n \\n  \\n \\n  \\n \\n    \\n  \\nHagerman Fossil Beds \\nNational Monument \\n221 North State Street \\n \\nPO Box 570 \\nHagerman, ID 83332\\xad0570 \\n208\\xad993\\xad4100 \\nwww.nps.gov/hafo \\nExtraordinary fossils from the Pliocene Epoch, 3.5 million  \\ny\\nears ago, are covered in sediment from the Snake River  \\nPlain. The Hagerman Horse Quarry, a National Natural\\nLandmark, and over 200 fossilized plant and animal species  \\nare here. LIMITED FEDERAL FACILITIES. \\nAuthorized Nov . 18, 1988. \\nAcreage—4,351.15  Federal: 4,334.65  Nonfederal: 16.50. \\nMinidoka \\nNational Historic Site \\n \\n221 North State Street  \\nPO Box 570  \\nHagerman, ID 83332 \\n208\\xad837\\xad4793 \\n \\nwww.nps.gov/miin \\n(Also in Washington) \\nThe history and cultural resources associated with the reloca\\xad\\nti\\non and internment of Japanese Americans during World War\\nII are interpreted here. UNDER DEVELOPMENT . Includes\\nBainbridge Island Japanese American Exclusion Memorial in\\nWashington. \\nProclaimed Jan. 17, 2001; redesignated a national historic site\\nMay 8, 2008.  \\nAcreage—396.30 Federal: 388.30 Nonfederal: 8.00. \\nNez Perce \\n \\nNational Historical Park  \\n36063 U.S. Highway 95 \\nSpalding, ID 83540\\xad9715 \\n208\\xad843\\xad7001 \\nwww.nps.gov/nepe \\n(Also in Montana, Oregon, \\nand Washington) \\nThe park’s 38 sites, spreading across Idaho, Washington,\\nOr\\negon, and Montana, commemorate the Nez Perce. Six\\nsites are owned and managed by  the National Park Service  \\nat Spalding, Canoe Camp, Buffalo Eddy, East Kamiah, White  \\nBird Battlefield, and Big Hole National Battlefield. \\nAuthorized May 15, 1965. Boundary change: Oct. 30, 1992. \\nAcreage—4,564.93  Federal: 3,858.63  Nonfederal: 706.30. \\nY ellowstone National Park \\n(See Wyoming) \\nIllinois \\nLincoln Home \\nNational Historic Site \\n413 S. Eighth Street \\nS\\npringfield, IL 62701\\xad1905\\n217\\xad492\\xad4241 \\n \\nwww.nps.gov/liho \\nAbraham Lincoln resided in this house for 17 years before he \\nbecam\\ne president. The surrounding historic district preserves \\nthe 1860s environment in which the Lincoln family lived. \\nAuthorized Aug. 18, 1971. \\nAcreage—12.24 Federal: 12.03 Nonfederal: 0.21. \\nPullman National  \\nMon\\nument \\n11111 S. Forrestville Avenue \\nChi\\ncago, IL 60628 \\n773\\xad660\\xad2341 \\nwww.nps.gov/pull \\nGeorge Pullman created an integrated manufacturing com\\xad\\np\\nlex and residential community south of Chicago in the 1880s, \\nwith the intention of retaining skilled workers for his varied \\nrail cars assembled there.  The town of Pullman’s design and \\narchitecture still resonate with today’s urban planners.  The \\nname “Pull'), Result(attributes=None, file_id='', filename='', score=2.7340891731495267, text=' . 19, 1962; Nov .  \\n9, 2000. Wilderness designated Oct. 23, 1970. Designated a  \\nnational preserve Aug. 21, 2002. \\nAcreage—464,303.97, all Federal.  Wilderness area: 43,243. \\n51 \\n \\n \\n \\n \\n \\n \\n \\n \\n \\n \\n  \\n \\n \\n \\n \\n \\n  \\n \\n  \\n \\n    \\n  \\nHagerman Fossil Beds \\nNational Monument \\n221 North State Street \\n \\nPO Box 570 \\nHagerman, ID 83332\\xad0570 \\n208\\xad993\\xad4100 \\nwww.nps.gov/hafo \\nExtraordinary fossils from the Pliocene Epoch, 3.5 million  \\ny\\nears ago, are covered in sediment from the Snake River  \\nPlain. The Hagerman Horse Quarry, a National Natural\\nLandmark, and over 200 fossilized plant and animal species  \\nare here. LIMITED FEDERAL FACILITIES. \\nAuthorized Nov . 18, 1988. \\nAcreage—4,351.15  Federal: 4,334.65  Nonfederal: 16.50. \\nMinidoka \\nNational Historic Site \\n \\n221 North State Street  \\nPO Box 570  \\nHagerman, ID 83332 \\n208\\xad837\\xad4793 \\n \\nwww.nps.gov/miin \\n(Also in Washington) \\nThe history and cultural resources associated with the reloca\\xad\\nti\\non and internment of Japanese Americans during World War\\nII are interpreted here. UNDER DEVELOPMENT . Includes\\nBainbridge Island Japanese American Exclusion Memorial in\\nWashington. \\nProclaimed Jan. 17, 2001; redesignated a national historic site\\nMay 8, 2008.  \\nAcreage—396.30 Federal: 388.30 Nonfederal: 8.00. \\nNez Perce \\n \\nNational Historical Park  \\n36063 U.S. Highway 95 \\nSpalding, ID 83540\\xad9715 \\n208\\xad843\\xad7001 \\nwww.nps.gov/nepe \\n(Also in Montana, Oregon, \\nand Washington) \\nThe park’s 38 sites, spreading across Idaho, Washington,\\nOr\\negon, and Montana, commemorate the Nez Perce. Six\\nsites are owned and managed by  the National Park Service  \\nat Spalding, Canoe Camp, Buffalo Eddy, East Kamiah, White  \\nBird Battlefield, and Big Hole National Battlefield. \\nAuthorized May 15, 1965. Boundary change: Oct. 30, 1992. \\nAcreage—4,564.93  Federal: 3,858.63  Nonfederal: 706.30. \\nY ellowstone National Park \\n(See Wyoming) \\nIllinois \\nLincoln Home \\nNational Historic Site \\n413 S. Eighth Street \\nS\\npringfield, IL 62701\\xad1905\\n217\\xad492\\xad4241 \\n \\nwww.nps.gov/liho \\nAbraham Lincoln resided in this house for 17 years before he \\nbecam\\ne president. The surrounding historic district preserves \\nthe 1860s environment in which the Lincoln family lived. \\nAuthorized Aug. 18, 1971. \\nAcreage—12.24 Federal: 12.03 Nonfederal: 0.21. \\nPullman National  \\nMon\\nument \\n11111 S. Forrestville Avenue \\nChi\\ncago, IL 60628 \\n773\\xad660\\xad2341 \\nwww.nps.gov/pull \\nGeorge Pullman created an integrated manufacturing com\\xad\\np\\nlex and residential community south of Chicago in the 1880s, \\nwith the intention of retaining skilled workers for his varied \\nrail cars assembled there.  The town of Pullman’s design and \\narchitecture still resonate with today’s urban planners.  The \\nname “Pull')]), ResponseOutputMessage(id='msg_7f439e37-0730-4b56-921b-99fd475a51a0', content=[ResponseOutputText(annotations=[], text='The Bering Land Bridge was proclaimed a national monument on December 1, 1978, and established as a national preserve on December 2, 1980.', type='output_text', logprobs=None)], role='assistant', status='completed', type='message')], parallel_tool_calls=False, temperature=None, tool_choice=None, tools=None, top_p=None, background=None, max_output_tokens=None, max_tool_calls=None, previous_response_id=None, prompt=None, reasoning=None, service_tier=None, status='completed', text=ResponseTextConfig(format=ResponseFormatText(type='text')), top_logprobs=None, truncation=None, usage=None, user=None)"
      ]
     },
     "execution_count": 21,
     "metadata": {},
     "output_type": "execute_result"
    }
   ],
   "source": [
    "rag_openai_client_response = openai_client.responses.create(\n",
    "    model=LLAMA_STACK_MODEL_ID,\n",
    "    input=\"When did the Bering Land Bridge become a national preserve?\",\n",
    "    tools=[\n",
    "        {\n",
    "            \"type\": \"file_search\",\n",
    "            \"vector_store_ids\": [vector_store_id],\n",
    "        }\n",
    "    ]\n",
    ")\n",
    "\n",
    "rag_openai_client_response"
   ]
  },
  {
   "cell_type": "code",
   "execution_count": 22,
   "id": "1be85285",
   "metadata": {},
   "outputs": [
    {
     "name": "stdout",
     "output_type": "stream",
     "text": [
      "ID: resp-29c11b0e-bd8a-442c-96d2-7427620e4a74\n",
      "Status: completed\n",
      "Model: gpt-4o\n",
      "Created at: 1755107214.0\n",
      "Output items: 2\n",
      "\n",
      "--- Output Item 1 ---\n",
      "Output type: file_search_call\n",
      "  Tool Call ID: call_DYaV5m5WWhcVa5jJHNiF5pJI\n",
      "  Tool Status: completed\n",
      "  Queries: Bering Land Bridge national preserve designation date\n",
      "  Results: [Result(attributes=None, file_id='', filename='', score=3.0400664069376475, text=' for abundant wildlife and sport\\n \\nfishing for five species of salmon.\\n \\nEstablished Dec. 2, 1980. Length: 67 miles.\\n \\nAcreage—30,664.79 Federal: 26,417.85 \\nNonfederal: 4,246.94. \\nAniakchak  \\nN\\national Monument  and \\nAniakchak  \\nNational Preserve \\n1000 Silver Street, Bldg.603 \\nP\\nO Box 245 \\nKing Salmon, AK 99613 \\n907\\xad246\\xad3305 \\nwww.nps.gov/ania \\nThe Aniakchak Caldera, covering some 30 square miles, is \\no\\nne of the great dry calderas in the world. Located in the \\nvolcanically active Aleutian Mountains, the Aniakchak last \\nerupted in 1931. The crater includes lava flows, cinder cones, \\nand explosion pits, as well as Surprise Lake, source of the \\nAniakchak River, which cascades through a 1,500\\xadfoot gash \\nin the crater wall. NO FEDERAL FACILITIES. \\nProclaimed Aniakchak National Monument Dec. 1, 1978; \\nestablished as a national monument and national preserve \\nDec. 2, 1980. \\nAcreage—National monument: 137,176.00, all Federal. \\nNational preserve: 464,117.93 Federal: 458,809.35 \\nNonfederal: 5,308.58. \\nBering Land Bridge \\nN\\national Preserve \\nPO Box 220 \\nN\\nome, AK\\xa099762\\xad0220 \\n907\\xad443\\xad2522 \\nwww.nps.gov/bela \\nLocated on the Seward Peninsula, the preserve is a remnant \\no\\nf the land bridge that once connected Asia with North \\nAmerica over 13,000 years ago. Paleontological and archeo\\xad\\nlogical resources abound; large populations of migratory \\nbirds nest here. Ash explosion craters and lava flows, rare in \\nthe Arctic, are present. LIMITED FEDERAL FACILITIES. \\nProclaimed a national monument Dec. 1, 1978; established as \\na national preserve Dec. 2, 1980. \\nAcreage—2,697,391.01 Federal: 2,632,508.00 \\nNonfederal: 64,883.01 \\nCape Krusenstern \\nN\\national Monument \\nPO Box 1029 \\nK\\notzebue, AK 99752\\xad0029 \\n907\\xad442\\xad3890 \\nwww.nps.gov/cakr \\nArcheological sites located along a succession of 114 lateral \\nbeac\\nh ridges illustrate Eskimo communities of every known \\ncultural period in arctic Alaska, dating back some 4,000 \\nyears. Nearly pristine barrier islands, lagoons, and beaches \\nprovide habitat for fish, marine mammals, and migratory \\nbirds while allowing legal harvest by local subsistence users. \\nLIMITED FEDERAL FACILITIES. \\nProclaimed Dec. 1, 1978. Boundary change: Dec. 2, 1980. \\nAcreage—649,096.15 Federal: 627,190.67 \\nNonfederal: 21,905.48. \\n19 \\n \\n \\n \\n \\n \\n \\n \\n \\n \\n \\n \\n \\n   \\n   \\n  \\n \\n  \\n \\n \\n  \\n \\n \\n \\n  \\n   \\n \\n  \\n \\n \\n \\n \\n \\n \\n  \\n   \\n   \\n \\nDenali National Park and \\nDenali National Preserve \\nPO Box 9\\n \\nMcKinley Park, AK 99755\\xad\\n0009 \\n907\\xad683\\xad2253\\n \\nwww.nps.gov/dena\\n \\nThe park contains North America’s highest mountain, \\n20,310\\xadfoot Denali.'), Result(attributes=None, file_id='', filename='', score=3.0400664069376475, text=' for abundant wildlife and sport\\n \\nfishing for five species of salmon.\\n \\nEstablished Dec. 2, 1980. Length: 67 miles.\\n \\nAcreage—30,664.79 Federal: 26,417.85 \\nNonfederal: 4,246.94. \\nAniakchak  \\nN\\national Monument  and \\nAniakchak  \\nNational Preserve \\n1000 Silver Street, Bldg.603 \\nP\\nO Box 245 \\nKing Salmon, AK 99613 \\n907\\xad246\\xad3305 \\nwww.nps.gov/ania \\nThe Aniakchak Caldera, covering some 30 square miles, is \\no\\nne of the great dry calderas in the world. Located in the \\nvolcanically active Aleutian Mountains, the Aniakchak last \\nerupted in 1931. The crater includes lava flows, cinder cones, \\nand explosion pits, as well as Surprise Lake, source of the \\nAniakchak River, which cascades through a 1,500\\xadfoot gash \\nin the crater wall. NO FEDERAL FACILITIES. \\nProclaimed Aniakchak National Monument Dec. 1, 1978; \\nestablished as a national monument and national preserve \\nDec. 2, 1980. \\nAcreage—National monument: 137,176.00, all Federal. \\nNational preserve: 464,117.93 Federal: 458,809.35 \\nNonfederal: 5,308.58. \\nBering Land Bridge \\nN\\national Preserve \\nPO Box 220 \\nN\\nome, AK\\xa099762\\xad0220 \\n907\\xad443\\xad2522 \\nwww.nps.gov/bela \\nLocated on the Seward Peninsula, the preserve is a remnant \\no\\nf the land bridge that once connected Asia with North \\nAmerica over 13,000 years ago. Paleontological and archeo\\xad\\nlogical resources abound; large populations of migratory \\nbirds nest here. Ash explosion craters and lava flows, rare in \\nthe Arctic, are present. LIMITED FEDERAL FACILITIES. \\nProclaimed a national monument Dec. 1, 1978; established as \\na national preserve Dec. 2, 1980. \\nAcreage—2,697,391.01 Federal: 2,632,508.00 \\nNonfederal: 64,883.01 \\nCape Krusenstern \\nN\\national Monument \\nPO Box 1029 \\nK\\notzebue, AK 99752\\xad0029 \\n907\\xad442\\xad3890 \\nwww.nps.gov/cakr \\nArcheological sites located along a succession of 114 lateral \\nbeac\\nh ridges illustrate Eskimo communities of every known \\ncultural period in arctic Alaska, dating back some 4,000 \\nyears. Nearly pristine barrier islands, lagoons, and beaches \\nprovide habitat for fish, marine mammals, and migratory \\nbirds while allowing legal harvest by local subsistence users. \\nLIMITED FEDERAL FACILITIES. \\nProclaimed Dec. 1, 1978. Boundary change: Dec. 2, 1980. \\nAcreage—649,096.15 Federal: 627,190.67 \\nNonfederal: 21,905.48. \\n19 \\n \\n \\n \\n \\n \\n \\n \\n \\n \\n \\n \\n \\n   \\n   \\n  \\n \\n  \\n \\n \\n  \\n \\n \\n \\n  \\n   \\n \\n  \\n \\n \\n \\n \\n \\n \\n  \\n   \\n   \\n \\nDenali National Park and \\nDenali National Preserve \\nPO Box 9\\n \\nMcKinley Park, AK 99755\\xad\\n0009 \\n907\\xad683\\xad2253\\n \\nwww.nps.gov/dena\\n \\nThe park contains North America’s highest mountain, \\n20,310\\xadfoot Denali.'), Result(attributes=None, file_id='', filename='', score=2.9052492608394345, text=' 2, 1980. Wilderness designated Dec. 2, 1980. Designated \\na Biosphere Reserve (portion) 1984. \\nAcreage—National park: 7,523,897.45 Federal: \\n7,359,650.20 Nonfederal: 164,247.25. National preserve: \\n948,608.07 Federal: 948,203.00 Nonfederal: 405.07. \\nGlacier Bay National Park \\nand Glacier Bay \\nNational Preserve \\nPO Box 140 \\nGustavus, AK 99826\\xad0140 \\n907\\xad697\\xad2232 \\nwww.nps.gov/glba \\nCovering 3.3 million acres of rugged mountains, dynamic \\nglaciers, temperate rainforests, wild coastlines, and deep \\nsheltered fjords, Glacier Bay is a highlight of Alaska’s Inside \\nPassage offering limitless opportunities for adventure and \\ninspiration. \\nProclaimed Glacier Bay National Monument Feb. 26, 1925; \\nestablished as a national park and national preserve Dec. \\n2, 1980. Boundary changes: April 18, 1939; March 31, 1955; \\nDecember 1, 1978. Wilderness designated Dec. 2, 1980. \\nDesignated a Biosphere Reserve 1986. Designated a World \\nHeritage site Dec, 14, 1992. \\nAcreage—National park: 3,223,383.43 Federal: \\n3,222,284.20 Nonfederal: 1,099.23 Wilderness area: \\n2,770,000. National preserve: 58,406.00, all Federal. \\n20 \\n  \\n \\n \\n \\n \\n       \\n  \\n  \\n   \\n   \\n \\n  \\n \\n \\n \\n \\n \\n \\n  \\n \\n \\n \\n \\n \\n  \\n \\n  \\n  \\n \\n \\n \\n \\n \\n   \\n \\nKatmai National Park and \\nKatmai National Preserve \\nPO Box 7\\n \\nKing Salmon, AK 99613\\xad\\n0007 \\n907\\xad246\\xad3305\\n \\nwww.nps.gov/katm\\n \\nV ariety marks this vast land: lakes, forests, mountains, and \\nmarshlands abound in wildlife. The Alaska brown bear, the \\nworld’s largest carnivore, thrives here, feeding on red salmon \\nthat spawn in the lakes and streams. Wild rivers and renowned \\nsport fishing add to the attractions of this subarctic environ\\xad\\nment. Here, in 1912, Novarupta V olcano erupted violently, \\nforming the ash\\xadfilled “V alley of T en Thousand Smokes” \\nwhere steam rose from countless fumaroles. \\nProclaimed Katmai National Monument Sept. 24, 1918; estab\\xad\\nlished as national park and national preserve Dec. 2, 1980. \\nBoundary changes: April 24, 1931; Aug. 4, 1942; Jan. 20, 1969; \\nDec. 1, 1978; Dec. 2, 1980. Wilderness designated Dec. 2, 1980. \\nAcreage—National park: 3,674,368.02 Federal: \\n3,611,403.12 Nonfederal: 62,964.90 Wilderness area: \\n3,473,000. National preserve: 418,698.80 Federal: \\n333,400.98 Nonfederal: 85,297.82. \\nKenai Fjords \\nNational Park \\nPO Box 1727 \\nSeward, AK 99664\\xad1727 \\n907\\xad422\\xad0500 \\nwww.nps.gov/kefj \\nThe park preserves the 800\\xadsquare\\xadmile Harding Icefield, \\nthe largest icefield solely contained within the United States, \\nits outflowing glaciers, and coastal fjords and islands in their'), Result(attributes=None, file_id='', filename='', score=2.9052492608394345, text=' 2, 1980. Wilderness designated Dec. 2, 1980. Designated \\na Biosphere Reserve (portion) 1984. \\nAcreage—National park: 7,523,897.45 Federal: \\n7,359,650.20 Nonfederal: 164,247.25. National preserve: \\n948,608.07 Federal: 948,203.00 Nonfederal: 405.07. \\nGlacier Bay National Park \\nand Glacier Bay \\nNational Preserve \\nPO Box 140 \\nGustavus, AK 99826\\xad0140 \\n907\\xad697\\xad2232 \\nwww.nps.gov/glba \\nCovering 3.3 million acres of rugged mountains, dynamic \\nglaciers, temperate rainforests, wild coastlines, and deep \\nsheltered fjords, Glacier Bay is a highlight of Alaska’s Inside \\nPassage offering limitless opportunities for adventure and \\ninspiration. \\nProclaimed Glacier Bay National Monument Feb. 26, 1925; \\nestablished as a national park and national preserve Dec. \\n2, 1980. Boundary changes: April 18, 1939; March 31, 1955; \\nDecember 1, 1978. Wilderness designated Dec. 2, 1980. \\nDesignated a Biosphere Reserve 1986. Designated a World \\nHeritage site Dec, 14, 1992. \\nAcreage—National park: 3,223,383.43 Federal: \\n3,222,284.20 Nonfederal: 1,099.23 Wilderness area: \\n2,770,000. National preserve: 58,406.00, all Federal. \\n20 \\n  \\n \\n \\n \\n \\n       \\n  \\n  \\n   \\n   \\n \\n  \\n \\n \\n \\n \\n \\n \\n  \\n \\n \\n \\n \\n \\n  \\n \\n  \\n  \\n \\n \\n \\n \\n \\n   \\n \\nKatmai National Park and \\nKatmai National Preserve \\nPO Box 7\\n \\nKing Salmon, AK 99613\\xad\\n0007 \\n907\\xad246\\xad3305\\n \\nwww.nps.gov/katm\\n \\nV ariety marks this vast land: lakes, forests, mountains, and \\nmarshlands abound in wildlife. The Alaska brown bear, the \\nworld’s largest carnivore, thrives here, feeding on red salmon \\nthat spawn in the lakes and streams. Wild rivers and renowned \\nsport fishing add to the attractions of this subarctic environ\\xad\\nment. Here, in 1912, Novarupta V olcano erupted violently, \\nforming the ash\\xadfilled “V alley of T en Thousand Smokes” \\nwhere steam rose from countless fumaroles. \\nProclaimed Katmai National Monument Sept. 24, 1918; estab\\xad\\nlished as national park and national preserve Dec. 2, 1980. \\nBoundary changes: April 24, 1931; Aug. 4, 1942; Jan. 20, 1969; \\nDec. 1, 1978; Dec. 2, 1980. Wilderness designated Dec. 2, 1980. \\nAcreage—National park: 3,674,368.02 Federal: \\n3,611,403.12 Nonfederal: 62,964.90 Wilderness area: \\n3,473,000. National preserve: 418,698.80 Federal: \\n333,400.98 Nonfederal: 85,297.82. \\nKenai Fjords \\nNational Park \\nPO Box 1727 \\nSeward, AK 99664\\xad1727 \\n907\\xad422\\xad0500 \\nwww.nps.gov/kefj \\nThe park preserves the 800\\xadsquare\\xadmile Harding Icefield, \\nthe largest icefield solely contained within the United States, \\nits outflowing glaciers, and coastal fjords and islands in their'), Result(attributes=None, file_id='', filename='', score=2.7607343620119154, text='America over 13,000 years ago. Paleontological and archeo\\xad\\nlogical resources abound; large populations of migratory \\nbirds nest here. Ash explosion craters and lava flows, rare in \\nthe Arctic, are present. LIMITED FEDERAL FACILITIES. \\nProclaimed a national monument Dec. 1, 1978; established as \\na national preserve Dec. 2, 1980. \\nAcreage—2,697,391.01 Federal: 2,632,508.00 \\nNonfederal: 64,883.01 \\nCape Krusenstern \\nN\\national Monument \\nPO Box 1029 \\nK\\notzebue, AK 99752\\xad0029 \\n907\\xad442\\xad3890 \\nwww.nps.gov/cakr \\nArcheological sites located along a succession of 114 lateral \\nbeac\\nh ridges illustrate Eskimo communities of every known \\ncultural period in arctic Alaska, dating back some 4,000 \\nyears. Nearly pristine barrier islands, lagoons, and beaches \\nprovide habitat for fish, marine mammals, and migratory \\nbirds while allowing legal harvest by local subsistence users. \\nLIMITED FEDERAL FACILITIES. \\nProclaimed Dec. 1, 1978. Boundary change: Dec. 2, 1980. \\nAcreage—649,096.15 Federal: 627,190.67 \\nNonfederal: 21,905.48. \\n19 \\n \\n \\n \\n \\n \\n \\n \\n \\n \\n \\n \\n \\n   \\n   \\n  \\n \\n  \\n \\n \\n  \\n \\n \\n \\n  \\n   \\n \\n  \\n \\n \\n \\n \\n \\n \\n  \\n   \\n   \\n \\nDenali National Park and \\nDenali National Preserve \\nPO Box 9\\n \\nMcKinley Park, AK 99755\\xad\\n0009 \\n907\\xad683\\xad2253\\n \\nwww.nps.gov/dena\\n \\nThe park contains North America’s highest mountain, \\n20,310\\xadfoot Denali. Large glaciers of the Alaska Range, cari\\xad\\nbou, Dall sheep, moose, grizzly bears, and timber wolves are \\nhighlights of this national park and preserve. \\nEstablished as Mt. McKinley National Park Feb. 26, 1917. \\nSeparate Denali National Monument proclaimed Dec. 1, \\n1978. Both incorporated into and established as Denali \\nNational Park and Denali National Preserve Dec. 2, 1980. \\nWilderness designated Dec. 2, 1980. Other boundary chang\\xad\\nes: Jan. 30, 1922; March 19, 1932. Designated a Biosphere \\nReserve 1976. \\nAcreage—National park: 4,740,911.16 Federal: \\n4,732,650.51 Nonfederal: 8,260.65. Wilderness area: \\n1,900,000. National preserve: 1,334,117.80 Federal: \\n1,304,241.97 Nonfederal: 29,875.83. \\nGates of the Arctic \\nNational Park and \\nGates of the Arctic \\nNational Preserve \\n4175 Geist Road \\nFairbanks, AK 99709 \\n907\\xad457\\xad5752 \\nwww.nps.gov/gaar \\nLying north of the Arctic Circle, the park and preserve include \\npart of the Central Brooks Range, the northernmost extension \\nof the Rocky Mountains. Often called the greatest wilderness \\nin North America, these NPS units are characterized by jagged \\npeaks, gentle arctic valleys, wild rivers, and many lakes. With \\nadjacent Kobuk V alley National Park and Noatak National \\nPreserve, they form one of the largest park areas in the world. \\nProclaimed Gates of the Arctic National Monument Dec. 1, \\n1978; established as a national park and national preserve \\nDec.'), Result(attributes=None, file_id='', filename='', score=2.7607343620119154, text='America over 13,000 years ago. Paleontological and archeo\\xad\\nlogical resources abound; large populations of migratory \\nbirds nest here. Ash explosion craters and lava flows, rare in \\nthe Arctic, are present. LIMITED FEDERAL FACILITIES. \\nProclaimed a national monument Dec. 1, 1978; established as \\na national preserve Dec. 2, 1980. \\nAcreage—2,697,391.01 Federal: 2,632,508.00 \\nNonfederal: 64,883.01 \\nCape Krusenstern \\nN\\national Monument \\nPO Box 1029 \\nK\\notzebue, AK 99752\\xad0029 \\n907\\xad442\\xad3890 \\nwww.nps.gov/cakr \\nArcheological sites located along a succession of 114 lateral \\nbeac\\nh ridges illustrate Eskimo communities of every known \\ncultural period in arctic Alaska, dating back some 4,000 \\nyears. Nearly pristine barrier islands, lagoons, and beaches \\nprovide habitat for fish, marine mammals, and migratory \\nbirds while allowing legal harvest by local subsistence users. \\nLIMITED FEDERAL FACILITIES. \\nProclaimed Dec. 1, 1978. Boundary change: Dec. 2, 1980. \\nAcreage—649,096.15 Federal: 627,190.67 \\nNonfederal: 21,905.48. \\n19 \\n \\n \\n \\n \\n \\n \\n \\n \\n \\n \\n \\n \\n   \\n   \\n  \\n \\n  \\n \\n \\n  \\n \\n \\n \\n  \\n   \\n \\n  \\n \\n \\n \\n \\n \\n \\n  \\n   \\n   \\n \\nDenali National Park and \\nDenali National Preserve \\nPO Box 9\\n \\nMcKinley Park, AK 99755\\xad\\n0009 \\n907\\xad683\\xad2253\\n \\nwww.nps.gov/dena\\n \\nThe park contains North America’s highest mountain, \\n20,310\\xadfoot Denali. Large glaciers of the Alaska Range, cari\\xad\\nbou, Dall sheep, moose, grizzly bears, and timber wolves are \\nhighlights of this national park and preserve. \\nEstablished as Mt. McKinley National Park Feb. 26, 1917. \\nSeparate Denali National Monument proclaimed Dec. 1, \\n1978. Both incorporated into and established as Denali \\nNational Park and Denali National Preserve Dec. 2, 1980. \\nWilderness designated Dec. 2, 1980. Other boundary chang\\xad\\nes: Jan. 30, 1922; March 19, 1932. Designated a Biosphere \\nReserve 1976. \\nAcreage—National park: 4,740,911.16 Federal: \\n4,732,650.51 Nonfederal: 8,260.65. Wilderness area: \\n1,900,000. National preserve: 1,334,117.80 Federal: \\n1,304,241.97 Nonfederal: 29,875.83. \\nGates of the Arctic \\nNational Park and \\nGates of the Arctic \\nNational Preserve \\n4175 Geist Road \\nFairbanks, AK 99709 \\n907\\xad457\\xad5752 \\nwww.nps.gov/gaar \\nLying north of the Arctic Circle, the park and preserve include \\npart of the Central Brooks Range, the northernmost extension \\nof the Rocky Mountains. Often called the greatest wilderness \\nin North America, these NPS units are characterized by jagged \\npeaks, gentle arctic valleys, wild rivers, and many lakes. With \\nadjacent Kobuk V alley National Park and Noatak National \\nPreserve, they form one of the largest park areas in the world. \\nProclaimed Gates of the Arctic National Monument Dec. 1, \\n1978; established as a national park and national preserve \\nDec.'), Result(attributes=None, file_id='', filename='', score=2.736387962200917, text=' Large glaciers of the Alaska Range, cari\\xad\\nbou, Dall sheep, moose, grizzly bears, and timber wolves are \\nhighlights of this national park and preserve. \\nEstablished as Mt. McKinley National Park Feb. 26, 1917. \\nSeparate Denali National Monument proclaimed Dec. 1, \\n1978. Both incorporated into and established as Denali \\nNational Park and Denali National Preserve Dec. 2, 1980. \\nWilderness designated Dec. 2, 1980. Other boundary chang\\xad\\nes: Jan. 30, 1922; March 19, 1932. Designated a Biosphere \\nReserve 1976. \\nAcreage—National park: 4,740,911.16 Federal: \\n4,732,650.51 Nonfederal: 8,260.65. Wilderness area: \\n1,900,000. National preserve: 1,334,117.80 Federal: \\n1,304,241.97 Nonfederal: 29,875.83. \\nGates of the Arctic \\nNational Park and \\nGates of the Arctic \\nNational Preserve \\n4175 Geist Road \\nFairbanks, AK 99709 \\n907\\xad457\\xad5752 \\nwww.nps.gov/gaar \\nLying north of the Arctic Circle, the park and preserve include \\npart of the Central Brooks Range, the northernmost extension \\nof the Rocky Mountains. Often called the greatest wilderness \\nin North America, these NPS units are characterized by jagged \\npeaks, gentle arctic valleys, wild rivers, and many lakes. With \\nadjacent Kobuk V alley National Park and Noatak National \\nPreserve, they form one of the largest park areas in the world. \\nProclaimed Gates of the Arctic National Monument Dec. 1, \\n1978; established as a national park and national preserve \\nDec. 2, 1980. Wilderness designated Dec. 2, 1980. Designated \\na Biosphere Reserve (portion) 1984. \\nAcreage—National park: 7,523,897.45 Federal: \\n7,359,650.20 Nonfederal: 164,247.25. National preserve: \\n948,608.07 Federal: 948,203.00 Nonfederal: 405.07. \\nGlacier Bay National Park \\nand Glacier Bay \\nNational Preserve \\nPO Box 140 \\nGustavus, AK 99826\\xad0140 \\n907\\xad697\\xad2232 \\nwww.nps.gov/glba \\nCovering 3.3 million acres of rugged mountains, dynamic \\nglaciers, temperate rainforests, wild coastlines, and deep \\nsheltered fjords, Glacier Bay is a highlight of Alaska’s Inside \\nPassage offering limitless opportunities for adventure and \\ninspiration. \\nProclaimed Glacier Bay National Monument Feb. 26, 1925; \\nestablished as a national park and national preserve Dec. \\n2, 1980. Boundary changes: April 18, 1939; March 31, 1955; \\nDecember 1, 1978. Wilderness designated Dec. 2, 1980. \\nDesignated a Biosphere Reserve 1986. Designated a World \\nHeritage site Dec, 14, 1992. \\nAcreage—National park: 3,223,383.43 Federal: \\n3,222,284.20 Nonfederal: 1,099.23 Wilderness area: \\n2,770,000. National preserve: 58,406.00, all Federal. \\n20 \\n  \\n \\n \\n \\n \\n       \\n  \\n  \\n   \\n   \\n \\n  \\n \\n \\n \\n \\n \\n \\n  \\n \\n \\n \\n \\n \\n  \\n \\n  \\n  \\n \\n \\n \\n \\n \\n   \\n \\nKatmai National Park and \\nKatmai National Preserve \\nPO Box 7'), Result(attributes=None, file_id='', filename='', score=2.736387962200917, text=' Large glaciers of the Alaska Range, cari\\xad\\nbou, Dall sheep, moose, grizzly bears, and timber wolves are \\nhighlights of this national park and preserve. \\nEstablished as Mt. McKinley National Park Feb. 26, 1917. \\nSeparate Denali National Monument proclaimed Dec. 1, \\n1978. Both incorporated into and established as Denali \\nNational Park and Denali National Preserve Dec. 2, 1980. \\nWilderness designated Dec. 2, 1980. Other boundary chang\\xad\\nes: Jan. 30, 1922; March 19, 1932. Designated a Biosphere \\nReserve 1976. \\nAcreage—National park: 4,740,911.16 Federal: \\n4,732,650.51 Nonfederal: 8,260.65. Wilderness area: \\n1,900,000. National preserve: 1,334,117.80 Federal: \\n1,304,241.97 Nonfederal: 29,875.83. \\nGates of the Arctic \\nNational Park and \\nGates of the Arctic \\nNational Preserve \\n4175 Geist Road \\nFairbanks, AK 99709 \\n907\\xad457\\xad5752 \\nwww.nps.gov/gaar \\nLying north of the Arctic Circle, the park and preserve include \\npart of the Central Brooks Range, the northernmost extension \\nof the Rocky Mountains. Often called the greatest wilderness \\nin North America, these NPS units are characterized by jagged \\npeaks, gentle arctic valleys, wild rivers, and many lakes. With \\nadjacent Kobuk V alley National Park and Noatak National \\nPreserve, they form one of the largest park areas in the world. \\nProclaimed Gates of the Arctic National Monument Dec. 1, \\n1978; established as a national park and national preserve \\nDec. 2, 1980. Wilderness designated Dec. 2, 1980. Designated \\na Biosphere Reserve (portion) 1984. \\nAcreage—National park: 7,523,897.45 Federal: \\n7,359,650.20 Nonfederal: 164,247.25. National preserve: \\n948,608.07 Federal: 948,203.00 Nonfederal: 405.07. \\nGlacier Bay National Park \\nand Glacier Bay \\nNational Preserve \\nPO Box 140 \\nGustavus, AK 99826\\xad0140 \\n907\\xad697\\xad2232 \\nwww.nps.gov/glba \\nCovering 3.3 million acres of rugged mountains, dynamic \\nglaciers, temperate rainforests, wild coastlines, and deep \\nsheltered fjords, Glacier Bay is a highlight of Alaska’s Inside \\nPassage offering limitless opportunities for adventure and \\ninspiration. \\nProclaimed Glacier Bay National Monument Feb. 26, 1925; \\nestablished as a national park and national preserve Dec. \\n2, 1980. Boundary changes: April 18, 1939; March 31, 1955; \\nDecember 1, 1978. Wilderness designated Dec. 2, 1980. \\nDesignated a Biosphere Reserve 1986. Designated a World \\nHeritage site Dec, 14, 1992. \\nAcreage—National park: 3,223,383.43 Federal: \\n3,222,284.20 Nonfederal: 1,099.23 Wilderness area: \\n2,770,000. National preserve: 58,406.00, all Federal. \\n20 \\n  \\n \\n \\n \\n \\n       \\n  \\n  \\n   \\n   \\n \\n  \\n \\n \\n \\n \\n \\n \\n  \\n \\n \\n \\n \\n \\n  \\n \\n  \\n  \\n \\n \\n \\n \\n \\n   \\n \\nKatmai National Park and \\nKatmai National Preserve \\nPO Box 7'), Result(attributes=None, file_id='', filename='', score=2.7340891731495267, text=' . 19, 1962; Nov .  \\n9, 2000. Wilderness designated Oct. 23, 1970. Designated a  \\nnational preserve Aug. 21, 2002. \\nAcreage—464,303.97, all Federal.  Wilderness area: 43,243. \\n51 \\n \\n \\n \\n \\n \\n \\n \\n \\n \\n \\n  \\n \\n \\n \\n \\n \\n  \\n \\n  \\n \\n    \\n  \\nHagerman Fossil Beds \\nNational Monument \\n221 North State Street \\n \\nPO Box 570 \\nHagerman, ID 83332\\xad0570 \\n208\\xad993\\xad4100 \\nwww.nps.gov/hafo \\nExtraordinary fossils from the Pliocene Epoch, 3.5 million  \\ny\\nears ago, are covered in sediment from the Snake River  \\nPlain. The Hagerman Horse Quarry, a National Natural\\nLandmark, and over 200 fossilized plant and animal species  \\nare here. LIMITED FEDERAL FACILITIES. \\nAuthorized Nov . 18, 1988. \\nAcreage—4,351.15  Federal: 4,334.65  Nonfederal: 16.50. \\nMinidoka \\nNational Historic Site \\n \\n221 North State Street  \\nPO Box 570  \\nHagerman, ID 83332 \\n208\\xad837\\xad4793 \\n \\nwww.nps.gov/miin \\n(Also in Washington) \\nThe history and cultural resources associated with the reloca\\xad\\nti\\non and internment of Japanese Americans during World War\\nII are interpreted here. UNDER DEVELOPMENT . Includes\\nBainbridge Island Japanese American Exclusion Memorial in\\nWashington. \\nProclaimed Jan. 17, 2001; redesignated a national historic site\\nMay 8, 2008.  \\nAcreage—396.30 Federal: 388.30 Nonfederal: 8.00. \\nNez Perce \\n \\nNational Historical Park  \\n36063 U.S. Highway 95 \\nSpalding, ID 83540\\xad9715 \\n208\\xad843\\xad7001 \\nwww.nps.gov/nepe \\n(Also in Montana, Oregon, \\nand Washington) \\nThe park’s 38 sites, spreading across Idaho, Washington,\\nOr\\negon, and Montana, commemorate the Nez Perce. Six\\nsites are owned and managed by  the National Park Service  \\nat Spalding, Canoe Camp, Buffalo Eddy, East Kamiah, White  \\nBird Battlefield, and Big Hole National Battlefield. \\nAuthorized May 15, 1965. Boundary change: Oct. 30, 1992. \\nAcreage—4,564.93  Federal: 3,858.63  Nonfederal: 706.30. \\nY ellowstone National Park \\n(See Wyoming) \\nIllinois \\nLincoln Home \\nNational Historic Site \\n413 S. Eighth Street \\nS\\npringfield, IL 62701\\xad1905\\n217\\xad492\\xad4241 \\n \\nwww.nps.gov/liho \\nAbraham Lincoln resided in this house for 17 years before he \\nbecam\\ne president. The surrounding historic district preserves \\nthe 1860s environment in which the Lincoln family lived. \\nAuthorized Aug. 18, 1971. \\nAcreage—12.24 Federal: 12.03 Nonfederal: 0.21. \\nPullman National  \\nMon\\nument \\n11111 S. Forrestville Avenue \\nChi\\ncago, IL 60628 \\n773\\xad660\\xad2341 \\nwww.nps.gov/pull \\nGeorge Pullman created an integrated manufacturing com\\xad\\np\\nlex and residential community south of Chicago in the 1880s, \\nwith the intention of retaining skilled workers for his varied \\nrail cars assembled there.  The town of Pullman’s design and \\narchitecture still resonate with today’s urban planners.  The \\nname “Pull'), Result(attributes=None, file_id='', filename='', score=2.7340891731495267, text=' . 19, 1962; Nov .  \\n9, 2000. Wilderness designated Oct. 23, 1970. Designated a  \\nnational preserve Aug. 21, 2002. \\nAcreage—464,303.97, all Federal.  Wilderness area: 43,243. \\n51 \\n \\n \\n \\n \\n \\n \\n \\n \\n \\n \\n  \\n \\n \\n \\n \\n \\n  \\n \\n  \\n \\n    \\n  \\nHagerman Fossil Beds \\nNational Monument \\n221 North State Street \\n \\nPO Box 570 \\nHagerman, ID 83332\\xad0570 \\n208\\xad993\\xad4100 \\nwww.nps.gov/hafo \\nExtraordinary fossils from the Pliocene Epoch, 3.5 million  \\ny\\nears ago, are covered in sediment from the Snake River  \\nPlain. The Hagerman Horse Quarry, a National Natural\\nLandmark, and over 200 fossilized plant and animal species  \\nare here. LIMITED FEDERAL FACILITIES. \\nAuthorized Nov . 18, 1988. \\nAcreage—4,351.15  Federal: 4,334.65  Nonfederal: 16.50. \\nMinidoka \\nNational Historic Site \\n \\n221 North State Street  \\nPO Box 570  \\nHagerman, ID 83332 \\n208\\xad837\\xad4793 \\n \\nwww.nps.gov/miin \\n(Also in Washington) \\nThe history and cultural resources associated with the reloca\\xad\\nti\\non and internment of Japanese Americans during World War\\nII are interpreted here. UNDER DEVELOPMENT . Includes\\nBainbridge Island Japanese American Exclusion Memorial in\\nWashington. \\nProclaimed Jan. 17, 2001; redesignated a national historic site\\nMay 8, 2008.  \\nAcreage—396.30 Federal: 388.30 Nonfederal: 8.00. \\nNez Perce \\n \\nNational Historical Park  \\n36063 U.S. Highway 95 \\nSpalding, ID 83540\\xad9715 \\n208\\xad843\\xad7001 \\nwww.nps.gov/nepe \\n(Also in Montana, Oregon, \\nand Washington) \\nThe park’s 38 sites, spreading across Idaho, Washington,\\nOr\\negon, and Montana, commemorate the Nez Perce. Six\\nsites are owned and managed by  the National Park Service  \\nat Spalding, Canoe Camp, Buffalo Eddy, East Kamiah, White  \\nBird Battlefield, and Big Hole National Battlefield. \\nAuthorized May 15, 1965. Boundary change: Oct. 30, 1992. \\nAcreage—4,564.93  Federal: 3,858.63  Nonfederal: 706.30. \\nY ellowstone National Park \\n(See Wyoming) \\nIllinois \\nLincoln Home \\nNational Historic Site \\n413 S. Eighth Street \\nS\\npringfield, IL 62701\\xad1905\\n217\\xad492\\xad4241 \\n \\nwww.nps.gov/liho \\nAbraham Lincoln resided in this house for 17 years before he \\nbecam\\ne president. The surrounding historic district preserves \\nthe 1860s environment in which the Lincoln family lived. \\nAuthorized Aug. 18, 1971. \\nAcreage—12.24 Federal: 12.03 Nonfederal: 0.21. \\nPullman National  \\nMon\\nument \\n11111 S. Forrestville Avenue \\nChi\\ncago, IL 60628 \\n773\\xad660\\xad2341 \\nwww.nps.gov/pull \\nGeorge Pullman created an integrated manufacturing com\\xad\\np\\nlex and residential community south of Chicago in the 1880s, \\nwith the intention of retaining skilled workers for his varied \\nrail cars assembled there.  The town of Pullman’s design and \\narchitecture still resonate with today’s urban planners.  The \\nname “Pull')]\n",
      "\n",
      "--- Output Item 2 ---\n",
      "Output type: message\n",
      "Response content: The Bering Land Bridge was proclaimed a national monument on December 1, 1978, and established as a national preserve on December 2, 1980.\n"
     ]
    }
   ],
   "source": [
    "print_response(rag_openai_client_response)"
   ]
  },
  {
   "cell_type": "markdown",
   "id": "a23fdbb1",
   "metadata": {},
   "source": [
    "And similarly, the complex example using the NPS MCP server also works the same way as it did with the Llama Stack client:"
   ]
  },
  {
   "cell_type": "code",
   "execution_count": 23,
   "id": "d82f8af0",
   "metadata": {},
   "outputs": [
    {
     "name": "stderr",
     "output_type": "stream",
     "text": [
      "INFO:httpx:HTTP Request: POST http://localhost:8321/v1/openai/v1/responses \"HTTP/1.1 200 OK\"\n"
     ]
    }
   ],
   "source": [
    "complex_openai_client_response = openai_client.responses.create(\n",
    "    model=LLAMA_STACK_MODEL_ID,\n",
    "    input=\"Tell me about some parks in Rhode Island, and let me know if there are any upcoming events at them.\",\n",
    "    tools=[\n",
    "        {\n",
    "            \"type\": \"mcp\",\n",
    "            \"server_url\": NPS_MCP_URL,\n",
    "            \"server_label\": \"National Parks Service tools\",\n",
    "        }\n",
    "    ]\n",
    ")"
   ]
  },
  {
   "cell_type": "markdown",
   "id": "e13818ff",
   "metadata": {},
   "source": [
    "Because both the OpenAI client and the Llama Stack client are wrapping the same underlying server API, the structures of their outputs wind up being the same too, so the complicated print_response method that prints out the response objects for the Llama Stack client also prints out the response objects for the OpenAI client."
   ]
  },
  {
   "cell_type": "code",
   "execution_count": 24,
   "id": "77dfe6a5",
   "metadata": {},
   "outputs": [
    {
     "name": "stdout",
     "output_type": "stream",
     "text": [
      "ID: resp-46a7faf0-9554-4aa4-9ed5-c15da5383c32\n",
      "Status: completed\n",
      "Model: gpt-4o\n",
      "Created at: 1755107216.0\n",
      "Output items: 7\n",
      "\n",
      "--- Output Item 1 ---\n",
      "Output type: mcp_list_tools\n",
      "\n",
      "🔧 MCP Server: National Parks Service tools\n",
      "   ID: mcp_list_cb8e98aa-881c-4e7e-8cbf-64fb7e96dff3\n",
      "   Available Tools: 5\n",
      "================================================================================\n",
      "\n",
      "1. search_parks\n",
      "   Description: Search for national parks by state, park code, or query string.\n",
      "\n",
      "Args:\n",
      "    state_code: Two-letter state code (e.g., 'CA', 'NY')\n",
      "    park_code: Four-letter park code (e.g., 'yell', 'acad')\n",
      "    query: Search query for park names or descriptions\n",
      "    limit: Maximum number of results to return (default: 10)\n",
      "\n",
      "Returns:\n",
      "    JSON string with park information including name, description, website, and location\n",
      "   Parameters:\n",
      "     • state_code (string) (required)\n",
      "     • park_code (string) (required)\n",
      "     • query (string) (required)\n",
      "     • limit (integer) (required)\n",
      "----------------------------------------\n",
      "\n",
      "2. get_park_alerts\n",
      "   Description: Get current alerts for a specific national park.\n",
      "\n",
      "Args:\n",
      "    park_code: Four-letter park code (e.g., 'yell', 'acad', 'grca')\n",
      "\n",
      "Returns:\n",
      "    JSON string with current alerts for the park\n",
      "   Parameters:\n",
      "     • park_code (string) (required)\n",
      "----------------------------------------\n",
      "\n",
      "3. get_park_campgrounds\n",
      "   Description: Get campground information for a specific national park.\n",
      "\n",
      "Args:\n",
      "    park_code: Four-letter park code (e.g., 'yell', 'acad', 'grca')\n",
      "    limit: Maximum number of campgrounds to return (default: 10)\n",
      "\n",
      "Returns:\n",
      "    JSON string with campground information including location, amenities, and fees\n",
      "   Parameters:\n",
      "     • park_code (string) (required)\n",
      "     • limit (integer) (required)\n",
      "----------------------------------------\n",
      "\n",
      "4. get_park_events\n",
      "   Description: Get upcoming events for a specific national park.\n",
      "\n",
      "Args:\n",
      "    park_code: Four-letter park code (e.g., 'yell', 'acad', 'grca')\n",
      "    limit: Maximum number of events to return (default: 10)\n",
      "\n",
      "Returns:\n",
      "    JSON string with event information including date, time, fee, and description\n",
      "   Parameters:\n",
      "     • park_code (string) (required)\n",
      "     • limit (integer) (required)\n",
      "----------------------------------------\n",
      "\n",
      "5. get_visitor_centers\n",
      "   Description: Get visitor center information for a specific national park.\n",
      "\n",
      "Args:\n",
      "    park_code: Four-letter park code (e.g., 'yell', 'acad', 'grca')\n",
      "    limit: Maximum number of visitor centers to return (default: 10)\n",
      "\n",
      "Returns:\n",
      "    JSON string with visitor center information including location, contact, and operating hours\n",
      "   Parameters:\n",
      "     • park_code (string) (required)\n",
      "     • limit (integer) (required)\n",
      "\n",
      "--- Output Item 2 ---\n",
      "Output type: mcp_call\n",
      "\n",
      "🛠️  MCP Tool Call: search_parks\n",
      "   Server: National Parks Service tools\n",
      "   ID: call_ntsEvPuEYRsl9t1lRMwBuwiR\n",
      "   Arguments: {\"state_code\":\"RI\",\"park_code\":\"\",\"query\":\"\",\"limit\":10}\n",
      "Output:\n",
      "{\n",
      "    \"total\": \"4\",\n",
      "    \"parks\": [\n",
      "        {\n",
      "            \"name\": \"Blackstone River Valley National Historical Park\",\n",
      "            \"code\": \"blrv\",\n",
      "            \"description\": \"The Blackstone River powered America's entry into the Age of Industry. The success of Samuel Slater's cotton spinning mill in Pawtucket, RI touched off a chain reaction that changed how people worked and where they lived. Learn how this revolution transformed the landscape of the Blackstone Valley and the United States. The Visitor Center at Old Slater Mill is currently open Thursday-Sunday, 10-4.\",\n",
      "            \"website\": \"https://www.nps.gov/blrv/index.htm\",\n",
      "            \"states\": \"RI,MA\",\n",
      "            \"designation\": \"National Historical Park\",\n",
      "            \"latitude\": \"41.8775792792\",\n",
      "            \"longitude\": \"-71.382433945\"\n",
      "        },\n",
      "        {\n",
      "            \"name\": \"Roger Williams National Memorial\",\n",
      "            \"code\": \"rowi\",\n",
      "            \"description\": \"\\\"I acknowledge that to molest any person, Jew or Gentile, for either professing doctrine, or practicing worship meerly religious or spiritual, is to persecute him, and such a person (whether his doctrine or practice be true or false) suffers persecution for conscience.\\\" -Roger Williams, 1644 Banished by the English and saved by the First Peoples, Roger Williams founded Providence here in 1636.\",\n",
      "            \"website\": \"https://www.nps.gov/rowi/index.htm\",\n",
      "            \"states\": \"RI\",\n",
      "            \"designation\": \"National Memorial\",\n",
      "            \"latitude\": \"41.8298955\",\n",
      "            \"longitude\": \"-71.41056665\"\n",
      "        },\n",
      "        {\n",
      "            \"name\": \"Touro Synagogue National Historic Site\",\n",
      "            \"code\": \"tosy\",\n",
      "            \"description\": \"Touro Synagogue, a building of exquisite beauty and design, steeped in history and ideals, and one of the most historically significant Jewish buildings in America, was designated a National Historic Site in 1946. Dedicated in 1763, it still serves an active congregation and each year greets over 30,000 visitors who come to see the magnificent interior and hear its remarkable story.\",\n",
      "            \"website\": \"https://www.nps.gov/tosy/index.htm\",\n",
      "            \"states\": \"RI\",\n",
      "            \"designation\": \"National Historic Site\",\n",
      "            \"latitude\": \"41.4893\",\n",
      "            \"longitude\": \"-71.3121\"\n",
      "        },\n",
      "        {\n",
      "            \"name\": \"Washington-Rochambeau Revolutionary Route National Historic Trail\",\n",
      "            \"code\": \"waro\",\n",
      "            \"description\": \"\\u201cOf the happiness I have enjoyed in our private friendship. The remembrance of which will be one of the most pleasing Circumstances of my life.\\u201d\\u2013 Comte de Rochambeau on his relationship with George Washington\",\n",
      "            \"website\": \"https://www.nps.gov/waro/index.htm\",\n",
      "            \"states\": \"MA,RI,CT,NY,NJ,PA,DE,MD,VA,DC\",\n",
      "            \"designation\": \"National Historic Trail\",\n",
      "            \"latitude\": \"40.0958204557\",\n",
      "            \"longitude\": \"-74.8563515109\"\n",
      "        }\n",
      "    ]\n",
      "}\n",
      "\n",
      "--- Output Item 3 ---\n",
      "Output type: mcp_call\n",
      "\n",
      "🛠️  MCP Tool Call: get_park_events\n",
      "   Server: National Parks Service tools\n",
      "   ID: call_BGrdp1jyt1Y3DHcVGbkWozkQ\n",
      "   Arguments: {\"park_code\": \"blrv\", \"limit\": 10}\n",
      "Output:\n",
      "{\n",
      "    \"parkCode\": \"BLRV\",\n",
      "    \"totalEvents\": 10,\n",
      "    \"events\": [\n",
      "        {\n",
      "            \"title\": \"Old Slater Mill Tour\",\n",
      "            \"description\": \"<p>Join a Park Ranger on a tour of the Mill that started the American Industrial Revolution. These 30 minute guided tours investigate the historical significance of Slater Mill, and what valuable lessons the building still teachings us. Tours begin at 10:30 AM, 12:30 PM and 2:30 PM in front of the mill. Please arrive a few minutes early.</p>\\n<p>\\u00a0</p>\\n<p><u><em>Please Note:</em></u><em>\\u00a0</em><em>For visitor saftey, tours of Old Slater Mill will be modified or cancelled if the heat index is at or above 87 degrees Fahrenheit. A shortened 10 minute Ranger talk will be offered at the normal tour times. Visitors will have a brief period of access to the main part of the mill. For the latest weather information, call 401-725-8638.</em></p>\",\n",
      "            \"location\": \"67 Roosevelt Avenue, Pawtucket, RI 02860\",\n",
      "            \"dateStart\": \"\",\n",
      "            \"dateEnd\": \"\",\n",
      "            \"timeStart\": \"\",\n",
      "            \"timeEnd\": \"\",\n",
      "            \"feeInfo\": \"\",\n",
      "            \"isRecurring\": false,\n",
      "            \"parkCode\": \"\"\n",
      "        },\n",
      "        {\n",
      "            \"title\": \"Old Slater Mill Tour\",\n",
      "            \"description\": \"<p>Join a Park Ranger on a tour of the Mill that started the American Industrial Revolution. These 30 minute guided tours investigate the historical significance of Slater Mill, and what valuable lessons the building still teachings us. Tours begin at 10:30 AM, 12:30 PM and 2:30 PM in front of the mill. Please arrive a few minutes early.</p>\\n<p>\\u00a0</p>\\n<p><u><em>Please Note:</em></u><em>\\u00a0</em><em>For visitor saftey, tours of Old Slater Mill will be modified or cancelled if the heat index is at or above 87 degrees Fahrenheit. A shortened 10 minute Ranger talk will be offered at the normal tour times. Visitors will have a brief period of access to the main part of the mill. For the latest weather information, call 401-725-8638.</em></p>\",\n",
      "            \"location\": \"67 Roosevelt Avenue, Pawtucket, RI 02860\",\n",
      "            \"dateStart\": \"\",\n",
      "            \"dateEnd\": \"\",\n",
      "            \"timeStart\": \"\",\n",
      "            \"timeEnd\": \"\",\n",
      "            \"feeInfo\": \"\",\n",
      "            \"isRecurring\": false,\n",
      "            \"parkCode\": \"\"\n",
      "        },\n",
      "        {\n",
      "            \"title\": \"Ranger Walkabout: Community and Change in Berkeley\",\n",
      "            \"description\": \"<p>Join a Park Ranger and explore the Blackstone River Valley.<br /><br />During the months of June, July, and August, park staff offer specialty tours at varying locations across the Blackstone River Watershed. These programs begin at 6:30 PM and are\\u00a060-minutes long.<br /><br />Please wear comfortable footwear and bring water.\\u00a0Most tours are outside and\\u00a0often\\u00a0include walking on uneven surfaces on varying types of terrain with no access to bathroom facilities. Bug spray and sunscreen are also highly suggested.<br /><br />Please Note: There will be no Walkabouts on June 19 and July 3.<br />\\u00a0</p>\\n<hr />\\n<h3>\\u00a0</h3>\\n<h3>August 14 \\u2013 Community and Change in Berkeley</h3>\\n<p><u>Location:\\u00a0</u>30 Martin Street, Cumberland, RI\\u00a0</p>\\n<p>What happens when a mill community changes ownership? Join a ranger and two members of the community for a guided walk through Berkeley, a Cumberland mill village. Discover how this village has adapted to change and continued to foster and strengthen community and learn about the history of this mill village. Meet in front of the Berkeley Mill complex. Limited free parking is available to participants at the Berkeley Oval just down the road.\\u00a0</p>\\n<h2>Future Schedule:</h2>\\n<h3>August 21 \\u2013 Roger Williams National Memorial 60th Anniversary Celebration</h3>\\n<p><u>Location:\\u00a0</u>282 N. Main St., Providence, RI\\u00a0\\u00a0</p>\\n<p>Roger Williams National Memorial is celebrating its 60th anniversary this year. This year\\u2019s National Memorial walkabout will showcase some of the amazing research we\\u2019ve done about the creation of the historical well and gardens. Learn about the \\u201cmemorial within a memorial,\\u201d first donated by J. Jerome Hahn, in memory of his father, Isaac Hahn, the first Jewish person elected to public office in Rhode Island. The Rhode Island Jewish Historical Association will be there to help tell this amazing story.\\u00a0</p>\\n<h3 lang=\\\"EN-US\\\" xml:lang=\\\"EN-US\\\">August 28 \\u2013 Remaking a Landscape</h3>\\n<p><u>Location:\\u00a0</u>67 Roosevelt Ave., Pawtucket, RI\\u00a0\\u00a0</p>\\n<p>Old Slater Mill, America\\u2019s first cotton-spinning mill, still stands along the Blackstone River, a reminder of Pawtucket\\u2019s industrial past. But the landscape that surrounds the mill has been remade numerous times over the last 232 years of the mill\\u2019s existence. On this tour we will use historic photographs, maps, and archeological findings to discover how this landscape has evolved from a rural landscape to an industrial center to a landscape marked by the effects of Urban Renewal. Please note this is not a tour of the interior of Slater Mill, but participants wishing to see the interior will be able to do so after the tour concludes.\\u00a0</p>\",\n",
      "            \"location\": \"30 Martin Street, Cumberland, RI\",\n",
      "            \"dateStart\": \"\",\n",
      "            \"dateEnd\": \"\",\n",
      "            \"timeStart\": \"\",\n",
      "            \"timeEnd\": \"\",\n",
      "            \"feeInfo\": \"\",\n",
      "            \"isRecurring\": false,\n",
      "            \"parkCode\": \"\"\n",
      "        },\n",
      "        {\n",
      "            \"title\": \"Ranger Walkabout: Roger Williams 60th Anniversary Celebration\",\n",
      "            \"description\": \"<p>Join a Park Ranger and explore the Blackstone River Valley.<br /><br />During the months of June, July, and August, park staff offer specialty tours at varying locations across the Blackstone River Watershed. These programs begin at 6:30 PM and are\\u00a060-minutes long.<br /><br />Please wear comfortable footwear and bring water.\\u00a0Most tours are outside and\\u00a0often\\u00a0include walking on uneven surfaces on varying types of terrain with no access to bathroom facilities. Bug spray and sunscreen are also highly suggested.<br /><br />Please Note: There will be no Walkabouts on June 19 and July 3.<br />\\u00a0</p>\\n<hr />\\n<h3>\\u00a0</h3>\\n<h3>August 21 \\u2013 Roger Williams National Memorial 60th Anniversary Celebration</h3>\\n<p><u>Location:\\u00a0</u>282 N. Main St., Providence, RI\\u00a0\\u00a0</p>\\n<p>Roger Williams National Memorial is celebrating its 60th anniversary this year. This year\\u2019s National Memorial walkabout will showcase some of the amazing research we\\u2019ve done about the creation of the historical well and gardens. Learn about the \\u201cmemorial within a memorial,\\u201d first donated by J. Jerome Hahn, in memory of his father, Isaac Hahn, the first Jewish person elected to public office in Rhode Island. The Rhode Island Jewish Historical Association will be there to help tell this amazing story.\\u00a0</p>\\n<h2>Future Schedule:</h2>\\n<h3 lang=\\\"EN-US\\\" xml:lang=\\\"EN-US\\\">August 28 \\u2013 Remaking a Landscape</h3>\\n<p><u>Location:\\u00a0</u>67 Roosevelt Ave., Pawtucket, RI\\u00a0\\u00a0</p>\\n<p>Old Slater Mill, America\\u2019s first cotton-spinning mill, still stands along the Blackstone River, a reminder of Pawtucket\\u2019s industrial past. But the landscape that surrounds the mill has been remade numerous times over the last 232 years of the mill\\u2019s existence. On this tour we will use historic photographs, maps, and archeological findings to discover how this landscape has evolved from a rural landscape to an industrial center to a landscape marked by the effects of Urban Renewal. Please note this is not a tour of the interior of Slater Mill, but participants wishing to see the interior will be able to do so after the tour concludes.\\u00a0</p>\",\n",
      "            \"location\": \"Roger Williams National Memorial, 282 North Main Street, Providence, RI\",\n",
      "            \"dateStart\": \"\",\n",
      "            \"dateEnd\": \"\",\n",
      "            \"timeStart\": \"\",\n",
      "            \"timeEnd\": \"\",\n",
      "            \"feeInfo\": \"\",\n",
      "            \"isRecurring\": false,\n",
      "            \"parkCode\": \"\"\n",
      "        },\n",
      "        {\n",
      "            \"title\": \"Old Slater Mill Tour\",\n",
      "            \"description\": \"<p>Join a Park Ranger on a tour of the Mill that started the American Industrial Revolution. These 30 minute guided tours investigate the historical significance of Slater Mill, and what valuable lessons the building still teachings us. Tours begin at 10:30 AM, 12:30 PM and 2:30 PM in front of the mill. Please arrive a few minutes early.</p>\\n<p>\\u00a0</p>\\n<p><u><em>Please Note:</em></u><em>\\u00a0</em><em>For visitor saftey, tours of Old Slater Mill will be modified or cancelled if the heat index is at or above 87 degrees Fahrenheit. A shortened 10 minute Ranger talk will be offered at the normal tour times. Visitors will have a brief period of access to the main part of the mill. For the latest weather information, call 401-725-8638.</em></p>\",\n",
      "            \"location\": \"67 Roosevelt Avenue, Pawtucket, RI 02860\",\n",
      "            \"dateStart\": \"\",\n",
      "            \"dateEnd\": \"\",\n",
      "            \"timeStart\": \"\",\n",
      "            \"timeEnd\": \"\",\n",
      "            \"feeInfo\": \"\",\n",
      "            \"isRecurring\": false,\n",
      "            \"parkCode\": \"\"\n",
      "        },\n",
      "        {\n",
      "            \"title\": \"Take Me Fishing Day\",\n",
      "            \"description\": \"<p>It's time again for our annual Founders Day fishing event.\\u00a0</p>\\n<p>Join Park Rangers, DEM, US Fish and Wildlife staff, and volunteers for a free fishing program at the Kelly House, located at the Blackstone River State Park, on August 24, 2025 from 1-4 PM. Catch some fish, learn about the river, and earn a Junior Angler badge.\\u00a0</p>\\n<p>All fishing gear, materials, and bait will be provided.</p>\\n<p>Please wear comfortable footwear and bring water. Bug spray and sunscreen are also highly suggested.\\u00a0</p>\",\n",
      "            \"location\": \"\",\n",
      "            \"dateStart\": \"\",\n",
      "            \"dateEnd\": \"\",\n",
      "            \"timeStart\": \"\",\n",
      "            \"timeEnd\": \"\",\n",
      "            \"feeInfo\": \"\",\n",
      "            \"isRecurring\": false,\n",
      "            \"parkCode\": \"\"\n",
      "        },\n",
      "        {\n",
      "            \"title\": \"Ranger Walkabout: Remaking a Landscape\",\n",
      "            \"description\": \"<p>Join a Park Ranger and explore the Blackstone River Valley.<br /><br />During the months of June, July, and August, park staff offer specialty tours at varying locations across the Blackstone River Watershed. These programs begin at 6:30 PM and are\\u00a060-minutes long.<br /><br />Please wear comfortable footwear and bring water.\\u00a0Most tours are outside and\\u00a0often\\u00a0include walking on uneven surfaces on varying types of terrain with no access to bathroom facilities. Bug spray and sunscreen are also highly suggested.<br /><br />Please Note: There will be no Walkabouts on June 19 and July 3.<br />\\u00a0</p>\\n<hr />\\n<h3>\\u00a0</h3>\\n<h3 lang=\\\"EN-US\\\" xml:lang=\\\"EN-US\\\">August 28 \\u2013 Remaking a Landscape</h3>\\n<p><u>Location:\\u00a0</u>67 Roosevelt Ave., Pawtucket, RI\\u00a0\\u00a0</p>\\n<p>Old Slater Mill, America\\u2019s first cotton-spinning mill, still stands along the Blackstone River, a reminder of Pawtucket\\u2019s industrial past. But the landscape that surrounds the mill has been remade numerous times over the last 232 years of the mill\\u2019s existence. On this tour we will use historic photographs, maps, and archeological findings to discover how this landscape has evolved from a rural landscape to an industrial center to a landscape marked by the effects of Urban Renewal. Please note this is not a tour of the interior of Slater Mill, but participants wishing to see the interior will be able to do so after the tour concludes.\\u00a0</p>\",\n",
      "            \"location\": \"Old Slater Mill, 67 Roosevelt Avenue, Pawtucket, RI\",\n",
      "            \"dateStart\": \"\",\n",
      "            \"dateEnd\": \"\",\n",
      "            \"timeStart\": \"\",\n",
      "            \"timeEnd\": \"\",\n",
      "            \"feeInfo\": \"\",\n",
      "            \"isRecurring\": false,\n",
      "            \"parkCode\": \"\"\n",
      "        },\n",
      "        {\n",
      "            \"title\": \"Labor Day Weekend Specialty Tours at Old Slater Mill\",\n",
      "            \"description\": \"<p class=\\\"\\\">Celebrate Labor Day by joining us on a special guided tour of the Mill that started the American Industrial Revolution. These 30 - 45 minute guided tours investigate the historical significance of Slater Mill, and what valuable lessons the building still teachings us.</p>\\n<h3 class=\\\"\\\" lang=\\\"EN-US\\\" xml:lang=\\\"EN-US\\\">Saturday, August 30, 2025</h3>\\n<h4 class=\\\"\\\" lang=\\\"EN-US\\\" xml:lang=\\\"EN-US\\\">10:30 AM: Not Child\\u2019s Play: The Story of Slater Mill</h4>\\n<p class=\\\"\\\" lang=\\\"EN-US\\\" xml:lang=\\\"EN-US\\\">Join a Park Ranger as we discuss the stories of the children who were the first workers at Old Slater Mill.</p>\\n<h4 class=\\\"\\\" lang=\\\"EN-US\\\" xml:lang=\\\"EN-US\\\">12:30 PM: The Cotton Economy</h4>\\n<p class=\\\"\\\" lang=\\\"EN-US\\\" xml:lang=\\\"EN-US\\\">Join a Park Ranger and learn about the close connections between the labor of enslaved peoples and the textile industry of the Blackstone River Valley.</p>\\n<h4 class=\\\"\\\" lang=\\\"EN-US\\\" xml:lang=\\\"EN-US\\\">2:30 PM: Women\\u2019s Work: Labor History at Old Slater Mill</h4>\\n<p class=\\\"\\\" lang=\\\"EN-US\\\" xml:lang=\\\"EN-US\\\">Join a Park Ranger for a discussion of the intersection between women\\u2019s history and labor history and Old Slater Mill.</p>\\n<h3 class=\\\"\\\" lang=\\\"EN-US\\\" xml:lang=\\\"EN-US\\\">Sunday, August 31, 2025</h3>\\n<h4 class=\\\"\\\" lang=\\\"EN-US\\\" xml:lang=\\\"EN-US\\\">10:30 AM: The Birthplace of America\\u2019s Working Class</h4>\\n<p class=\\\"\\\" lang=\\\"EN-US\\\" xml:lang=\\\"EN-US\\\">Join a Park Ranger for a discussion of the importance of Old Slater Mill and the birth of the American working class.</p>\\n<h4 lang=\\\"EN-US\\\" xml:lang=\\\"EN-US\\\">12:30 PM: The Cotton Economy</h4>\\n<p class=\\\"\\\" lang=\\\"EN-US\\\" xml:lang=\\\"EN-US\\\">Join a Park Ranger and learn about the close connections between the labor of enslaved peoples and the textile industry of the Blackstone River Valley.</p>\\n<h4 lang=\\\"EN-US\\\" xml:lang=\\\"EN-US\\\">2:30 PM: Human and Machine</h4>\\n<p lang=\\\"EN-US\\\" xml:lang=\\\"EN-US\\\">Join a Park Ranger for a deep dive into the collection of historic machinery at Old Slater Mill and the people who worked those machines.</p>\\n<h4 class=\\\"\\\" lang=\\\"EN-US\\\" xml:lang=\\\"EN-US\\\">Please note: Old Slater Mill is closed on Labor Day (Monday, September 1, 2025)</h4>\",\n",
      "            \"location\": \"67 Roosevelt Avenue, Pawtucket, RI 02860\",\n",
      "            \"dateStart\": \"\",\n",
      "            \"dateEnd\": \"\",\n",
      "            \"timeStart\": \"\",\n",
      "            \"timeEnd\": \"\",\n",
      "            \"feeInfo\": \"\",\n",
      "            \"isRecurring\": false,\n",
      "            \"parkCode\": \"\"\n",
      "        },\n",
      "        {\n",
      "            \"title\": \"Songwriters at Slater Mill\",\n",
      "            \"description\": \"<div data-ogsc=\\\"black\\\" data-olk-copy-source=\\\"MessageBody\\\">Join Allison Rose and J. Michael Graham for an afternoon of acoustic music along the Blackstone River! This free program will be hosted on the grounds of Old Slater Mill National Historic Landmark, located in Downtown Pawtucket.</div>\\n<div id=\\\"x_x_Signature\\\">\\n<div data-ogsc=\\\"black\\\">\\u00a0</div>\\n<div data-ogsc=\\\"black\\\">Songwriters at the Mill is part of the annual Pawtucket Arts Festival. National Park Service staff will also be on hand to provide\\u00a0<a id=\\\"LPlnk747698\\\" title=\\\"https://www.nps.gov/planyourvisit/event-details.htm?id=FFCB51A9-BEE1-CBE5-C0863B04B5DF1D5E\\\" href=\\\"https://www.nps.gov/planyourvisit/event-details.htm?id=FFCB51A9-BEE1-CBE5-C0863B04B5DF1D5E\\\" target=\\\"_blank\\\" rel=\\\"noopener noreferrer\\\" data-auth=\\\"NotApplicable\\\" data-linkindex=\\\"1\\\" data-ogsc=\\\"\\\">free specialty tours</a>\\u00a0of Slater Mill at 10:30 AM, 12:30 PM, and 2:30 PM.</div>\\n<div data-ogsc=\\\"black\\\">\\u00a0</div>\\n<div data-ogsc=\\\"black\\\">The Visitor Center will be open 10 AM - 4 PM.\\u00a0</div>\\n<div data-ogsc=\\\"black\\\">\\u00a0</div>\\n<div data-ogsc=\\\"rgb(200, 38, 19)\\\">\\u00a0</div>\\n<div data-ogsc=\\\"black\\\">Free\\u00a0and open to all and family friendly! Please bring your own chair or blanket. Limited seating available.\\u00a0</div>\\n</div>\",\n",
      "            \"location\": \"\",\n",
      "            \"dateStart\": \"\",\n",
      "            \"dateEnd\": \"\",\n",
      "            \"timeStart\": \"\",\n",
      "            \"timeEnd\": \"\",\n",
      "            \"feeInfo\": \"\",\n",
      "            \"isRecurring\": false,\n",
      "            \"parkCode\": \"\"\n",
      "        },\n",
      "        {\n",
      "            \"title\": \"New and Dangerous Opinions of Roger Williams\",\n",
      "            \"description\": \"<p><strong>Enjoy a free performance by the acclaimed Aurea Ensemble inside Slater Mill.</strong></p>\\n<p><em>Aurea members are equally inspired by each other\\u2019s artistry and seek to create a new genre of performance, melding words, and music thematically in a highly collaborative spirit.</em></p>\\n<p>The program \\u201cNew and Dangerous Opinions of Rogers Williams\\\" fuses writings of Roger Williams and Native American poetry, underscored by music of Handel, Orlando di Lasso, and Rhode Island\\u2019s own Chris Turner, and John Milton (whose son, the famous poet of the same name, was a friend and philosophical inspiration to Roger Williams.) This lively program, set in the dramatic political and philosophical fray of colonial RI, introduces audiences to the strong-minded iconoclast, Roger Williams and his deep respect for Native American culture.</p>\\n<p>Presented with special thanks to Blackstone River Valley National Historical Park, Blackstone River Valley National Heritage Corridor, and the Pawtucket Arts Festival.</p>\\n<p><strong>Important Information:</strong></p>\\n<p>This event is accessible.</p>\\n<p>The concert will be taking place inside of Slater Mill on the second floor. An elevator is available.</p>\\n<p><strong>R</strong><strong>egistration is required</strong>\\u00a0for this free concert. Seating is limited and it is likely to be a full house. If you are unable to attend please cancel your registration on Eventbrite as soon as possible.</p>\\n<p><strong>On the day of the event,</strong><strong>\\u00a0</strong>doors open at 3:30pm, and you will forfeit your seat if have not checked in by 3:45. There will be a wait list sign-in at the door for those who did not register and hoping to attend. Thank you.</p>\\n<p>The doors will be shut at 4:00 PM for the beginning of the performance.</p>\\n<p>Learn more about Aurea here:\\u00a0<a title=\\\"https://aureaensemble.org/\\\" href=\\\"https://aureaensemble.org/\\\" target=\\\"_blank\\\" rel=\\\"nofollow noopener noreferrer\\\" data-msys-clicktrack=\\\"0\\\">https://aureaensemble.org/</a></p>\",\n",
      "            \"location\": \"67 Roosevelt Avenue, Pawtucket, RI 02860\",\n",
      "            \"dateStart\": \"\",\n",
      "            \"dateEnd\": \"\",\n",
      "            \"timeStart\": \"\",\n",
      "            \"timeEnd\": \"\",\n",
      "            \"feeInfo\": \"\",\n",
      "            \"isRecurring\": false,\n",
      "            \"parkCode\": \"\"\n",
      "        }\n",
      "    ]\n",
      "}\n",
      "\n",
      "--- Output Item 4 ---\n",
      "Output type: mcp_call\n",
      "\n",
      "🛠️  MCP Tool Call: get_park_events\n",
      "   Server: National Parks Service tools\n",
      "   ID: call_aBoptZdZ5lJNlIo93ReB3goW\n",
      "   Arguments: {\"park_code\": \"rowi\", \"limit\": 10}\n",
      "Output:\n",
      "{\n",
      "    \"parkCode\": \"ROWI\",\n",
      "    \"totalEvents\": 5,\n",
      "    \"events\": [\n",
      "        {\n",
      "            \"title\": \"Roger Williams: The Separation of Church and State\",\n",
      "            \"description\": \"<p>A cornerstone of our democracy, Roger Williams established a clear limit to government authority. Join a National Park Service ranger as we explore the principles of freedom put into practice by Roger Williams and that changed the course of history.</p>\\n<p>The National Park Service is America's largest classroom. These free programs are part of a comprehenisve experience about Roger Williams's contributions to the principles of freedom in America today. Explore your National Memorial today!\\u00a0</p>\",\n",
      "            \"location\": \"The program begins at the historical well\",\n",
      "            \"dateStart\": \"\",\n",
      "            \"dateEnd\": \"\",\n",
      "            \"timeStart\": \"\",\n",
      "            \"timeEnd\": \"\",\n",
      "            \"feeInfo\": \"\",\n",
      "            \"isRecurring\": false,\n",
      "            \"parkCode\": \"\"\n",
      "        },\n",
      "        {\n",
      "            \"title\": \"Roger Williams: The Separation of Church and State\",\n",
      "            \"description\": \"<p>A cornerstone of our democracy, Roger Williams established a clear limit to government authority. Join a National Park Service ranger as we explore the principles of freedom put into practice by Roger Williams and that changed\\u00a0the\\u00a0course of history.</p>\\n<p>The National Park Service is America's largest classroom. These free programs are part of a comprehenisve experience about Roger Williams's contributions to the principles of freedom in America today. Explore your National Memorial today!\\u00a0</p>\",\n",
      "            \"location\": \"\",\n",
      "            \"dateStart\": \"\",\n",
      "            \"dateEnd\": \"\",\n",
      "            \"timeStart\": \"\",\n",
      "            \"timeEnd\": \"\",\n",
      "            \"feeInfo\": \"\",\n",
      "            \"isRecurring\": false,\n",
      "            \"parkCode\": \"\"\n",
      "        },\n",
      "        {\n",
      "            \"title\": \"Lunchtime Arts in the Park\",\n",
      "            \"description\": \"<p><strong>The Same Thing Project </strong>is a \\u201ccommunity songwriting\\u201d workshop for people from all walks of life. Musicians, artists, students, teachers, retired folks, neurodiverse, differently-abled, blue and white-collar workers participate every week in writing a song. The Same Thing Project provides a place where you don\\u2019t have to be skilled at a musical instrument in order to be musical. It\\u2019s a space where you can be part of a creative community that is open, nonjudgmental and encouraging. \\u00a0Connection is created and isolation is reduced.</p>\",\n",
      "            \"location\": \"\",\n",
      "            \"dateStart\": \"\",\n",
      "            \"dateEnd\": \"\",\n",
      "            \"timeStart\": \"\",\n",
      "            \"timeEnd\": \"\",\n",
      "            \"feeInfo\": \"\",\n",
      "            \"isRecurring\": false,\n",
      "            \"parkCode\": \"\"\n",
      "        },\n",
      "        {\n",
      "            \"title\": \"Roger Williams National Memorial 60th Anniversary Celebration\",\n",
      "            \"description\": \"<p>Join us as we celebrate the 60th Anniversary of the establishment of Roger Williams National Memorial. There will be remarks, musical performances, and a look into one of our newest programs (still in development) about the first steward of the land that was to become the National Memorial. This program is called, The Hahn's of Providence, A Memorial Legacy. This program was made possible in part by the National Parks Foundation.</p>\",\n",
      "            \"location\": \"\",\n",
      "            \"dateStart\": \"\",\n",
      "            \"dateEnd\": \"\",\n",
      "            \"timeStart\": \"\",\n",
      "            \"timeEnd\": \"\",\n",
      "            \"feeInfo\": \"\",\n",
      "            \"isRecurring\": false,\n",
      "            \"parkCode\": \"\"\n",
      "        },\n",
      "        {\n",
      "            \"title\": \"Trivia Night!\",\n",
      "            \"description\": \"<p>Join us for Trivia Night at Roger Williams National Memorial!</p>\\n<p>This family-friendly event will be held outdoors, weather permitting. Bring your own food, non-alcoholic drinks, and blankets or chairs. Dogs are welcome on a leash. Come with a team or join one when you get here!</p>\\n<p>Roger Williams National Memorial is located at 282 North Main Street in Providence.\\u00a0</p>\",\n",
      "            \"location\": \"\",\n",
      "            \"dateStart\": \"\",\n",
      "            \"dateEnd\": \"\",\n",
      "            \"timeStart\": \"\",\n",
      "            \"timeEnd\": \"\",\n",
      "            \"feeInfo\": \"\",\n",
      "            \"isRecurring\": false,\n",
      "            \"parkCode\": \"\"\n",
      "        }\n",
      "    ]\n",
      "}\n",
      "\n",
      "--- Output Item 5 ---\n",
      "Output type: mcp_call\n",
      "\n",
      "🛠️  MCP Tool Call: get_park_events\n",
      "   Server: National Parks Service tools\n",
      "   ID: call_UTHfVzTYOB2jLAaDvry0IcpQ\n",
      "   Arguments: {\"park_code\": \"tosy\", \"limit\": 10}\n",
      "Output:\n",
      "{\n",
      "    \"parkCode\": \"TOSY\",\n",
      "    \"message\": \"No upcoming events found for this park\"\n",
      "}\n",
      "\n",
      "--- Output Item 6 ---\n",
      "Output type: mcp_call\n",
      "\n",
      "🛠️  MCP Tool Call: get_park_events\n",
      "   Server: National Parks Service tools\n",
      "   ID: call_hK6S3wkhJZI0w3nxUykIrdQl\n",
      "   Arguments: {\"park_code\": \"waro\", \"limit\": 10}\n",
      "Output:\n",
      "{\n",
      "    \"parkCode\": \"WARO\",\n",
      "    \"message\": \"No upcoming events found for this park\"\n",
      "}\n",
      "\n",
      "--- Output Item 7 ---\n",
      "Output type: message\n",
      "Response content: Here are some parks in Rhode Island, along with their upcoming events:\n",
      "\n",
      "### 1. Blackstone River Valley National Historical Park\n",
      "- **Description:** This park highlights the Blackstone River, which powered America into industrialization, starting with Samuel Slater's cotton spinning mill in Pawtucket, RI.\n",
      "- **Website:** [Visit here](https://www.nps.gov/blrv/index.htm)\n",
      "\n",
      "**Upcoming Events:**\n",
      "- **Old Slater Mill Tour:** Join a ranger for a 30-minute tour of Slater Mill, the cradle of the American Industrial Revolution.\n",
      "- **Ranger Walkabout (various topics):** Special tours across the Blackstone River Watershed during summer evenings.\n",
      "- **Take Me Fishing Day:** A free fishing program held on August 24, 2025, at the Blackstone River State Park.\n",
      "\n",
      "### 2. Roger Williams National Memorial\n",
      "- **Description:** Celebrates Roger Williams, who founded Providence in 1636, embodying principles of religious freedom.\n",
      "- **Website:** [Visit here](https://www.nps.gov/rowi/index.htm)\n",
      "\n",
      "**Upcoming Events:**\n",
      "- **Roger Williams: The Separation of Church and State:** Explore how Roger Williams pioneered limits on government authority.\n",
      "- **Lunchtime Arts in the Park:** A community songwriting workshop for people of all abilities.\n",
      "- **Trivia Night:** Family-friendly outdoor trivia at the memorial.\n",
      "\n",
      "### 3. Touro Synagogue National Historic Site\n",
      "- **Description:** This is one of America's most historically significant Jewish buildings, dedicated in 1763. It hosts over 30,000 visitors each year.\n",
      "- **Website:** [Visit here](https://www.nps.gov/tosy/index.htm)\n",
      "\n",
      "**Upcoming Events:**\n",
      "- No upcoming events found.\n",
      "\n",
      "### 4. Washington-Rochambeau Revolutionary Route National Historic Trail\n",
      "- **Description:** This trail marks the route taken by General Rochambeau to Victory in the Yorktown Campaign aiding the American Revolution.\n",
      "- **Website:** [Visit here](https://www.nps.gov/waro/index.htm)\n",
      "\n",
      "**Upcoming Events:**\n",
      "- No upcoming events found.\n",
      "\n",
      "Each of these parks offers unique experiences and insights into American history, with various events to engage visitors.\n"
     ]
    }
   ],
   "source": [
    "print_response(complex_openai_client_response)"
   ]
  },
  {
   "cell_type": "markdown",
   "id": "4450adfd",
   "metadata": {},
   "source": [
    "As you can see, we get the same results here that we did with the Llama Stack client, as you would expect since we're calling the same Llama Stack server with the same arguments."
   ]
  },
  {
   "cell_type": "markdown",
   "id": "9e6ff2d4",
   "metadata": {},
   "source": [
    "## LangChain\n",
    "\n",
    "Both of the examples above are using clients that directly mirror the Responses API.  That means you have complete control over and visibility into exactly what's going into the API and exactly what's coming out of the API.  That can be useful and powerful, but it can also be a little complicated and tedious.  A lot of users prefer to use a framework that provides higher level abstractions.  Examples of such frameworks include LangChain, LangGraph, LlamaIndex, Haystack, and many more.\n",
    "\n",
    "Here we configure LangChain with `use_responses_api` so it will use the same Responses API that we use above.  However, it hides a lot of the details of that API making the code simpler."
   ]
  },
  {
   "cell_type": "code",
   "execution_count": 25,
   "id": "3550d1f3",
   "metadata": {},
   "outputs": [],
   "source": [
    "from langchain_openai import ChatOpenAI\n",
    "\n",
    "# Pointing to your local Responses API server\n",
    "llm = ChatOpenAI(\n",
    "    model=LLAMA_STACK_MODEL_ID,\n",
    "    base_url=LLAMA_STACK_URL + \"v1/openai/v1\", # This suffix gets to the part of the URL that is specific to the OpenAI API, which you need here since you are using the OpenAI client.,\n",
    "    use_responses_api=True\n",
    ")"
   ]
  },
  {
   "cell_type": "code",
   "execution_count": 26,
   "id": "00bc7f4b",
   "metadata": {},
   "outputs": [
    {
     "name": "stderr",
     "output_type": "stream",
     "text": [
      "INFO:httpx:HTTP Request: POST http://localhost:8321/v1/openai/v1/responses \"HTTP/1.1 200 OK\"\n"
     ]
    },
    {
     "name": "stdout",
     "output_type": "stream",
     "text": [
      "[{'type': 'text', 'text': 'The capital of France is Paris.', 'annotations': []}]\n"
     ]
    }
   ],
   "source": [
    "langchain_simple_response = llm.invoke(\"What is the capital of France?\")\n",
    "print(langchain_simple_response.content)"
   ]
  },
  {
   "cell_type": "markdown",
   "id": "4a4bb3b8",
   "metadata": {},
   "source": [
    "There is a lot more that can be done with LangChain and packages like langchain_mcp_adapters to allow you to use MCP tools with LangChain, but a deeper dive into LangChain is beyond the scope of this document.  The key point here is that if you want a higher level framework with more abstract concepts, LangChain can be a good fit for that purpose, and you can point it at your Llama Stack server and have it use the Responses API."
   ]
  }
 ],
 "metadata": {
  "kernelspec": {
   "display_name": "venv-3_12_9",
   "language": "python",
   "name": "python3"
  },
  "language_info": {
   "codemirror_mode": {
    "name": "ipython",
    "version": 3
   },
   "file_extension": ".py",
   "mimetype": "text/x-python",
   "name": "python",
   "nbconvert_exporter": "python",
   "pygments_lexer": "ipython3",
   "version": "3.12.9"
  }
 },
 "nbformat": 4,
 "nbformat_minor": 5
}
